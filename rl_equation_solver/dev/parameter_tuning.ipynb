{
 "cells": [
  {
   "cell_type": "code",
   "execution_count": null,
   "id": "fccf727b",
   "metadata": {},
   "outputs": [],
   "source": [
    "%load_ext autoreload\n",
    "%autoreload 2"
   ]
  },
  {
   "cell_type": "code",
   "execution_count": null,
   "id": "4d02f3b8",
   "metadata": {},
   "outputs": [],
   "source": [
    "import rl_equation_solver\n",
    "from rl_equation_solver.environment.algebraic import Env\n",
    "from rl_equation_solver.agent.dqn import Agent as AgentDQN\n",
    "from rl_equation_solver.agent.gcn import Agent as AgentGCN\n",
    "from rl_equation_solver.agent.lstm import Agent as AgentLSTM\n",
    "from rl_equation_solver.utilities import utilities\n",
    "from rl_equation_solver.utilities.utilities import GraphEmbedding\n",
    "import networkx as nx\n",
    "import numpy as np\n",
    "import matplotlib.pyplot as plt\n",
    "from rex import init_logger\n",
    "from sympy import (\n",
    "    symbols,\n",
    "    sqrt,\n",
    "    simplify,\n",
    "    expand,\n",
    "    nsimplify,\n",
    "    parse_expr,\n",
    "    sympify,\n",
    ")\n",
    "import sympy\n",
    "import cProfile, pstats, io\n",
    "from pstats import SortKey"
   ]
  },
  {
   "cell_type": "code",
   "execution_count": null,
   "id": "ae10142f",
   "metadata": {},
   "outputs": [],
   "source": [
    "init_logger(__name__, log_level=\"INFO\")\n",
    "init_logger(\"rl_equation_solver\", log_level=\"INFO\")"
   ]
  },
  {
   "attachments": {},
   "cell_type": "markdown",
   "id": "0af5a716",
   "metadata": {},
   "source": [
    "## Run agent until solution is found a single time for sets of hyperparameters ##"
   ]
  },
  {
   "cell_type": "code",
   "execution_count": null,
   "id": "a33a8aee",
   "metadata": {},
   "outputs": [],
   "source": [
    "from concurrent.futures import ThreadPoolExecutor, as_completed\n",
    "import itertools\n",
    "\n",
    "soln_steps = {}\n",
    "configs = {}\n",
    "taus = [0.7, 0.85, 1.0]\n",
    "gammas = [0.7, 0.8, 0.9]\n",
    "eps_start = [0.9, 0.7, 0.5]\n",
    "eps_decay_steps = [100, 500, 1000]\n",
    "eps_end = [0.2, 0.1, 0.05, 0.01]\n",
    "batch_size = [16, 32, 64]\n",
    "run_number = 20\n",
    "max_workers = 64\n",
    "\n",
    "combos = list(\n",
    "    itertools.product(\n",
    "        *[taus, gammas, eps_start, eps_decay_steps, eps_end, batch_size]\n",
    "    )\n",
    ")\n",
    "for i, combo in enumerate(combos):\n",
    "    configs[i] = {\n",
    "        key: val\n",
    "        for key, val in zip(\n",
    "            [\n",
    "                \"tau\",\n",
    "                \"gamma\",\n",
    "                \"eps_start\",\n",
    "                \"eps_decay_steps\",\n",
    "                \"eps_end\",\n",
    "                \"batch_size\",\n",
    "            ],\n",
    "            combo,\n",
    "        )\n",
    "    }\n",
    "\n",
    "for i in range(len(configs)):\n",
    "    soln_steps[i] = [0] * run_number\n",
    "\n",
    "\n",
    "def find_soln(i, j):\n",
    "    config = configs[i]\n",
    "    env = Env(order=2, config={\"reward_function\": \"diff_loss_reward\"})\n",
    "    agent = AgentGCN(env, device=\"cuda:0\", config=config)\n",
    "    agent.train(1)\n",
    "    soln_steps[i][j] = env.loop_step\n",
    "\n",
    "\n",
    "def run_pool():\n",
    "    futures = {}\n",
    "    with ThreadPoolExecutor(max_workers=max_workers) as pool:\n",
    "        for i in range(len(configs)):\n",
    "            for j in range(run_number):\n",
    "                future = pool.submit(find_soln, i, j)\n",
    "                futures[future] = (i, j)\n",
    "\n",
    "        for _, future in enumerate(as_completed(futures)):\n",
    "            _ = future.result()\n",
    "            i, j = futures[future]\n",
    "            print(f\"future {(i, j)} completed\")"
   ]
  },
  {
   "cell_type": "code",
   "execution_count": null,
   "id": "4d3d1f3d",
   "metadata": {},
   "outputs": [],
   "source": [
    "run_pool()"
   ]
  },
  {
   "cell_type": "code",
   "execution_count": null,
   "id": "69073603",
   "metadata": {},
   "outputs": [],
   "source": [
    "fig, ax = plt.subplots(1, 1, figsize=(10, 8))\n",
    "for i, config in configs.items():\n",
    "    ax.plot(soln_steps[i], label=str(config))\n",
    "ax.set_ylabel(\"Steps to solution\")\n",
    "ax.set_xlabel(\"Run number\")\n",
    "plt.legend()"
   ]
  },
  {
   "cell_type": "code",
   "execution_count": null,
   "id": "65d24f54",
   "metadata": {},
   "outputs": [],
   "source": [
    "avgs = {k: np.mean(soln_steps[k]) for k in soln_steps}"
   ]
  },
  {
   "cell_type": "code",
   "execution_count": null,
   "id": "f1c2d0af",
   "metadata": {},
   "outputs": [],
   "source": [
    "configs[np.argmin(list(avgs.values()))]"
   ]
  },
  {
   "cell_type": "code",
   "execution_count": null,
   "id": "8cf52603",
   "metadata": {},
   "outputs": [],
   "source": []
  }
 ],
 "metadata": {
  "kernelspec": {
   "display_name": "ML_algebra",
   "language": "python",
   "name": "python3"
  },
  "language_info": {
   "codemirror_mode": {
    "name": "ipython",
    "version": 3
   },
   "file_extension": ".py",
   "mimetype": "text/x-python",
   "name": "python",
   "nbconvert_exporter": "python",
   "pygments_lexer": "ipython3",
   "version": "3.11.2"
  },
  "vscode": {
   "interpreter": {
    "hash": "0ce1a643ee56093b1be82db4e97db7e5d1a45bca875c4073dec42b817d93e5d8"
   }
  }
 },
 "nbformat": 4,
 "nbformat_minor": 5
}
