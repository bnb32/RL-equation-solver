{
 "cells": [
  {
   "cell_type": "code",
   "execution_count": 1,
   "id": "fccf727b",
   "metadata": {},
   "outputs": [],
   "source": [
    "%load_ext autoreload\n",
    "%autoreload 2"
   ]
  },
  {
   "cell_type": "code",
   "execution_count": 2,
   "id": "4d02f3b8",
   "metadata": {},
   "outputs": [],
   "source": [
    "import rl_equation_solver\n",
    "from rl_equation_solver.environment.algebraic import Env\n",
    "from rl_equation_solver.agent.dqn import Agent as AgentDQN\n",
    "from rl_equation_solver.agent.gcn import Agent as AgentGCN\n",
    "from rl_equation_solver.agent.lstm import Agent as AgentLSTM\n",
    "from rl_equation_solver.utilities import utilities\n",
    "from rl_equation_solver.utilities.utilities import GraphEmbedding\n",
    "import networkx as nx\n",
    "import numpy as np\n",
    "import matplotlib.pyplot as plt\n",
    "from rex import init_logger\n",
    "from sympy import symbols, sqrt, simplify, expand, nsimplify, parse_expr, sympify\n",
    "import sympy\n",
    "import cProfile, pstats, io\n",
    "from pstats import SortKey"
   ]
  },
  {
   "cell_type": "code",
   "execution_count": 3,
   "id": "ae10142f",
   "metadata": {},
   "outputs": [
    {
     "data": {
      "text/plain": [
       "<Logger rl_equation_solver (INFO)>"
      ]
     },
     "execution_count": 3,
     "metadata": {},
     "output_type": "execute_result"
    }
   ],
   "source": [
    "init_logger(__name__, log_level='INFO')\n",
    "init_logger('rl_equation_solver', log_level=\"INFO\")"
   ]
  },
  {
   "cell_type": "code",
   "execution_count": 4,
   "id": "be013bcb",
   "metadata": {},
   "outputs": [],
   "source": [
    "# plot reward distribution\n",
    "def plot_reward_dist(env):\n",
    "    _, ax = plt.subplots(1, 1)\n",
    "    ax.hist(env.best_history['reward'])\n",
    "    ax.set_ylabel('Count')\n",
    "    ax.set_xlabel('Reward')\n",
    "    plt.show()\n",
    "\n",
    "# plot complexity, loss, reward\n",
    "def plot_trends(env):\n",
    "    fig, axes = plt.subplots(2, 2, figsize=(10, 8))\n",
    "    ax = axes.flatten()\n",
    "    history = env.total_history\n",
    "    x = np.arange(len(history['ep']))\n",
    "    \n",
    "    y = history['complexity']\n",
    "    a, b = np.polyfit(x, y, 1)\n",
    "    ax[0].scatter(x, y)\n",
    "    ax[0].plot(a*x + b, color='r')\n",
    "    \n",
    "    y = history['loss']\n",
    "    mask = np.array([i for i, v in enumerate(y) if not np.isnan(v)])\n",
    "    mask = slice(mask[0], mask[-1] + 1)\n",
    "    a, b = np.polyfit(x[mask], y[mask], 1)\n",
    "    ax[1].scatter(x[mask], y[mask])\n",
    "    ax[1].plot(x[mask], a*x[mask] + b, color='r')\n",
    "    \n",
    "    y = history['reward']\n",
    "    a, b = np.polyfit(x, y, 1)\n",
    "    ax[2].scatter(x, y)\n",
    "    ax[2].plot(a*x + b, color='r')\n",
    "\n",
    "    y = history['loop_step']\n",
    "    a, b = np.polyfit(x, y, 1)\n",
    "    ax[3].scatter(x, y)\n",
    "    ax[3].plot(a*x + b, color='r')\n",
    "    \n",
    "    ax[0].set_title('Complexity')\n",
    "    ax[1].set_title('Loss')\n",
    "    ax[2].set_title('Reward')\n",
    "    ax[3].set_title('Steps')\n",
    "\n",
    "    \n",
    "    plt.show()\n",
    "    "
   ]
  },
  {
   "attachments": {},
   "cell_type": "markdown",
   "id": "f85f9cda",
   "metadata": {},
   "source": [
    "## Initialize Env and Agent ##\n",
    "### Agent can be AgentGCN, AgentLSTM, AgentDQN ###"
   ]
  },
  {
   "cell_type": "code",
   "execution_count": 5,
   "id": "15cbb9a6",
   "metadata": {},
   "outputs": [
    {
     "name": "stdout",
     "output_type": "stream",
     "text": [
      "INFO - 2023-04-21 14:39:46,661 [algebraic.py:106] : Initializing environment with order=2, |S| = 11 x 128 = 1408\n",
      "INFO - 2023-04-21 14:39:46,661 [algebraic.py:109] : Using reward function: diff_loss_reward.\n",
      "INFO - 2023-04-21 14:39:46,661 [base.py:71] : Initialized Agent with config: {'batch_size': 64, 'gamma': 0.9, 'eps_start': 0.9, 'eps_end': 0.05, 'eps_decay_steps': 1000, 'eps_decay': None, 'epsilon_threshold': None, 'tau': 0.05, 'learning_rate': 0.0003, 'hidden_size': 64, 'memory_cap': 10000, 'fill_memory_steps': 100, 'reset_steps': 100, 'state_dim': 128, 'feature_num': 100, 'grad_clip': 10, 'reward_function': 'diff_loss_reward', 'max_solution_steps': 10000}\n",
      "INFO - 2023-04-21 14:39:47,869 [gcn.py:37] : Initialized Agent with device cuda:0\n"
     ]
    }
   ],
   "source": [
    "env = Env(order=2, config={'reward_function': 'diff_loss_reward', 'fill_memory_steps': 100})\n",
    "agent = AgentGCN(env, device='cuda:0')#, config={'tau': 0.05, 'eps_end': 0.05})"
   ]
  },
  {
   "attachments": {},
   "cell_type": "markdown",
   "id": "0f5a40c6",
   "metadata": {},
   "source": [
    "## Train Agent ##"
   ]
  },
  {
   "cell_type": "code",
   "execution_count": 6,
   "id": "17ec5b9b",
   "metadata": {},
   "outputs": [
    {
     "name": "stdout",
     "output_type": "stream",
     "text": [
      "INFO - 2023-04-21 14:39:49,661 [base.py:211] : Running training routine for 10 episodes in eval=False mode.\n"
     ]
    },
    {
     "name": "stderr",
     "output_type": "stream",
     "text": [
      "{'ep': '0   ', 'step': '175 ', 'loop_step': '175 ', 'complexity': '1.80e+01 ', 'loss': '4.51e+00 ', 'reward': '-9.00e+00', 'state': '0                   ', 'next_state': '-a1                 '}: : 0it [00:21, ?it/s]"
     ]
    },
    {
     "name": "stdout",
     "output_type": "stream",
     "text": [
      "INFO - 2023-04-21 14:40:11,533 [algebraic.py:457] : {'ep': '0   ', 'step': '176 ', 'loop_step': '176 ', 'complexity': '0.00e+00 ', 'loss': '4.51e+00 ', 'reward': '1.86e+01 ', 'state': '-a1                 ', 'next_state': '-a1/a0              '}\n"
     ]
    },
    {
     "name": "stderr",
     "output_type": "stream",
     "text": [
      "{'ep': '1   ', 'step': '228 ', 'loop_step': '51  ', 'complexity': '1.80e+01 ', 'loss': '3.97e+00 ', 'reward': '-9.00e+00', 'state': '0                   ', 'next_state': '-a1                 '}: : 1it [00:30, 21.96s/it]"
     ]
    },
    {
     "name": "stdout",
     "output_type": "stream",
     "text": [
      "INFO - 2023-04-21 14:40:20,133 [algebraic.py:457] : {'ep': '1   ', 'step': '229 ', 'loop_step': '52  ', 'complexity': '0.00e+00 ', 'loss': '3.97e+00 ', 'reward': '1.99e+01 ', 'state': '-a1                 ', 'next_state': '-a1/a0              '}\n"
     ]
    },
    {
     "name": "stderr",
     "output_type": "stream",
     "text": [
      "{'ep': '2   ', 'step': '483 ', 'loop_step': '253 ', 'complexity': '1.80e+01 ', 'loss': '4.64e+00 ', 'reward': '-9.00e+00', 'state': '0                   ', 'next_state': '-a1                 '}: : 2it [01:12, 14.10s/it]"
     ]
    },
    {
     "name": "stdout",
     "output_type": "stream",
     "text": [
      "INFO - 2023-04-21 14:41:01,915 [algebraic.py:457] : {'ep': '2   ', 'step': '484 ', 'loop_step': '254 ', 'complexity': '0.00e+00 ', 'loss': '4.64e+00 ', 'reward': '1.84e+01 ', 'state': '-a1                 ', 'next_state': '-a1/a0              '}\n"
     ]
    },
    {
     "name": "stderr",
     "output_type": "stream",
     "text": [
      "{'ep': '3   ', 'step': '725 ', 'loop_step': '240 ', 'complexity': '1.80e+01 ', 'loss': '4.70e+00 ', 'reward': '-9.00e+00', 'state': '0                   ', 'next_state': '-a1                 '}: : 3it [01:52, 26.75s/it]"
     ]
    },
    {
     "name": "stdout",
     "output_type": "stream",
     "text": [
      "INFO - 2023-04-21 14:41:42,460 [algebraic.py:457] : {'ep': '3   ', 'step': '726 ', 'loop_step': '241 ', 'complexity': '0.00e+00 ', 'loss': '4.70e+00 ', 'reward': '1.84e+01 ', 'state': '-a1                 ', 'next_state': '-a1/a0              '}\n"
     ]
    },
    {
     "name": "stderr",
     "output_type": "stream",
     "text": [
      "{'ep': '4   ', 'step': '801 ', 'loop_step': '74  ', 'complexity': '1.80e+01 ', 'loss': '5.80e+00 ', 'reward': '-9.00e+00', 'state': '0                   ', 'next_state': '-a1                 '}: : 4it [02:05, 32.20s/it]"
     ]
    },
    {
     "name": "stdout",
     "output_type": "stream",
     "text": [
      "INFO - 2023-04-21 14:41:55,004 [algebraic.py:457] : {'ep': '4   ', 'step': '802 ', 'loop_step': '75  ', 'complexity': '0.00e+00 ', 'loss': '5.80e+00 ', 'reward': '1.93e+01 ', 'state': '-a1                 ', 'next_state': '-a1/a0              '}\n"
     ]
    },
    {
     "name": "stderr",
     "output_type": "stream",
     "text": [
      "{'ep': '5   ', 'step': '1069', 'loop_step': '266 ', 'complexity': '1.80e+01 ', 'loss': '4.75e+00 ', 'reward': '-9.00e+00', 'state': '0                   ', 'next_state': '-a1                 '}: : 5it [02:51, 25.10s/it]"
     ]
    },
    {
     "name": "stdout",
     "output_type": "stream",
     "text": [
      "INFO - 2023-04-21 14:42:40,870 [algebraic.py:457] : {'ep': '5   ', 'step': '1070', 'loop_step': '267 ', 'complexity': '0.00e+00 ', 'loss': '4.75e+00 ', 'reward': '1.84e+01 ', 'state': '-a1                 ', 'next_state': '-a1/a0              '}\n"
     ]
    },
    {
     "name": "stderr",
     "output_type": "stream",
     "text": [
      "{'ep': '6   ', 'step': '1136', 'loop_step': '65  ', 'complexity': '1.80e+01 ', 'loss': '5.38e+00 ', 'reward': '-9.00e+00', 'state': '0                   ', 'next_state': '-a1                 '}: : 6it [03:02, 32.16s/it]"
     ]
    },
    {
     "name": "stdout",
     "output_type": "stream",
     "text": [
      "INFO - 2023-04-21 14:42:52,156 [algebraic.py:457] : {'ep': '6   ', 'step': '1137', 'loop_step': '66  ', 'complexity': '0.00e+00 ', 'loss': '5.38e+00 ', 'reward': '1.95e+01 ', 'state': '-a1                 ', 'next_state': '-a1/a0              '}\n"
     ]
    },
    {
     "name": "stderr",
     "output_type": "stream",
     "text": [
      "{'ep': '7   ', 'step': '1982', 'loop_step': '844 ', 'complexity': '1.80e+01 ', 'loss': '9.34e+00 ', 'reward': '-9.00e+00', 'state': '0                   ', 'next_state': '-a1                 '}: : 7it [05:28, 25.34s/it]"
     ]
    },
    {
     "name": "stdout",
     "output_type": "stream",
     "text": [
      "INFO - 2023-04-21 14:45:18,625 [algebraic.py:457] : {'ep': '7   ', 'step': '1983', 'loop_step': '845 ', 'complexity': '0.00e+00 ', 'loss': '9.34e+00 ', 'reward': '1.81e+01 ', 'state': '-a1                 ', 'next_state': '-a1/a0              '}\n"
     ]
    },
    {
     "name": "stderr",
     "output_type": "stream",
     "text": [
      "{'ep': '8   ', 'step': '2459', 'loop_step': '475 ', 'complexity': '1.80e+01 ', 'loss': '1.26e+01 ', 'reward': '-9.00e+00', 'state': '0                   ', 'next_state': '-a1                 '}: : 8it [06:41, 63.90s/it]"
     ]
    },
    {
     "name": "stdout",
     "output_type": "stream",
     "text": [
      "INFO - 2023-04-21 14:46:31,197 [algebraic.py:457] : {'ep': '8   ', 'step': '2460', 'loop_step': '476 ', 'complexity': '0.00e+00 ', 'loss': '1.26e+01 ', 'reward': '1.82e+01 ', 'state': '-a1                 ', 'next_state': '-a1/a0              '}\n"
     ]
    },
    {
     "name": "stderr",
     "output_type": "stream",
     "text": [
      "{'ep': '9   ', 'step': '2843', 'loop_step': '382 ', 'complexity': '5.40e+01 ', 'loss': '2.00e+01 ', 'reward': '-1.00e+00', 'state': '0                   ', 'next_state': '0                   '}: : 9it [07:39, 66.61s/it]"
     ]
    }
   ],
   "source": [
    "for _ in range(1):\n",
    "    agent.train(10)"
   ]
  },
  {
   "cell_type": "code",
   "execution_count": 7,
   "id": "d5663289",
   "metadata": {},
   "outputs": [
    {
     "data": {
      "text/plain": [
       "tensor([[ 2.8291,  6.7516,  6.8341, -1.2005,  4.7005,  5.2551, 21.3873, 11.1711,\n",
       "          5.2998, 10.0562,  9.2158]], device='cuda:0', grad_fn=<MmBackward0>)"
      ]
     },
     "execution_count": 7,
     "metadata": {},
     "output_type": "execute_result"
    }
   ],
   "source": [
    "agent.policy_network(agent.convert_state(parse_expr('0')))"
   ]
  },
  {
   "cell_type": "code",
   "execution_count": 8,
   "id": "0c57fec0",
   "metadata": {},
   "outputs": [
    {
     "data": {
      "text/plain": [
       "tensor([[3.3148, 6.4129, 5.8633, 1.0329, 4.1660, 3.5653, 9.1069, 5.5885, 4.2050,\n",
       "         5.3283, 5.2826]], device='cuda:0', grad_fn=<MmBackward0>)"
      ]
     },
     "execution_count": 8,
     "metadata": {},
     "output_type": "execute_result"
    }
   ],
   "source": [
    "agent.policy_network(agent.convert_state(parse_expr('-a1')))"
   ]
  },
  {
   "cell_type": "code",
   "execution_count": 9,
   "id": "13d0d2be",
   "metadata": {},
   "outputs": [],
   "source": [
    "env.epsilon_threshold"
   ]
  },
  {
   "attachments": {},
   "cell_type": "markdown",
   "id": "79e9b973",
   "metadata": {},
   "source": [
    "## Plot Reward Distribution ##"
   ]
  },
  {
   "cell_type": "code",
   "execution_count": 10,
   "id": "75e35292",
   "metadata": {},
   "outputs": [
    {
     "data": {
      "image/png": "[encoded data removed]",
      "text/plain": [
       "<Figure size 640x480 with 1 Axes>"
      ]
     },
     "metadata": {},
     "output_type": "display_data"
    }
   ],
   "source": [
    "plot_reward_dist(env)"
   ]
  },
  {
   "attachments": {},
   "cell_type": "markdown",
   "id": "9fe8fd95",
   "metadata": {},
   "source": [
    "## Plot complexity, loss, and reward trend ##"
   ]
  },
  {
   "cell_type": "code",
   "execution_count": 11,
   "id": "a9ef4209",
   "metadata": {},
   "outputs": [
    {
     "data": {
      "image/png": "[encoded data removed]",
      "text/plain": [
       "<Figure size 1000x800 with 4 Axes>"
      ]
     },
     "metadata": {},
     "output_type": "display_data"
    }
   ],
   "source": [
    "plot_trends(env)\n"
   ]
  },
  {
   "attachments": {},
   "cell_type": "markdown",
   "id": "a8d78f8e",
   "metadata": {},
   "source": [
    "## Run trained agent in eval mode ##"
   ]
  },
  {
   "cell_type": "code",
   "execution_count": 45,
   "id": "d06d4062",
   "metadata": {},
   "outputs": [
    {
     "name": "stdout",
     "output_type": "stream",
     "text": [
      "INFO - 2023-04-21 07:54:30,374 [base.py:74] : Initialized Agent with config: {'batch_size': 64, 'gamma': 0.9, 'eps_start': 0.9, 'eps_end': 0.05, 'eps_decay_steps': 1000, 'eps_decay': None, 'epsilon_threshold': 0.1, 'tau': 1, 'learning_rate': 0.0003, 'hidden_size': 64, 'memory_cap': 10000, 'fill_memory_steps': 100, 'reset_steps': 100, 'state_dim': 128, 'feature_num': 100, 'grad_clip': 100, 'reward_function': 'diff_loss_reward', 'max_solution_steps': 10000}\n"
     ]
    }
   ],
   "source": [
    "agent.update_config(config={'epsilon_threshold': 0.1})"
   ]
  },
  {
   "cell_type": "code",
   "execution_count": 30,
   "id": "c5f64bf7",
   "metadata": {},
   "outputs": [],
   "source": [
    "G = agent.convert_state(parse_expr('-a1'))"
   ]
  },
  {
   "cell_type": "code",
   "execution_count": 31,
   "id": "3557d504",
   "metadata": {},
   "outputs": [
    {
     "name": "stdout",
     "output_type": "stream",
     "text": [
      "tensor([[1]], device='cuda:0')\n"
     ]
    }
   ],
   "source": [
    "action = agent.choose_optimal_action(G)\n",
    "print(action)"
   ]
  },
  {
   "cell_type": "code",
   "execution_count": 39,
   "id": "446810a1",
   "metadata": {},
   "outputs": [],
   "source": [
    "env.state_string = parse_expr('-a1')"
   ]
  },
  {
   "cell_type": "code",
   "execution_count": 40,
   "id": "fcbecafa",
   "metadata": {},
   "outputs": [
    {
     "data": {
      "text/latex": [
       "$\\displaystyle - a_{1}$"
      ],
      "text/plain": [
       "-a1"
      ]
     },
     "execution_count": 40,
     "metadata": {},
     "output_type": "execute_result"
    }
   ],
   "source": [
    "env.state_string"
   ]
  },
  {
   "cell_type": "code",
   "execution_count": 42,
   "id": "f8b1ca01",
   "metadata": {},
   "outputs": [
    {
     "data": {
      "text/plain": [
       "[<function _operator.add(a, b, /)>, a1]"
      ]
     },
     "execution_count": 42,
     "metadata": {},
     "output_type": "execute_result"
    }
   ],
   "source": [
    "env.actions[action]"
   ]
  },
  {
   "cell_type": "code",
   "execution_count": 41,
   "id": "1585b011",
   "metadata": {},
   "outputs": [
    {
     "data": {
      "text/plain": [
       "(array([-8.,  0.,  0.,  0.,  0.,  0.,  0.,  0.,  0.,  0.,  0.,  0.,  0.,\n",
       "         0.,  0.,  0.,  0.,  0.,  0.,  0.,  0.,  0.,  0.,  0.,  0.,  0.,\n",
       "         0.,  0.,  0.,  0.,  0.,  0.,  0.,  0.,  0.,  0.,  0.,  0.,  0.,\n",
       "         0.,  0.,  0.,  0.,  0.,  0.,  0.,  0.,  0.,  0.,  0.,  0.,  0.,\n",
       "         0.,  0.,  0.,  0.,  0.,  0.,  0.,  0.,  0.,  0.,  0.,  0.,  0.,\n",
       "         0.,  0.,  0.,  0.,  0.,  0.,  0.,  0.,  0.,  0.,  0.,  0.,  0.,\n",
       "         0.,  0.,  0.,  0.,  0.,  0.,  0.,  0.,  0.,  0.,  0.,  0.,  0.,\n",
       "         0.,  0.,  0.,  0.,  0.,  0.,  0.,  0.,  0.,  0.,  0.,  0.,  0.,\n",
       "         0.,  0.,  0.,  0.,  0.,  0.,  0.,  0.,  0.,  0.,  0.,  0.,  0.,\n",
       "         0.,  0.,  0.,  0.,  0.,  0.,  0.,  0.,  0.,  0.,  0.],\n",
       "       dtype=float32),\n",
       " 14.0,\n",
       " False,\n",
       " {'ep': 1,\n",
       "  'step': 50,\n",
       "  'loop_step': 50,\n",
       "  'complexity': 1,\n",
       "  'loss': nan,\n",
       "  'reward': 14.0,\n",
       "  'state': 0,\n",
       "  'approx': a1,\n",
       "  'reset_step': False})"
      ]
     },
     "execution_count": 41,
     "metadata": {},
     "output_type": "execute_result"
    }
   ],
   "source": [
    "env.step(action)"
   ]
  },
  {
   "cell_type": "code",
   "execution_count": 29,
   "id": "87a02f6d",
   "metadata": {},
   "outputs": [
    {
     "data": {
      "text/latex": [
       "$\\displaystyle - a_{1}$"
      ],
      "text/plain": [
       "-a1"
      ]
     },
     "execution_count": 29,
     "metadata": {},
     "output_type": "execute_result"
    }
   ],
   "source": [
    "env.state_string"
   ]
  },
  {
   "cell_type": "code",
   "execution_count": 17,
   "id": "abcf20ab",
   "metadata": {},
   "outputs": [
    {
     "data": {
      "text/plain": [
       "[<function _operator.sub(a, b, /)>, a1]"
      ]
     },
     "execution_count": 17,
     "metadata": {},
     "output_type": "execute_result"
    }
   ],
   "source": [
    "env.actions[action]"
   ]
  },
  {
   "cell_type": "code",
   "execution_count": 22,
   "id": "a46c1a9c",
   "metadata": {},
   "outputs": [],
   "source": [
    "out = env.get_next_state(action)"
   ]
  },
  {
   "cell_type": "code",
   "execution_count": 21,
   "id": "6f8be4d5",
   "metadata": {},
   "outputs": [
    {
     "data": {
      "text/latex": [
       "$\\displaystyle 0$"
      ],
      "text/plain": [
       "0"
      ]
     },
     "execution_count": 21,
     "metadata": {},
     "output_type": "execute_result"
    }
   ],
   "source": [
    "env.next_state_string"
   ]
  },
  {
   "cell_type": "code",
   "execution_count": 23,
   "id": "432f049f",
   "metadata": {},
   "outputs": [
    {
     "data": {
      "text/latex": [
       "$\\displaystyle 0 - a_{1}$"
      ],
      "text/plain": [
       "0 - a1"
      ]
     },
     "execution_count": 23,
     "metadata": {},
     "output_type": "execute_result"
    }
   ],
   "source": [
    "out"
   ]
  },
  {
   "cell_type": "code",
   "execution_count": 37,
   "id": "46eaf7fe",
   "metadata": {},
   "outputs": [
    {
     "data": {
      "text/plain": [
       "tensor([[-1.1721,  1.2956, -1.8307,  0.1561,  0.7794,  0.4441,  0.9351, -1.3498,\n",
       "          0.8282, -1.4291,  0.6185]], device='cuda:0', grad_fn=<MmBackward0>)"
      ]
     },
     "execution_count": 37,
     "metadata": {},
     "output_type": "execute_result"
    }
   ],
   "source": [
    "agent.policy_network(agent.convert_state(parse_expr('-a1')))"
   ]
  },
  {
   "cell_type": "code",
   "execution_count": 6,
   "id": "7d4a26c4",
   "metadata": {},
   "outputs": [
    {
     "data": {
      "text/plain": [
       "{'Add': -2,\n",
       " 'Mul': -3,\n",
       " 'Pow': -4,\n",
       " 'x': -5,\n",
       " 'a0': -6,\n",
       " 'a1': -7,\n",
       " '0': -8,\n",
       " '1': -9,\n",
       " 'I': -10}"
      ]
     },
     "execution_count": 6,
     "metadata": {},
     "output_type": "execute_result"
    }
   ],
   "source": [
    "env.feature_dict"
   ]
  },
  {
   "cell_type": "code",
   "execution_count": 50,
   "id": "2632fc7d",
   "metadata": {},
   "outputs": [
    {
     "data": {
      "text/plain": [
       "(array([-11.,   0.,   0.,   0.,   0.,   0.,   0.,   0.,   0.,   0.,   0.,\n",
       "          0.,   0.,   0.,   0.,   0.,   0.,   0.,   0.,   0.,   0.,   0.,\n",
       "          0.,   0.,   0.,   0.,   0.,   0.,   0.,   0.,   0.,   0.,   0.,\n",
       "          0.,   0.,   0.,   0.,   0.,   0.,   0.,   0.,   0.,   0.,   0.,\n",
       "          0.,   0.,   0.,   0.,   0.,   0.,   0.,   0.,   0.,   0.,   0.,\n",
       "          0.,   0.,   0.,   0.,   0.,   0.,   0.,   0.,   0.,   0.,   0.,\n",
       "          0.,   0.,   0.,   0.,   0.,   0.,   0.,   0.,   0.,   0.,   0.,\n",
       "          0.,   0.,   0.,   0.,   0.,   0.,   0.,   0.,   0.,   0.,   0.,\n",
       "          0.,   0.,   0.,   0.,   0.,   0.,   0.,   0.,   0.,   0.,   0.,\n",
       "          0.,   0.,   0.,   0.,   0.,   0.,   0.,   0.,   0.,   0.,   0.,\n",
       "          0.,   0.,   0.,   0.,   0.,   0.,   0.,   0.,   0.,   0.,   0.,\n",
       "          0.,   0.,   0.,   0.,   0.,   0.,   0.], dtype=float32),\n",
       " -8,\n",
       " False,\n",
       " {'ep': 10,\n",
       "  'step': 2342,\n",
       "  'loop_step': 1601,\n",
       "  'complexity': 9,\n",
       "  'loss': tensor(4.5076, device='cuda:0', grad_fn=<SmoothL1LossBackward0>),\n",
       "  'reward': -8,\n",
       "  'state': 1,\n",
       "  'approx': 1*a0 + a1,\n",
       "  'reset_step': False})"
      ]
     },
     "execution_count": 50,
     "metadata": {},
     "output_type": "execute_result"
    }
   ],
   "source": [
    "out"
   ]
  },
  {
   "cell_type": "code",
   "execution_count": 51,
   "id": "8cbccac1",
   "metadata": {},
   "outputs": [
    {
     "data": {
      "text/latex": [
       "$\\displaystyle 1$"
      ],
      "text/plain": [
       "1"
      ]
     },
     "execution_count": 51,
     "metadata": {},
     "output_type": "execute_result"
    }
   ],
   "source": [
    "env.next_state_string"
   ]
  },
  {
   "cell_type": "code",
   "execution_count": 33,
   "id": "3ca6fd9f",
   "metadata": {},
   "outputs": [
    {
     "data": {
      "text/plain": [
       "[[<function _operator.add(a, b, /)>, a0],\n",
       " [<function _operator.add(a, b, /)>, a1],\n",
       " [<function _operator.add(a, b, /)>, 1],\n",
       " [<function _operator.sub(a, b, /)>, a0],\n",
       " [<function _operator.sub(a, b, /)>, a1],\n",
       " [<function _operator.sub(a, b, /)>, 1],\n",
       " [<function _operator.truediv(a, b, /)>, a0],\n",
       " [<function _operator.truediv(a, b, /)>, a1],\n",
       " [<function _operator.truediv(a, b, /)>, 1],\n",
       " [<function _operator.pow(a, b, /)>, a0],\n",
       " [<function _operator.pow(a, b, /)>, a1]]"
      ]
     },
     "execution_count": 33,
     "metadata": {},
     "output_type": "execute_result"
    }
   ],
   "source": [
    "env.actions"
   ]
  },
  {
   "cell_type": "code",
   "execution_count": 39,
   "id": "ffe748f3",
   "metadata": {},
   "outputs": [
    {
     "data": {
      "text/plain": [
       "tensor([[6]], device='cuda:0')"
      ]
     },
     "execution_count": 39,
     "metadata": {},
     "output_type": "execute_result"
    }
   ],
   "source": [
    "agent.policy_network(G).max(1)[1].view(1,1)"
   ]
  },
  {
   "cell_type": "code",
   "execution_count": 9,
   "id": "7d27f11f",
   "metadata": {},
   "outputs": [
    {
     "name": "stdout",
     "output_type": "stream",
     "text": [
      "INFO - 2023-04-21 07:32:28,750 [base.py:214] : Running training routine for 10 episodes in eval=True mode.\n"
     ]
    },
    {
     "name": "stderr",
     "output_type": "stream",
     "text": [
      "{'ep': '10  ', 'step': '2338', 'loop_step': '1597', 'complexity': '5.00e+00', 'loss': '4.51e+00', 'reward': '4.00e+00', 'state': '0                   '}: : 0it [03:05, ?it/s] "
     ]
    },
    {
     "ename": "KeyboardInterrupt",
     "evalue": "",
     "output_type": "error",
     "traceback": [
      "\u001b[1;31m---------------------------------------------------------------------------\u001b[0m",
      "\u001b[1;31mKeyboardInterrupt\u001b[0m                         Traceback (most recent call last)",
      "Cell \u001b[1;32mIn[9], line 1\u001b[0m\n\u001b[1;32m----> 1\u001b[0m agent\u001b[39m.\u001b[39;49mtrain(\u001b[39m10\u001b[39;49m, \u001b[39meval\u001b[39;49m\u001b[39m=\u001b[39;49m\u001b[39mTrue\u001b[39;49;00m)\n",
      "File \u001b[1;32mc:\\users\\bbent\\repos\\rl-equation-solver\\rl_equation_solver\\agent\\base.py:224\u001b[0m, in \u001b[0;36mBaseAgent.train\u001b[1;34m(self, num_episodes, eval, progress_bar)\u001b[0m\n\u001b[0;32m    222\u001b[0m     pbar \u001b[39m=\u001b[39m tqdm(num_episodes)\n\u001b[0;32m    223\u001b[0m \u001b[39mfor\u001b[39;00m _ \u001b[39min\u001b[39;00m \u001b[39mrange\u001b[39m(start, end):\n\u001b[1;32m--> 224\u001b[0m     \u001b[39mself\u001b[39;49m\u001b[39m.\u001b[39;49mrun_episode(\u001b[39meval\u001b[39;49m, pbar\u001b[39m=\u001b[39;49mpbar)\n\u001b[0;32m    225\u001b[0m     \u001b[39mif\u001b[39;00m progress_bar:\n\u001b[0;32m    226\u001b[0m         pbar\u001b[39m.\u001b[39mupdate(\u001b[39m1\u001b[39m)\n",
      "File \u001b[1;32mc:\\users\\bbent\\repos\\rl-equation-solver\\rl_equation_solver\\agent\\base.py:240\u001b[0m, in \u001b[0;36mBaseAgent.run_episode\u001b[1;34m(self, eval, pbar)\u001b[0m\n\u001b[0;32m    237\u001b[0m \u001b[39mfor\u001b[39;00m _ \u001b[39min\u001b[39;00m count():\n\u001b[0;32m    238\u001b[0m     next_state, done \u001b[39m=\u001b[39m \u001b[39mself\u001b[39m\u001b[39m.\u001b[39madd_experience(state, training\u001b[39m=\u001b[39mtraining)\n\u001b[1;32m--> 240\u001b[0m     loss \u001b[39m=\u001b[39m \u001b[39mself\u001b[39;49m\u001b[39m.\u001b[39;49mcompute_batch_loss()\n\u001b[0;32m    242\u001b[0m     \u001b[39mif\u001b[39;00m \u001b[39mnot\u001b[39;00m done \u001b[39mand\u001b[39;00m \u001b[39mnot\u001b[39;00m \u001b[39meval\u001b[39m:\n\u001b[0;32m    243\u001b[0m         \u001b[39mself\u001b[39m\u001b[39m.\u001b[39moptimize_model(loss)\n",
      "File \u001b[1;32mc:\\users\\bbent\\repos\\rl-equation-solver\\rl_equation_solver\\agent\\base.py:167\u001b[0m, in \u001b[0;36mBaseAgent.compute_batch_loss\u001b[1;34m(self)\u001b[0m\n\u001b[0;32m    164\u001b[0m transition \u001b[39m=\u001b[39m \u001b[39mself\u001b[39m\u001b[39m.\u001b[39mmemory\u001b[39m.\u001b[39msample(\u001b[39mself\u001b[39m\u001b[39m.\u001b[39mbatch_size)\n\u001b[0;32m    165\u001b[0m batch \u001b[39m=\u001b[39m \u001b[39mself\u001b[39m\u001b[39m.\u001b[39mbatch_states(transition, device\u001b[39m=\u001b[39m\u001b[39mself\u001b[39m\u001b[39m.\u001b[39mdevice)\n\u001b[1;32m--> 167\u001b[0m state_action_values \u001b[39m=\u001b[39m \u001b[39mself\u001b[39;49m\u001b[39m.\u001b[39;49mcompute_Q(batch)\n\u001b[0;32m    169\u001b[0m expected_state_action_values \u001b[39m=\u001b[39m \u001b[39mself\u001b[39m\u001b[39m.\u001b[39mcompute_expected_Q(batch)\n\u001b[0;32m    171\u001b[0m loss \u001b[39m=\u001b[39m \u001b[39mself\u001b[39m\u001b[39m.\u001b[39mcompute_loss(state_action_values,\n\u001b[0;32m    172\u001b[0m                          expected_state_action_values)\n",
      "File \u001b[1;32mc:\\users\\bbent\\repos\\rl-equation-solver\\rl_equation_solver\\policy\\base.py:94\u001b[0m, in \u001b[0;36mMlpPolicy.compute_Q\u001b[1;34m(self, batch)\u001b[0m\n\u001b[0;32m     89\u001b[0m \u001b[39mdef\u001b[39;00m \u001b[39mcompute_Q\u001b[39m(\u001b[39mself\u001b[39m, batch):\n\u001b[0;32m     90\u001b[0m \u001b[39m    \u001b[39m\u001b[39m\"\"\"\u001b[39;00m\n\u001b[0;32m     91\u001b[0m \u001b[39m    Compute :math:`Q(s_t, a)`. These are the actions which would've\u001b[39;00m\n\u001b[0;32m     92\u001b[0m \u001b[39m    been taken for each batch state according to policy_net\u001b[39;00m\n\u001b[0;32m     93\u001b[0m \u001b[39m    \"\"\"\u001b[39;00m\n\u001b[1;32m---> 94\u001b[0m     \u001b[39mreturn\u001b[39;00m \u001b[39mself\u001b[39;49m\u001b[39m.\u001b[39;49mpolicy_network(batch\u001b[39m.\u001b[39;49mstate_batch) \\\n\u001b[0;32m     95\u001b[0m         \u001b[39m.\u001b[39mgather(\u001b[39m1\u001b[39m, batch\u001b[39m.\u001b[39maction_batch)\n",
      "File \u001b[1;32mc:\\Users\\bbent\\miniconda3\\envs\\rl_solver\\Lib\\site-packages\\torch\\nn\\modules\\module.py:1501\u001b[0m, in \u001b[0;36mModule._call_impl\u001b[1;34m(self, *args, **kwargs)\u001b[0m\n\u001b[0;32m   1496\u001b[0m \u001b[39m# If we don't have any hooks, we want to skip the rest of the logic in\u001b[39;00m\n\u001b[0;32m   1497\u001b[0m \u001b[39m# this function, and just call forward.\u001b[39;00m\n\u001b[0;32m   1498\u001b[0m \u001b[39mif\u001b[39;00m \u001b[39mnot\u001b[39;00m (\u001b[39mself\u001b[39m\u001b[39m.\u001b[39m_backward_hooks \u001b[39mor\u001b[39;00m \u001b[39mself\u001b[39m\u001b[39m.\u001b[39m_backward_pre_hooks \u001b[39mor\u001b[39;00m \u001b[39mself\u001b[39m\u001b[39m.\u001b[39m_forward_hooks \u001b[39mor\u001b[39;00m \u001b[39mself\u001b[39m\u001b[39m.\u001b[39m_forward_pre_hooks\n\u001b[0;32m   1499\u001b[0m         \u001b[39mor\u001b[39;00m _global_backward_pre_hooks \u001b[39mor\u001b[39;00m _global_backward_hooks\n\u001b[0;32m   1500\u001b[0m         \u001b[39mor\u001b[39;00m _global_forward_hooks \u001b[39mor\u001b[39;00m _global_forward_pre_hooks):\n\u001b[1;32m-> 1501\u001b[0m     \u001b[39mreturn\u001b[39;00m forward_call(\u001b[39m*\u001b[39;49margs, \u001b[39m*\u001b[39;49m\u001b[39m*\u001b[39;49mkwargs)\n\u001b[0;32m   1502\u001b[0m \u001b[39m# Do not call functions when jit is used\u001b[39;00m\n\u001b[0;32m   1503\u001b[0m full_backward_hooks, non_full_backward_hooks \u001b[39m=\u001b[39m [], []\n",
      "File \u001b[1;32mc:\\users\\bbent\\repos\\rl-equation-solver\\rl_equation_solver\\agent\\networks.py:76\u001b[0m, in \u001b[0;36mGCN.forward\u001b[1;34m(self, graph)\u001b[0m\n\u001b[0;32m     74\u001b[0m \u001b[39m\u001b[39m\u001b[39m\"\"\"Forward pass for a given state graph or tuple of graphs\"\"\"\u001b[39;00m\n\u001b[0;32m     75\u001b[0m \u001b[39mif\u001b[39;00m \u001b[39misinstance\u001b[39m(graph, (\u001b[39mtuple\u001b[39m, \u001b[39mlist\u001b[39m)):\n\u001b[1;32m---> 76\u001b[0m     \u001b[39mreturn\u001b[39;00m torch\u001b[39m.\u001b[39mcat([\u001b[39mself\u001b[39;49m\u001b[39m.\u001b[39;49m_forward(G) \u001b[39mfor\u001b[39;49;00m G \u001b[39min\u001b[39;49;00m graph])\n\u001b[0;32m     77\u001b[0m \u001b[39melse\u001b[39;00m:\n\u001b[0;32m     78\u001b[0m     \u001b[39mreturn\u001b[39;00m \u001b[39mself\u001b[39m\u001b[39m.\u001b[39m_forward(graph)\n",
      "File \u001b[1;32mc:\\users\\bbent\\repos\\rl-equation-solver\\rl_equation_solver\\agent\\networks.py:76\u001b[0m, in \u001b[0;36m<listcomp>\u001b[1;34m(.0)\u001b[0m\n\u001b[0;32m     74\u001b[0m \u001b[39m\u001b[39m\u001b[39m\"\"\"Forward pass for a given state graph or tuple of graphs\"\"\"\u001b[39;00m\n\u001b[0;32m     75\u001b[0m \u001b[39mif\u001b[39;00m \u001b[39misinstance\u001b[39m(graph, (\u001b[39mtuple\u001b[39m, \u001b[39mlist\u001b[39m)):\n\u001b[1;32m---> 76\u001b[0m     \u001b[39mreturn\u001b[39;00m torch\u001b[39m.\u001b[39mcat([\u001b[39mself\u001b[39;49m\u001b[39m.\u001b[39;49m_forward(G) \u001b[39mfor\u001b[39;00m G \u001b[39min\u001b[39;00m graph])\n\u001b[0;32m     77\u001b[0m \u001b[39melse\u001b[39;00m:\n\u001b[0;32m     78\u001b[0m     \u001b[39mreturn\u001b[39;00m \u001b[39mself\u001b[39m\u001b[39m.\u001b[39m_forward(graph)\n",
      "File \u001b[1;32mc:\\users\\bbent\\repos\\rl-equation-solver\\rl_equation_solver\\agent\\networks.py:69\u001b[0m, in \u001b[0;36mGCN._forward\u001b[1;34m(self, graph)\u001b[0m\n\u001b[0;32m     67\u001b[0m x \u001b[39m=\u001b[39m F\u001b[39m.\u001b[39mrelu(\u001b[39mself\u001b[39m\u001b[39m.\u001b[39mlayer1(x, edge_index))\n\u001b[0;32m     68\u001b[0m x \u001b[39m=\u001b[39m F\u001b[39m.\u001b[39mdropout(x, p\u001b[39m=\u001b[39m\u001b[39mself\u001b[39m\u001b[39m.\u001b[39mdropout, training\u001b[39m=\u001b[39m\u001b[39mself\u001b[39m\u001b[39m.\u001b[39mtraining)\n\u001b[1;32m---> 69\u001b[0m x \u001b[39m=\u001b[39m \u001b[39mself\u001b[39;49m\u001b[39m.\u001b[39;49mlayer2(x, edge_index)\n\u001b[0;32m     70\u001b[0m x \u001b[39m=\u001b[39m torch\u001b[39m.\u001b[39mmatmul(graph\u001b[39m.\u001b[39monehot_values, x)\n\u001b[0;32m     71\u001b[0m \u001b[39mreturn\u001b[39;00m x\n",
      "File \u001b[1;32mc:\\Users\\bbent\\miniconda3\\envs\\rl_solver\\Lib\\site-packages\\torch\\nn\\modules\\module.py:1501\u001b[0m, in \u001b[0;36mModule._call_impl\u001b[1;34m(self, *args, **kwargs)\u001b[0m\n\u001b[0;32m   1496\u001b[0m \u001b[39m# If we don't have any hooks, we want to skip the rest of the logic in\u001b[39;00m\n\u001b[0;32m   1497\u001b[0m \u001b[39m# this function, and just call forward.\u001b[39;00m\n\u001b[0;32m   1498\u001b[0m \u001b[39mif\u001b[39;00m \u001b[39mnot\u001b[39;00m (\u001b[39mself\u001b[39m\u001b[39m.\u001b[39m_backward_hooks \u001b[39mor\u001b[39;00m \u001b[39mself\u001b[39m\u001b[39m.\u001b[39m_backward_pre_hooks \u001b[39mor\u001b[39;00m \u001b[39mself\u001b[39m\u001b[39m.\u001b[39m_forward_hooks \u001b[39mor\u001b[39;00m \u001b[39mself\u001b[39m\u001b[39m.\u001b[39m_forward_pre_hooks\n\u001b[0;32m   1499\u001b[0m         \u001b[39mor\u001b[39;00m _global_backward_pre_hooks \u001b[39mor\u001b[39;00m _global_backward_hooks\n\u001b[0;32m   1500\u001b[0m         \u001b[39mor\u001b[39;00m _global_forward_hooks \u001b[39mor\u001b[39;00m _global_forward_pre_hooks):\n\u001b[1;32m-> 1501\u001b[0m     \u001b[39mreturn\u001b[39;00m forward_call(\u001b[39m*\u001b[39;49margs, \u001b[39m*\u001b[39;49m\u001b[39m*\u001b[39;49mkwargs)\n\u001b[0;32m   1502\u001b[0m \u001b[39m# Do not call functions when jit is used\u001b[39;00m\n\u001b[0;32m   1503\u001b[0m full_backward_hooks, non_full_backward_hooks \u001b[39m=\u001b[39m [], []\n",
      "File \u001b[1;32mc:\\Users\\bbent\\miniconda3\\envs\\rl_solver\\Lib\\site-packages\\torch_geometric\\nn\\conv\\gcn_conv.py:229\u001b[0m, in \u001b[0;36mGCNConv.forward\u001b[1;34m(self, x, edge_index, edge_weight)\u001b[0m\n\u001b[0;32m    226\u001b[0m         \u001b[39melse\u001b[39;00m:\n\u001b[0;32m    227\u001b[0m             edge_index \u001b[39m=\u001b[39m cache\n\u001b[1;32m--> 229\u001b[0m x \u001b[39m=\u001b[39m \u001b[39mself\u001b[39;49m\u001b[39m.\u001b[39;49mlin(x)\n\u001b[0;32m    231\u001b[0m \u001b[39m# propagate_type: (x: Tensor, edge_weight: OptTensor)\u001b[39;00m\n\u001b[0;32m    232\u001b[0m out \u001b[39m=\u001b[39m \u001b[39mself\u001b[39m\u001b[39m.\u001b[39mpropagate(edge_index, x\u001b[39m=\u001b[39mx, edge_weight\u001b[39m=\u001b[39medge_weight,\n\u001b[0;32m    233\u001b[0m                      size\u001b[39m=\u001b[39m\u001b[39mNone\u001b[39;00m)\n",
      "File \u001b[1;32mc:\\Users\\bbent\\miniconda3\\envs\\rl_solver\\Lib\\site-packages\\torch\\nn\\modules\\module.py:1501\u001b[0m, in \u001b[0;36mModule._call_impl\u001b[1;34m(self, *args, **kwargs)\u001b[0m\n\u001b[0;32m   1496\u001b[0m \u001b[39m# If we don't have any hooks, we want to skip the rest of the logic in\u001b[39;00m\n\u001b[0;32m   1497\u001b[0m \u001b[39m# this function, and just call forward.\u001b[39;00m\n\u001b[0;32m   1498\u001b[0m \u001b[39mif\u001b[39;00m \u001b[39mnot\u001b[39;00m (\u001b[39mself\u001b[39m\u001b[39m.\u001b[39m_backward_hooks \u001b[39mor\u001b[39;00m \u001b[39mself\u001b[39m\u001b[39m.\u001b[39m_backward_pre_hooks \u001b[39mor\u001b[39;00m \u001b[39mself\u001b[39m\u001b[39m.\u001b[39m_forward_hooks \u001b[39mor\u001b[39;00m \u001b[39mself\u001b[39m\u001b[39m.\u001b[39m_forward_pre_hooks\n\u001b[0;32m   1499\u001b[0m         \u001b[39mor\u001b[39;00m _global_backward_pre_hooks \u001b[39mor\u001b[39;00m _global_backward_hooks\n\u001b[0;32m   1500\u001b[0m         \u001b[39mor\u001b[39;00m _global_forward_hooks \u001b[39mor\u001b[39;00m _global_forward_pre_hooks):\n\u001b[1;32m-> 1501\u001b[0m     \u001b[39mreturn\u001b[39;00m forward_call(\u001b[39m*\u001b[39;49margs, \u001b[39m*\u001b[39;49m\u001b[39m*\u001b[39;49mkwargs)\n\u001b[0;32m   1502\u001b[0m \u001b[39m# Do not call functions when jit is used\u001b[39;00m\n\u001b[0;32m   1503\u001b[0m full_backward_hooks, non_full_backward_hooks \u001b[39m=\u001b[39m [], []\n",
      "File \u001b[1;32mc:\\Users\\bbent\\miniconda3\\envs\\rl_solver\\Lib\\site-packages\\torch_geometric\\nn\\dense\\linear.py:132\u001b[0m, in \u001b[0;36mLinear.forward\u001b[1;34m(self, x)\u001b[0m\n\u001b[0;32m    127\u001b[0m \u001b[39mdef\u001b[39;00m \u001b[39mforward\u001b[39m(\u001b[39mself\u001b[39m, x: Tensor) \u001b[39m-\u001b[39m\u001b[39m>\u001b[39m Tensor:\n\u001b[0;32m    128\u001b[0m \u001b[39m    \u001b[39m\u001b[39mr\u001b[39m\u001b[39m\"\"\"\u001b[39;00m\n\u001b[0;32m    129\u001b[0m \u001b[39m    Args:\u001b[39;00m\n\u001b[0;32m    130\u001b[0m \u001b[39m        x (torch.Tensor): The input features.\u001b[39;00m\n\u001b[0;32m    131\u001b[0m \u001b[39m    \"\"\"\u001b[39;00m\n\u001b[1;32m--> 132\u001b[0m     \u001b[39mreturn\u001b[39;00m F\u001b[39m.\u001b[39;49mlinear(x, \u001b[39mself\u001b[39;49m\u001b[39m.\u001b[39;49mweight, \u001b[39mself\u001b[39;49m\u001b[39m.\u001b[39;49mbias)\n",
      "\u001b[1;31mKeyboardInterrupt\u001b[0m: "
     ]
    }
   ],
   "source": [
    "agent.train(10, eval=True)"
   ]
  },
  {
   "cell_type": "code",
   "execution_count": 18,
   "id": "f7123b39",
   "metadata": {},
   "outputs": [
    {
     "name": "stdout",
     "output_type": "stream",
     "text": [
      "-a1/a0\n",
      "117.0\n"
     ]
    }
   ],
   "source": [
    "history = env.best_history\n",
    "best_i = np.argmax(history['reward'])\n",
    "print(parse_expr(str(history['state'][best_i])))\n",
    "print(history['reward'][best_i])"
   ]
  },
  {
   "attachments": {},
   "cell_type": "markdown",
   "id": "7db5eee4",
   "metadata": {},
   "source": [
    "## Plot reward distribution for trained agent ##"
   ]
  },
  {
   "cell_type": "code",
   "execution_count": 22,
   "id": "b822e395",
   "metadata": {},
   "outputs": [
    {
     "ename": "TypeError",
     "evalue": "can't convert cuda:0 device type tensor to numpy. Use Tensor.cpu() to copy the tensor to host memory first.",
     "output_type": "error",
     "traceback": [
      "\u001b[1;31m---------------------------------------------------------------------------\u001b[0m",
      "\u001b[1;31mTypeError\u001b[0m                                 Traceback (most recent call last)",
      "Cell \u001b[1;32mIn[22], line 1\u001b[0m\n\u001b[1;32m----> 1\u001b[0m plot_reward_dist(env)\n",
      "Cell \u001b[1;32mIn[4], line 4\u001b[0m, in \u001b[0;36mplot_reward_dist\u001b[1;34m(env)\u001b[0m\n\u001b[0;32m      2\u001b[0m \u001b[39mdef\u001b[39;00m \u001b[39mplot_reward_dist\u001b[39m(env):\n\u001b[0;32m      3\u001b[0m     _, ax \u001b[39m=\u001b[39m plt\u001b[39m.\u001b[39msubplots(\u001b[39m1\u001b[39m, \u001b[39m1\u001b[39m)\n\u001b[1;32m----> 4\u001b[0m     ax\u001b[39m.\u001b[39mhist(env\u001b[39m.\u001b[39;49mbest_history[\u001b[39m'\u001b[39m\u001b[39mreward\u001b[39m\u001b[39m'\u001b[39m])\n\u001b[0;32m      5\u001b[0m     ax\u001b[39m.\u001b[39mset_ylabel(\u001b[39m'\u001b[39m\u001b[39mCount\u001b[39m\u001b[39m'\u001b[39m)\n\u001b[0;32m      6\u001b[0m     ax\u001b[39m.\u001b[39mset_xlabel(\u001b[39m'\u001b[39m\u001b[39mReward\u001b[39m\u001b[39m'\u001b[39m)\n",
      "File \u001b[1;32mc:\\users\\bbent\\repos\\rl-equation-solver\\rl_equation_solver\\utilities\\history.py:91\u001b[0m, in \u001b[0;36mHistory.best_history\u001b[1;34m(self)\u001b[0m\n\u001b[0;32m     89\u001b[0m     out[k]\u001b[39m.\u001b[39mappend(series[k][best_i])\n\u001b[0;32m     90\u001b[0m \u001b[39melif\u001b[39;00m k \u001b[39min\u001b[39;00m (\u001b[39m'\u001b[39m\u001b[39mloss\u001b[39m\u001b[39m'\u001b[39m, \u001b[39m'\u001b[39m\u001b[39mcomplexity\u001b[39m\u001b[39m'\u001b[39m):\n\u001b[1;32m---> 91\u001b[0m     out[k]\u001b[39m.\u001b[39mappend(np\u001b[39m.\u001b[39;49mnanmin(series[k]))\n\u001b[0;32m     92\u001b[0m \u001b[39melse\u001b[39;00m:\n\u001b[0;32m     93\u001b[0m     out[k]\u001b[39m.\u001b[39mappend(np\u001b[39m.\u001b[39mnanmax(series[k]))\n",
      "File \u001b[1;32m<__array_function__ internals>:200\u001b[0m, in \u001b[0;36mnanmin\u001b[1;34m(*args, **kwargs)\u001b[0m\n",
      "File \u001b[1;32mc:\\Users\\bbent\\miniconda3\\envs\\rl_solver\\Lib\\site-packages\\numpy\\lib\\nanfunctions.py:349\u001b[0m, in \u001b[0;36mnanmin\u001b[1;34m(a, axis, out, keepdims, initial, where)\u001b[0m\n\u001b[0;32m    345\u001b[0m         warnings\u001b[39m.\u001b[39mwarn(\u001b[39m\"\u001b[39m\u001b[39mAll-NaN slice encountered\u001b[39m\u001b[39m\"\u001b[39m, \u001b[39mRuntimeWarning\u001b[39;00m,\n\u001b[0;32m    346\u001b[0m                       stacklevel\u001b[39m=\u001b[39m\u001b[39m3\u001b[39m)\n\u001b[0;32m    347\u001b[0m \u001b[39melse\u001b[39;00m:\n\u001b[0;32m    348\u001b[0m     \u001b[39m# Slow, but safe for subclasses of ndarray\u001b[39;00m\n\u001b[1;32m--> 349\u001b[0m     a, mask \u001b[39m=\u001b[39m _replace_nan(a, \u001b[39m+\u001b[39;49mnp\u001b[39m.\u001b[39;49minf)\n\u001b[0;32m    350\u001b[0m     res \u001b[39m=\u001b[39m np\u001b[39m.\u001b[39mamin(a, axis\u001b[39m=\u001b[39maxis, out\u001b[39m=\u001b[39mout, \u001b[39m*\u001b[39m\u001b[39m*\u001b[39mkwargs)\n\u001b[0;32m    351\u001b[0m     \u001b[39mif\u001b[39;00m mask \u001b[39mis\u001b[39;00m \u001b[39mNone\u001b[39;00m:\n",
      "File \u001b[1;32mc:\\Users\\bbent\\miniconda3\\envs\\rl_solver\\Lib\\site-packages\\numpy\\lib\\nanfunctions.py:96\u001b[0m, in \u001b[0;36m_replace_nan\u001b[1;34m(a, val)\u001b[0m\n\u001b[0;32m     68\u001b[0m \u001b[39mdef\u001b[39;00m \u001b[39m_replace_nan\u001b[39m(a, val):\n\u001b[0;32m     69\u001b[0m \u001b[39m    \u001b[39m\u001b[39m\"\"\"\u001b[39;00m\n\u001b[0;32m     70\u001b[0m \u001b[39m    If `a` is of inexact type, make a copy of `a`, replace NaNs with\u001b[39;00m\n\u001b[0;32m     71\u001b[0m \u001b[39m    the `val` value, and return the copy together with a boolean mask\u001b[39;00m\n\u001b[1;32m   (...)\u001b[0m\n\u001b[0;32m     94\u001b[0m \n\u001b[0;32m     95\u001b[0m \u001b[39m    \"\"\"\u001b[39;00m\n\u001b[1;32m---> 96\u001b[0m     a \u001b[39m=\u001b[39m np\u001b[39m.\u001b[39masanyarray(a)\n\u001b[0;32m     98\u001b[0m     \u001b[39mif\u001b[39;00m a\u001b[39m.\u001b[39mdtype \u001b[39m==\u001b[39m np\u001b[39m.\u001b[39mobject_:\n\u001b[0;32m     99\u001b[0m         \u001b[39m# object arrays do not support `isnan` (gh-9009), so make a guess\u001b[39;00m\n\u001b[0;32m    100\u001b[0m         mask \u001b[39m=\u001b[39m np\u001b[39m.\u001b[39mnot_equal(a, a, dtype\u001b[39m=\u001b[39m\u001b[39mbool\u001b[39m)\n",
      "File \u001b[1;32mc:\\Users\\bbent\\miniconda3\\envs\\rl_solver\\Lib\\site-packages\\torch\\_tensor.py:970\u001b[0m, in \u001b[0;36mTensor.__array__\u001b[1;34m(self, dtype)\u001b[0m\n\u001b[0;32m    968\u001b[0m     \u001b[39mreturn\u001b[39;00m handle_torch_function(Tensor\u001b[39m.\u001b[39m__array__, (\u001b[39mself\u001b[39m,), \u001b[39mself\u001b[39m, dtype\u001b[39m=\u001b[39mdtype)\n\u001b[0;32m    969\u001b[0m \u001b[39mif\u001b[39;00m dtype \u001b[39mis\u001b[39;00m \u001b[39mNone\u001b[39;00m:\n\u001b[1;32m--> 970\u001b[0m     \u001b[39mreturn\u001b[39;00m \u001b[39mself\u001b[39;49m\u001b[39m.\u001b[39;49mnumpy()\n\u001b[0;32m    971\u001b[0m \u001b[39melse\u001b[39;00m:\n\u001b[0;32m    972\u001b[0m     \u001b[39mreturn\u001b[39;00m \u001b[39mself\u001b[39m\u001b[39m.\u001b[39mnumpy()\u001b[39m.\u001b[39mastype(dtype, copy\u001b[39m=\u001b[39m\u001b[39mFalse\u001b[39;00m)\n",
      "\u001b[1;31mTypeError\u001b[0m: can't convert cuda:0 device type tensor to numpy. Use Tensor.cpu() to copy the tensor to host memory first."
     ]
    },
    {
     "data": {
      "image/png": "[encoded data removed]",
      "text/plain": [
       "<Figure size 640x480 with 1 Axes>"
      ]
     },
     "metadata": {},
     "output_type": "display_data"
    }
   ],
   "source": [
    "plot_reward_dist(env)"
   ]
  },
  {
   "attachments": {},
   "cell_type": "markdown",
   "id": "77b6ce36",
   "metadata": {},
   "source": [
    "## Render final state graph ##"
   ]
  },
  {
   "cell_type": "code",
   "execution_count": 20,
   "id": "b7b6ec0e",
   "metadata": {},
   "outputs": [
    {
     "data": {
      "image/png": "[encoded data removed]",
      "text/plain": [
       "<Figure size 640x480 with 1 Axes>"
      ]
     },
     "metadata": {},
     "output_type": "display_data"
    }
   ],
   "source": [
    "nx.draw(env.state_graph, labels=env.node_labels)"
   ]
  },
  {
   "cell_type": "code",
   "execution_count": 25,
   "id": "b7014fa1",
   "metadata": {},
   "outputs": [
    {
     "data": {
      "image/png": "[encoded data removed]",
      "text/plain": [
       "<Figure size 640x480 with 1 Axes>"
      ]
     },
     "metadata": {},
     "output_type": "display_data"
    }
   ],
   "source": [
    "nx.draw(utilities.to_graph(env.history[9]['state'][-1], env.feature_dict))"
   ]
  },
  {
   "attachments": {},
   "cell_type": "markdown",
   "id": "3e11dc81",
   "metadata": {},
   "source": [
    "## Run new Agent in eval mode ##"
   ]
  },
  {
   "cell_type": "code",
   "execution_count": 150,
   "id": "9909c589",
   "metadata": {},
   "outputs": [
    {
     "name": "stdout",
     "output_type": "stream",
     "text": [
      "INFO - 2023-04-17 13:10:35,160 [algebraic.py:112] : Initializing environment with order=2, |S| = 11 x 64 = 704\n",
      "INFO - 2023-04-17 13:10:35,163 [gcn.py:37] : Initialized Agent with device cuda:0\n",
      "INFO - 2023-04-17 13:10:35,169 [base.py:298] : Running training routine for 30 episodes in eval=True mode.\n",
      "INFO - 2023-04-17 13:10:35,194 [history.py:76] : \n",
      "{'ep': 0, 'step': 1, 'complexity': 14.0, 'loss': 'nan', 'reward': '-8.000e+00', 'state': 1/a1, 'approx': a0/a1 + a1}\n",
      "INFO - 2023-04-17 13:10:35,196 [base.py:347] : \n",
      "Solver terminated after 3 steps: total_reward = -1.700e+01, mean_loss = nan, state = 1/a1\n",
      "INFO - 2023-04-17 13:10:35,306 [history.py:76] : \n",
      "{'ep': 1, 'step': 8, 'complexity': 18.0, 'loss': 'nan', 'reward': '-4.000e+00', 'state': a0 - a1, 'approx': a0*(a0 - a1) + a1}\n",
      "INFO - 2023-04-17 13:10:35,309 [base.py:347] : \n",
      "Solver terminated after 8 steps: total_reward = -1.700e+01, mean_loss = nan, state = a0 - a1\n",
      "INFO - 2023-04-17 13:10:35,344 [history.py:76] : \n",
      "{'ep': 2, 'step': 11, 'complexity': 18.0, 'loss': 'nan', 'reward': '-4.000e+00', 'state': (1/a1)**a1, 'approx': a0*(1/a1)**a1 + a1}\n",
      "INFO - 2023-04-17 13:10:35,346 [base.py:347] : \n",
      "Solver terminated after 4 steps: total_reward = -1.700e+01, mean_loss = nan, state = (1/a1)**a1\n",
      "INFO - 2023-04-17 13:10:35,369 [history.py:76] : \n",
      "{'ep': 3, 'step': 13, 'complexity': 14.0, 'loss': 'nan', 'reward': '-8.000e+00', 'state': 1/a1, 'approx': a0/a1 + a1}\n",
      "INFO - 2023-04-17 13:10:35,376 [base.py:347] : \n",
      "Solver terminated after 3 steps: total_reward = -1.700e+01, mean_loss = nan, state = 1/a1\n",
      "INFO - 2023-04-17 13:10:35,482 [history.py:76] : \n",
      "{'ep': 4, 'step': 20, 'complexity': 18.0, 'loss': 'nan', 'reward': '-4.000e+00', 'state': a0 - a1, 'approx': a0*(a0 - a1) + a1}\n",
      "INFO - 2023-04-17 13:10:35,485 [base.py:347] : \n",
      "Solver terminated after 8 steps: total_reward = -1.700e+01, mean_loss = nan, state = a0 - a1\n",
      "INFO - 2023-04-17 13:10:35,568 [history.py:76] : \n",
      "{'ep': 5, 'step': 26, 'complexity': 19.0, 'loss': 'nan', 'reward': '-4.000e+00', 'state': 2*a0 + a1, 'approx': a0*(2*a0 + a1) + a1}\n",
      "INFO - 2023-04-17 13:10:35,572 [base.py:347] : \n",
      "Solver terminated after 7 steps: total_reward = -1.800e+01, mean_loss = nan, state = 2*a0 + a1\n",
      "INFO - 2023-04-17 13:10:35,622 [history.py:76] : \n",
      "{'ep': 6, 'step': 30, 'complexity': 19.0, 'loss': 'nan', 'reward': '-4.000e+00', 'state': 2**a0 + a0, 'approx': a0*(2**a0 + a0) + a1}\n",
      "INFO - 2023-04-17 13:10:35,626 [base.py:347] : \n",
      "Solver terminated after 5 steps: total_reward = -1.800e+01, mean_loss = nan, state = 2**a0 + a0\n",
      "INFO - 2023-04-17 13:10:35,774 [history.py:76] : \n",
      "{'ep': 7, 'step': 33, 'complexity': 18.0, 'loss': 'nan', 'reward': '-4.000e+00', 'state': (1/a1)**a1, 'approx': a0*(1/a1)**a1 + a1}\n",
      "INFO - 2023-04-17 13:10:35,812 [base.py:347] : \n",
      "Solver terminated after 4 steps: total_reward = -1.700e+01, mean_loss = 4.292e+00, state = (1/a1)**a1\n",
      "INFO - 2023-04-17 13:10:35,885 [history.py:76] : \n",
      "{'ep': 8, 'step': 35, 'complexity': 14.0, 'loss': 'nan', 'reward': '-8.000e+00', 'state': 1/a1, 'approx': a0/a1 + a1}\n",
      "INFO - 2023-04-17 13:10:35,929 [base.py:347] : \n",
      "Solver terminated after 3 steps: total_reward = -1.700e+01, mean_loss = 4.537e+00, state = 1/a1\n",
      "INFO - 2023-04-17 13:10:36,069 [history.py:76] : \n",
      "{'ep': 9, 'step': 38, 'complexity': 18.0, 'loss': 'nan', 'reward': '-4.000e+00', 'state': (1/a1)**a1, 'approx': a0*(1/a1)**a1 + a1}\n",
      "INFO - 2023-04-17 13:10:36,114 [base.py:347] : \n",
      "Solver terminated after 4 steps: total_reward = -1.700e+01, mean_loss = 4.623e+00, state = (1/a1)**a1\n",
      "INFO - 2023-04-17 13:10:36,258 [history.py:76] : \n",
      "{'ep': 10, 'step': 41, 'complexity': 18.0, 'loss': 'nan', 'reward': '-4.000e+00', 'state': (a0 + 1)**a1, 'approx': a0*(a0 + 1)**a1 + a1}\n",
      "INFO - 2023-04-17 13:10:36,300 [base.py:347] : \n",
      "Solver terminated after 4 steps: total_reward = -1.700e+01, mean_loss = 4.455e+00, state = (a0 + 1)**a1\n",
      "INFO - 2023-04-17 13:10:36,571 [history.py:76] : \n",
      "{'ep': 11, 'step': 46, 'complexity': 18.0, 'loss': 'nan', 'reward': '-4.000e+00', 'state': (1/a1)**a1, 'approx': a0*(1/a1)**a1 + a1}\n",
      "INFO - 2023-04-17 13:10:36,610 [base.py:347] : \n",
      "Solver terminated after 6 steps: total_reward = -1.700e+01, mean_loss = 4.391e+00, state = (1/a1)**a1\n",
      "INFO - 2023-04-17 13:10:36,873 [history.py:76] : \n",
      "{'ep': 12, 'step': 51, 'complexity': 18.0, 'loss': 'nan', 'reward': '-4.000e+00', 'state': (1/a1)**a1, 'approx': a0*(1/a1)**a1 + a1}\n",
      "INFO - 2023-04-17 13:10:36,910 [base.py:347] : \n",
      "Solver terminated after 6 steps: total_reward = -1.700e+01, mean_loss = 4.265e+00, state = (1/a1)**a1\n",
      "INFO - 2023-04-17 13:10:37,169 [history.py:76] : \n",
      "{'ep': 13, 'step': 56, 'complexity': 17, 'loss': 'nan', 'reward': '-4.000e+00', 'state': (a1**a0)**a1, 'approx': a0*(a1**a0)**a1 + a1}\n",
      "INFO - 2023-04-17 13:10:37,212 [base.py:347] : \n",
      "Solver terminated after 6 steps: total_reward = -1.600e+01, mean_loss = 4.378e+00, state = (a1**a0)**a1\n",
      "INFO - 2023-04-17 13:10:37,474 [history.py:76] : \n",
      "{'ep': 14, 'step': 61, 'complexity': 18.0, 'loss': 'nan', 'reward': '-4.000e+00', 'state': (1/a1)**a1, 'approx': a0*(1/a1)**a1 + a1}\n",
      "INFO - 2023-04-17 13:10:37,518 [base.py:347] : \n",
      "Solver terminated after 6 steps: total_reward = -1.700e+01, mean_loss = 3.985e+00, state = (1/a1)**a1\n",
      "INFO - 2023-04-17 13:10:37,656 [history.py:76] : \n",
      "{'ep': 15, 'step': 64, 'complexity': 18.0, 'loss': 'nan', 'reward': '-4.000e+00', 'state': (1/a1)**a1, 'approx': a0*(1/a1)**a1 + a1}\n",
      "INFO - 2023-04-17 13:10:37,697 [base.py:347] : \n",
      "Solver terminated after 4 steps: total_reward = -1.700e+01, mean_loss = 4.164e+00, state = (1/a1)**a1\n",
      "INFO - 2023-04-17 13:10:38,277 [history.py:76] : \n",
      "{'ep': 16, 'step': 74, 'complexity': 18.0, 'loss': 'nan', 'reward': '-4.000e+00', 'state': (1/a1)**a1, 'approx': a0*(1/a1)**a1 + a1}\n",
      "INFO - 2023-04-17 13:10:38,316 [base.py:347] : \n",
      "Solver terminated after 11 steps: total_reward = -1.700e+01, mean_loss = 3.768e+00, state = (1/a1)**a1\n",
      "INFO - 2023-04-17 13:10:38,718 [history.py:76] : \n",
      "{'ep': 17, 'step': 81, 'complexity': 18.0, 'loss': 'nan', 'reward': '1.700e+01', 'state': a0 - a1, 'approx': a0*(a0 - a1) + a1}\n",
      "INFO - 2023-04-17 13:10:38,759 [base.py:347] : \n",
      "Solver terminated after 8 steps: total_reward = 4.000e+00, mean_loss = 3.300e+00, state = a0 - a1\n",
      "INFO - 2023-04-17 13:10:39,616 [history.py:76] : \n",
      "{'ep': 18, 'step': 95, 'complexity': 18.0, 'loss': 'nan', 'reward': '-4.000e+00', 'state': (1/a1)**a1, 'approx': a0*(1/a1)**a1 + a1}\n",
      "INFO - 2023-04-17 13:10:39,655 [base.py:347] : \n",
      "Solver terminated after 15 steps: total_reward = -1.700e+01, mean_loss = 3.186e+00, state = (1/a1)**a1\n",
      "INFO - 2023-04-17 13:10:40,070 [history.py:76] : \n",
      "{'ep': 19, 'step': 102, 'complexity': 18.0, 'loss': 'nan', 'reward': '-4.000e+00', 'state': -a1 - 1, 'approx': a0*(-a1 - 1) + a1}\n",
      "INFO - 2023-04-17 13:10:40,110 [base.py:347] : \n",
      "Solver terminated after 8 steps: total_reward = -1.700e+01, mean_loss = 3.417e+00, state = -a1 - 1\n",
      "INFO - 2023-04-17 13:10:40,906 [history.py:76] : \n",
      "{'ep': 20, 'step': 115, 'complexity': 20.0, 'loss': 'nan', 'reward': '-4.000e+00', 'state': a0 - a1 - 1, 'approx': a0*(a0 - a1 - 1) + a1}\n",
      "INFO - 2023-04-17 13:10:40,947 [base.py:347] : \n",
      "Solver terminated after 14 steps: total_reward = -1.900e+01, mean_loss = 3.069e+00, state = a0 - a1 - 1\n",
      "INFO - 2023-04-17 13:10:41,845 [history.py:76] : \n",
      "{'ep': 21, 'step': 129, 'complexity': 20.0, 'loss': 'nan', 'reward': '-4.000e+00', 'state': (a0 + a1 - 1)**a0, 'approx': a0*(a0 + a1 - 1)**a0 + a1}\n",
      "INFO - 2023-04-17 13:10:41,885 [base.py:347] : \n",
      "Solver terminated after 15 steps: total_reward = -1.900e+01, mean_loss = 2.593e+00, state = (a0 + a1 - 1)**a0\n",
      "INFO - 2023-04-17 13:10:42,652 [history.py:76] : \n",
      "{'ep': 22, 'step': 141, 'complexity': 21.0, 'loss': 'nan', 'reward': '-4.000e+00', 'state': (a0 + a1 - 2)**a0, 'approx': a0*(a0 + a1 - 2)**a0 + a1}\n",
      "INFO - 2023-04-17 13:10:42,696 [base.py:347] : \n",
      "Solver terminated after 13 steps: total_reward = -2.000e+01, mean_loss = 2.659e+00, state = (a0 + a1 - 2)**a0\n",
      "INFO - 2023-04-17 13:10:43,048 [history.py:76] : \n",
      "{'ep': 23, 'step': 147, 'complexity': 18.0, 'loss': 'nan', 'reward': '-4.000e+00', 'state': (a0 + 1)**a0, 'approx': a0*(a0 + 1)**a0 + a1}\n",
      "INFO - 2023-04-17 13:10:43,091 [base.py:347] : \n",
      "Solver terminated after 7 steps: total_reward = -1.700e+01, mean_loss = 2.606e+00, state = (a0 + 1)**a0\n",
      "INFO - 2023-04-17 13:10:44,089 [history.py:76] : \n",
      "{'ep': 24, 'step': 163, 'complexity': 16.0, 'loss': 'nan', 'reward': '-6.000e+00', 'state': -1/a1, 'approx': -a0/a1 + a1}\n",
      "INFO - 2023-04-17 13:10:44,131 [base.py:347] : \n",
      "Solver terminated after 17 steps: total_reward = -1.700e+01, mean_loss = 2.617e+00, state = -1/a1\n",
      "INFO - 2023-04-17 13:10:44,937 [history.py:76] : \n",
      "{'ep': 25, 'step': 176, 'complexity': 18.0, 'loss': 'nan', 'reward': '-6.000e+00', 'state': a0**a1 - 1, 'approx': a0*(a0**a1 - 1) + a1}\n",
      "INFO - 2023-04-17 13:10:44,979 [base.py:347] : \n",
      "Solver terminated after 14 steps: total_reward = -1.900e+01, mean_loss = 2.578e+00, state = a0**a1 - 1\n",
      "INFO - 2023-04-17 13:10:45,057 [history.py:76] : \n",
      "{'ep': 26, 'step': 178, 'complexity': 19.0, 'loss': 'nan', 'reward': '-4.000e+00', 'state': 1 - a1, 'approx': a0*(1 - a1) + a1}\n",
      "INFO - 2023-04-17 13:10:45,096 [base.py:347] : \n",
      "Solver terminated after 3 steps: total_reward = -1.800e+01, mean_loss = 2.336e+00, state = 1 - a1\n",
      "INFO - 2023-04-17 13:10:47,350 [history.py:76] : \n",
      "{'ep': 27, 'step': 211, 'complexity': 24.0, 'loss': 'nan', 'reward': '-4.000e+00', 'state': a0 - a1 - 4, 'approx': a0*(a0 - a1 - 4) + a1}\n",
      "INFO - 2023-04-17 13:10:47,395 [base.py:347] : \n",
      "Solver terminated after 34 steps: total_reward = -2.300e+01, mean_loss = 2.430e+00, state = a0 - a1 - 4\n",
      "INFO - 2023-04-17 13:10:47,821 [history.py:76] : \n",
      "{'ep': 28, 'step': 218, 'complexity': 18.0, 'loss': 'nan', 'reward': '-9.000e+00', 'state': (a0 + 1)**a0, 'approx': a0*(a0 + 1)**a0 + a1}\n",
      "INFO - 2023-04-17 13:10:47,862 [base.py:347] : \n",
      "Solver terminated after 8 steps: total_reward = -2.200e+01, mean_loss = 2.346e+00, state = (a0 + 1)**a0\n",
      "INFO - 2023-04-17 13:10:49,330 [history.py:76] : \n",
      "{'ep': 29, 'step': 241, 'complexity': 21.0, 'loss': 'nan', 'reward': '-2.000e+00', 'state': a0/a1**2, 'approx': a0**2/a1**2 + a1}\n",
      "INFO - 2023-04-17 13:10:49,375 [base.py:347] : \n",
      "Solver terminated after 24 steps: total_reward = -1.800e+01, mean_loss = 2.090e+00, state = a0/a1**2\n"
     ]
    }
   ],
   "source": [
    "env = Env(order=2)\n",
    "agent = AgentGCN(env, device='cuda:0')\n",
    "agent.train(30, eval=True)"
   ]
  },
  {
   "attachments": {},
   "cell_type": "markdown",
   "id": "45000e58",
   "metadata": {},
   "source": [
    "## Plot reward distribution for untrained agent ##"
   ]
  },
  {
   "cell_type": "code",
   "execution_count": 151,
   "id": "89f1b142",
   "metadata": {},
   "outputs": [
    {
     "data": {
      "image/png": "[encoded data removed]",
      "text/plain": [
       "<Figure size 640x480 with 1 Axes>"
      ]
     },
     "metadata": {},
     "output_type": "display_data"
    }
   ],
   "source": [
    "plot_reward_dist(env)"
   ]
  }
 ],
 "metadata": {
  "kernelspec": {
   "display_name": "ML_algebra",
   "language": "python",
   "name": "python3"
  },
  "language_info": {
   "codemirror_mode": {
    "name": "ipython",
    "version": 3
   },
   "file_extension": ".py",
   "mimetype": "text/x-python",
   "name": "python",
   "nbconvert_exporter": "python",
   "pygments_lexer": "ipython3",
   "version": "3.11.2"
  },
  "vscode": {
   "interpreter": {
    "hash": "0ce1a643ee56093b1be82db4e97db7e5d1a45bca875c4073dec42b817d93e5d8"
   }
  }
 },
 "nbformat": 4,
 "nbformat_minor": 5
}
