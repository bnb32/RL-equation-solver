{
 "cells": [
  {
   "cell_type": "code",
   "execution_count": 1,
   "id": "fccf727b",
   "metadata": {},
   "outputs": [],
   "source": [
    "%load_ext autoreload\n",
    "%autoreload 2"
   ]
  },
  {
   "cell_type": "code",
   "execution_count": 2,
   "id": "4d02f3b8",
   "metadata": {},
   "outputs": [],
   "source": [
    "import rl_equation_solver\n",
    "from rl_equation_solver.environment.algebraic import Env\n",
    "from rl_equation_solver.agent.dqn import Agent as AgentDQN\n",
    "from rl_equation_solver.agent.gcn import Agent as AgentGCN\n",
    "from rl_equation_solver.agent.lstm import Agent as AgentLSTM\n",
    "from rl_equation_solver.utilities import utilities\n",
    "from rl_equation_solver.utilities.utilities import GraphEmbedding\n",
    "import networkx as nx\n",
    "import numpy as np\n",
    "import matplotlib.pyplot as plt\n",
    "from rex import init_logger\n",
    "import torch\n",
    "from sympy import (\n",
    "    symbols,\n",
    "    sqrt,\n",
    "    simplify,\n",
    "    expand,\n",
    "    nsimplify,\n",
    "    parse_expr,\n",
    "    sympify,\n",
    ")\n",
    "import sympy\n",
    "import cProfile, pstats, io\n",
    "from pstats import SortKey\n",
    "from rl_equation_solver.agent.linear_a2c import Agent as LinearA2C\n",
    "from rl_equation_solver.agent.graph_a2c import Agent as GraphA2C\n",
    "from rl_equation_solver.agent.graph_lstm_a2c import Agent as GraphLstmA2C"
   ]
  },
  {
   "cell_type": "code",
   "execution_count": 3,
   "id": "ae10142f",
   "metadata": {},
   "outputs": [
    {
     "data": {
      "text/plain": [
       "<Logger rl_equation_solver (INFO)>"
      ]
     },
     "execution_count": 3,
     "metadata": {},
     "output_type": "execute_result"
    }
   ],
   "source": [
    "init_logger(__name__, log_level=\"INFO\")\n",
    "init_logger(\"rl_equation_solver\", log_level=\"INFO\")"
   ]
  },
  {
   "cell_type": "code",
   "execution_count": 4,
   "id": "9a8483ea",
   "metadata": {},
   "outputs": [],
   "source": [
    "def reject_outliers(x, data, m=2):\n",
    "    mask = abs(data - np.mean(data)) < m * np.std(data)\n",
    "    return np.array(x)[mask], np.array(data)[mask]"
   ]
  },
  {
   "cell_type": "code",
   "execution_count": 5,
   "id": "be013bcb",
   "metadata": {},
   "outputs": [],
   "source": [
    "# plot reward distribution\n",
    "def plot_reward_dist(env):\n",
    "    _, ax = plt.subplots(1, 1)\n",
    "    ax.hist(env.avg_history[\"reward\"])\n",
    "    ax.set_ylabel(\"Count\")\n",
    "    ax.set_xlabel(\"Reward\")\n",
    "    plt.show()\n",
    "\n",
    "# plot complexity, loss, reward\n",
    "def plot_trends(env):\n",
    "    fig, axes = plt.subplots(2, 2, figsize=(10, 8))\n",
    "    ax = axes.flatten()\n",
    "    history = env.total_history\n",
    "\n",
    "    x = np.arange(len(history[\"ep\"]))\n",
    "    y = history[\"complexity\"]\n",
    "    #x, y = reject_outliers(x, y)\n",
    "    a, b = np.polyfit(x, y, 1)\n",
    "    ax[0].scatter(x, y)\n",
    "    ax[0].plot(a * x + b, color=\"r\")\n",
    "\n",
    "    y = history[\"loss\"]\n",
    "    x = np.arange(len(history['ep']))\n",
    "    #x, y = reject_outliers(x, y)\n",
    "    mask = np.array([i for i, v in enumerate(y) if not np.isnan(v)])\n",
    "    mask = slice(mask[0], mask[-1] + 1)\n",
    "    a, b = np.polyfit(x[mask], y[mask], 1)\n",
    "    ax[1].scatter(x[mask], y[mask])\n",
    "    ax[1].plot(x[mask], a * x[mask] + b, color=\"r\")\n",
    "\n",
    "    y = history[\"reward\"]\n",
    "    x = np.arange(len(history['ep']))\n",
    "    #x, y = reject_outliers(x, y)\n",
    "    a, b = np.polyfit(x, y, 1)\n",
    "    ax[2].scatter(x, y)\n",
    "    ax[2].plot(a * x + b, color=\"r\")\n",
    "\n",
    "    y = history[\"loop_step\"]\n",
    "    x = np.arange(len(history['ep']))\n",
    "    #x, y = reject_outliers(x, y)\n",
    "    a, b = np.polyfit(x, y, 1)\n",
    "    ax[3].scatter(x, y)\n",
    "    ax[3].plot(a * x + b, color=\"r\")\n",
    "\n",
    "    ax[0].set_title(\"Complexity\")\n",
    "    ax[1].set_title(\"Loss\")\n",
    "    ax[2].set_title(\"Reward\")\n",
    "    ax[3].set_title(\"Steps\")\n",
    "\n",
    "    plt.show()"
   ]
  },
  {
   "attachments": {},
   "cell_type": "markdown",
   "id": "f85f9cda",
   "metadata": {},
   "source": [
    "## Initialize Env and Agent ##\n",
    "### Agent can be AgentGCN, AgentLSTM, AgentDQN ###"
   ]
  },
  {
   "cell_type": "code",
   "execution_count": 6,
   "id": "15cbb9a6",
   "metadata": {},
   "outputs": [
    {
     "name": "stdout",
     "output_type": "stream",
     "text": [
      "INFO - 2023-05-07 20:48:18,099 [algebraic.py:116] : Initializing environment with order=2, |S| = 10 x 128 = 1280\n",
      "INFO - 2023-05-07 20:48:18,099 [algebraic.py:121] : Using reward function: diff_loss_reward.\n"
     ]
    }
   ],
   "source": [
    "env = Env(order=2, config={\"reward_function\": \"diff_loss_reward\", \"state_dim\": 128})"
   ]
  },
  {
   "cell_type": "code",
   "execution_count": 7,
   "id": "a91e477c",
   "metadata": {},
   "outputs": [],
   "source": [
    "config = {\"learning_rate\": 5e-4, \"device\": \"cuda:0\", \"update_freq\": 30, 'grad_clip': 100, 'max_solution_steps': 10000, 'state_dim': 128}"
   ]
  },
  {
   "cell_type": "code",
   "execution_count": 9,
   "id": "84e9ce65",
   "metadata": {},
   "outputs": [
    {
     "name": "stdout",
     "output_type": "stream",
     "text": [
      "INFO - 2023-05-07 20:48:35,961 [base.py:79] : Initialized Agent with config: {'batch_size': 32, 'gamma': 0.9, 'learning_rate': 0.0005, 'hidden_size': 64, 'memory_cap': 10000, 'fill_memory_steps': 64, 'state_dim': 128, 'feature_num': 100, 'grad_clip': 100, 'device': 'cuda:0', 'entropy_coef': 0.3, 'critic_coef': 0.8}\n",
      "INFO - 2023-05-07 20:48:35,962 [base.py:61] : Initialized Agent with device cuda:0\n"
     ]
    }
   ],
   "source": [
    "#agent = GraphLstmA2C(env=env, config=config)\n",
    "#agent = AgentGCN(env=env, config=config)\n",
    "#agent = LinearA2C(env=env, config=config)\n",
    "agent = GraphA2C(env=env, config=config)"
   ]
  },
  {
   "cell_type": "code",
   "execution_count": 10,
   "id": "7b510867",
   "metadata": {},
   "outputs": [
    {
     "name": "stdout",
     "output_type": "stream",
     "text": [
      "INFO - 2023-05-07 20:48:36,890 [base.py:79] : Initialized Agent with config: {'batch_size': 32, 'gamma': 0.9, 'learning_rate': 0.0005, 'hidden_size': 64, 'memory_cap': 10000, 'fill_memory_steps': 64, 'state_dim': 128, 'feature_num': 100, 'grad_clip': 100, 'device': 'cuda:0', 'entropy_coef': 0.3, 'critic_coef': 0.8}\n"
     ]
    }
   ],
   "source": [
    "agent.update_config(config)"
   ]
  },
  {
   "attachments": {},
   "cell_type": "markdown",
   "id": "0f5a40c6",
   "metadata": {},
   "source": [
    "## Train Agent ##"
   ]
  },
  {
   "cell_type": "code",
   "execution_count": 11,
   "id": "17ec5b9b",
   "metadata": {},
   "outputs": [
    {
     "name": "stdout",
     "output_type": "stream",
     "text": [
      "INFO - 2023-05-07 20:48:37,859 [base.py:238] : Running training routine for 1000 episodes in eval=False mode.\n"
     ]
    },
    {
     "name": "stderr",
     "output_type": "stream",
     "text": [
      "{'ep': '1   ', 'step': '10603', 'loop_step': '10000', 'complexity': '925      ', 'loss': '3.49e+00 ', 'reward': '-2.0     ', 'state': '0**a0 + 1 - 898*a1  '}: : 1it [08:56, 25.52s/it]  "
     ]
    },
    {
     "name": "stdout",
     "output_type": "stream",
     "text": [
      "INFO - 2023-05-07 20:57:34,346 [algebraic.py:472] : loop_step 10001 exceeded max 10000\n"
     ]
    },
    {
     "name": "stderr",
     "output_type": "stream",
     "text": [
      "{'ep': '2   ', 'step': '20605', 'loop_step': '10000', 'complexity': '10030    ', 'loss': '1.18e+01 ', 'reward': '-2.0     ', 'state': '0 - a0 - 10000*a1   '}: : 2it [17:41, 310.97s/it]"
     ]
    },
    {
     "name": "stdout",
     "output_type": "stream",
     "text": [
      "INFO - 2023-05-07 21:06:19,958 [algebraic.py:472] : loop_step 10001 exceeded max 10000\n"
     ]
    },
    {
     "name": "stderr",
     "output_type": "stream",
     "text": [
      "{'ep': '3   ', 'step': '30607', 'loop_step': '10000', 'complexity': '10026    ', 'loss': '3.39e-01 ', 'reward': '-2.0     ', 'state': '0**a0 + 1 - 9999*a1 '}: : 3it [26:39, 408.98s/it]"
     ]
    },
    {
     "name": "stdout",
     "output_type": "stream",
     "text": [
      "INFO - 2023-05-07 21:15:17,350 [algebraic.py:472] : loop_step 10001 exceeded max 10000\n"
     ]
    },
    {
     "name": "stderr",
     "output_type": "stream",
     "text": [
      "{'ep': '4   ', 'step': '40609', 'loop_step': '10000', 'complexity': '8392     ', 'loss': '6.48e-01 ', 'reward': '-2.0     ', 'state': '0**a0 + a0 - 8363*a1'}: : 4it [35:05, 459.67s/it]     "
     ]
    },
    {
     "name": "stdout",
     "output_type": "stream",
     "text": [
      "INFO - 2023-05-07 21:23:43,186 [algebraic.py:472] : loop_step 10001 exceeded max 10000\n"
     ]
    },
    {
     "name": "stderr",
     "output_type": "stream",
     "text": [
      "{'ep': '5   ', 'step': '50611', 'loop_step': '10000', 'complexity': '33       ', 'loss': '6.20e+00 ', 'reward': '0.0      ', 'state': '0 - 1 + 3*a0        '}: : 5it [43:09, 476.32s/it] "
     ]
    },
    {
     "name": "stdout",
     "output_type": "stream",
     "text": [
      "INFO - 2023-05-07 21:31:47,219 [algebraic.py:472] : loop_step 10001 exceeded max 10000\n"
     ]
    },
    {
     "name": "stderr",
     "output_type": "stream",
     "text": [
      "{'ep': '6   ', 'step': '60613', 'loop_step': '10000', 'complexity': '33       ', 'loss': '1.59e+00 ', 'reward': '-4.0     ', 'state': '0 + 3*a0 - a1       '}: : 6it [50:58, 478.94s/it]"
     ]
    },
    {
     "name": "stdout",
     "output_type": "stream",
     "text": [
      "INFO - 2023-05-07 21:39:36,770 [algebraic.py:472] : loop_step 10001 exceeded max 10000\n"
     ]
    },
    {
     "name": "stderr",
     "output_type": "stream",
     "text": [
      "{'ep': '7   ', 'step': '70615', 'loop_step': '10000', 'complexity': '185      ', 'loss': '6.02e+01 ', 'reward': '-2.0     ', 'state': '0 - 90*1 + 60*a0 + a1'}: : 7it [59:13, 475.87s/it] "
     ]
    },
    {
     "name": "stdout",
     "output_type": "stream",
     "text": [
      "INFO - 2023-05-07 21:47:51,914 [algebraic.py:472] : loop_step 10001 exceeded max 10000\n"
     ]
    },
    {
     "name": "stderr",
     "output_type": "stream",
     "text": [
      "{'ep': '8   ', 'step': '80617', 'loop_step': '10000', 'complexity': '7266     ', 'loss': '1.55e+01 ', 'reward': '-2.0     ', 'state': '0 + 327*1 - 6904*a0 + a1'}: : 8it [1:08:58, 482.01s/it]"
     ]
    },
    {
     "name": "stdout",
     "output_type": "stream",
     "text": [
      "INFO - 2023-05-07 21:57:36,347 [algebraic.py:472] : loop_step 10001 exceeded max 10000\n"
     ]
    },
    {
     "name": "stderr",
     "output_type": "stream",
     "text": [
      "{'ep': '9   ', 'step': '90619', 'loop_step': '10000', 'complexity': '82       ', 'loss': '-2.63e+00', 'reward': '0.0      ', 'state': '0 + 30*1 - 23*a0    '}: : 9it [1:17:03, 514.03s/it]    "
     ]
    },
    {
     "name": "stdout",
     "output_type": "stream",
     "text": [
      "INFO - 2023-05-07 22:05:41,478 [algebraic.py:472] : loop_step 10001 exceeded max 10000\n"
     ]
    },
    {
     "name": "stderr",
     "output_type": "stream",
     "text": [
      "{'ep': '10  ', 'step': '100621', 'loop_step': '10000', 'complexity': '40       ', 'loss': '3.08e-01 ', 'reward': '3.0      ', 'state': '0 + 15*1 + a0       '}: : 10it [1:25:02, 505.11s/it]"
     ]
    },
    {
     "name": "stdout",
     "output_type": "stream",
     "text": [
      "INFO - 2023-05-07 22:13:40,351 [algebraic.py:472] : loop_step 10001 exceeded max 10000\n"
     ]
    },
    {
     "name": "stderr",
     "output_type": "stream",
     "text": [
      "{'ep': '11  ', 'step': '110623', 'loop_step': '10000', 'complexity': '75       ', 'loss': '2.21e+00 ', 'reward': '0.0      ', 'state': '0 - 44*1 + a0 + a1  '}: : 11it [1:32:53, 497.08s/it]"
     ]
    },
    {
     "name": "stdout",
     "output_type": "stream",
     "text": [
      "INFO - 2023-05-07 22:21:31,784 [algebraic.py:472] : loop_step 10001 exceeded max 10000\n"
     ]
    },
    {
     "name": "stderr",
     "output_type": "stream",
     "text": [
      "{'ep': '12  ', 'step': '120625', 'loop_step': '10000', 'complexity': '8946     ', 'loss': '2.45e+00 ', 'reward': '-2.0     ', 'state': '0 + 834*1 - 8077*a0 + a1'}: : 12it [1:43:03, 489.28s/it]"
     ]
    },
    {
     "name": "stdout",
     "output_type": "stream",
     "text": [
      "INFO - 2023-05-07 22:31:41,179 [algebraic.py:472] : loop_step 10001 exceeded max 10000\n"
     ]
    },
    {
     "name": "stderr",
     "output_type": "stream",
     "text": [
      "{'ep': '13  ', 'step': '130627', 'loop_step': '10000', 'complexity': '45       ', 'loss': '-7.20e+00', 'reward': '0.0      ', 'state': '0 + 13*1 - 3*a0     '}: : 13it [1:50:58, 525.66s/it]    "
     ]
    },
    {
     "name": "stdout",
     "output_type": "stream",
     "text": [
      "INFO - 2023-05-07 22:39:36,663 [algebraic.py:472] : loop_step 10001 exceeded max 10000\n"
     ]
    },
    {
     "name": "stderr",
     "output_type": "stream",
     "text": [
      "{'ep': '14  ', 'step': '140629', 'loop_step': '10000', 'complexity': '32       ', 'loss': '2.66e+01 ', 'reward': '-3.0     ', 'state': '0 - 1 - 2*a0        '}: : 14it [1:58:19, 510.51s/it]"
     ]
    },
    {
     "name": "stdout",
     "output_type": "stream",
     "text": [
      "INFO - 2023-05-07 22:46:57,891 [algebraic.py:472] : loop_step 10001 exceeded max 10000\n"
     ]
    },
    {
     "name": "stderr",
     "output_type": "stream",
     "text": [
      "{'ep': '15  ', 'step': '150631', 'loop_step': '10000', 'complexity': '52       ', 'loss': '-2.21e-01', 'reward': '0.0      ', 'state': '0 - 10*1 + 13*a0    '}: : 15it [2:05:42, 489.62s/it]"
     ]
    },
    {
     "name": "stdout",
     "output_type": "stream",
     "text": [
      "INFO - 2023-05-07 22:54:20,428 [algebraic.py:472] : loop_step 10001 exceeded max 10000\n"
     ]
    },
    {
     "name": "stderr",
     "output_type": "stream",
     "text": [
      "{'ep': '16  ', 'step': '160633', 'loop_step': '10000', 'complexity': '38       ', 'loss': '1.39e+01 ', 'reward': '0.0      ', 'state': '0 + 8*1 - a0        '}: : 16it [2:13:13, 475.45s/it]"
     ]
    },
    {
     "name": "stdout",
     "output_type": "stream",
     "text": [
      "INFO - 2023-05-07 23:01:51,612 [algebraic.py:472] : loop_step 10001 exceeded max 10000\n"
     ]
    },
    {
     "name": "stderr",
     "output_type": "stream",
     "text": [
      "{'ep': '17  ', 'step': '170635', 'loop_step': '10000', 'complexity': '54       ', 'loss': '1.24e+01 ', 'reward': '0.0      ', 'state': '0 - 7*1 + 18*a0     '}: : 17it [2:20:58, 468.15s/it]"
     ]
    },
    {
     "name": "stdout",
     "output_type": "stream",
     "text": [
      "INFO - 2023-05-07 23:09:36,280 [algebraic.py:472] : loop_step 10001 exceeded max 10000\n"
     ]
    },
    {
     "name": "stderr",
     "output_type": "stream",
     "text": [
      "{'ep': '18  ', 'step': '180637', 'loop_step': '10000', 'complexity': '83       ', 'loss': '-3.61e-01', 'reward': '-2.0     ', 'state': '0 - 11*1 + 43*a0    '}: : 18it [2:28:31, 467.11s/it]"
     ]
    },
    {
     "name": "stdout",
     "output_type": "stream",
     "text": [
      "INFO - 2023-05-07 23:17:09,921 [algebraic.py:472] : loop_step 10001 exceeded max 10000\n"
     ]
    },
    {
     "name": "stderr",
     "output_type": "stream",
     "text": [
      "{'ep': '19  ', 'step': '190639', 'loop_step': '10000', 'complexity': '29       ', 'loss': '6.77e+00 ', 'reward': '-2.0     ', 'state': '0 + 4*1 + a0        '}: : 19it [2:36:44, 463.06s/it]"
     ]
    },
    {
     "name": "stdout",
     "output_type": "stream",
     "text": [
      "INFO - 2023-05-07 23:25:22,794 [algebraic.py:472] : loop_step 10001 exceeded max 10000\n"
     ]
    },
    {
     "name": "stderr",
     "output_type": "stream",
     "text": [
      "{'ep': '20  ', 'step': '200641', 'loop_step': '10000', 'complexity': '57       ', 'loss': '2.82e+00 ', 'reward': '-2.0     ', 'state': '0 + 24*1 - 4*a0     '}: : 20it [2:44:24, 472.01s/it]"
     ]
    },
    {
     "name": "stdout",
     "output_type": "stream",
     "text": [
      "INFO - 2023-05-07 23:33:02,152 [algebraic.py:472] : loop_step 10001 exceeded max 10000\n"
     ]
    },
    {
     "name": "stderr",
     "output_type": "stream",
     "text": [
      "{'ep': '21  ', 'step': '210643', 'loop_step': '10000', 'complexity': '41       ', 'loss': '9.08e+00 ', 'reward': '-2.0     ', 'state': '0 + 10*1 - 2*a0     '}: : 21it [2:51:52, 468.21s/it]"
     ]
    },
    {
     "name": "stdout",
     "output_type": "stream",
     "text": [
      "INFO - 2023-05-07 23:40:30,820 [algebraic.py:472] : loop_step 10001 exceeded max 10000\n"
     ]
    },
    {
     "name": "stderr",
     "output_type": "stream",
     "text": [
      "{'ep': '22  ', 'step': '220645', 'loop_step': '10000', 'complexity': '30       ', 'loss': '-2.67e+00', 'reward': '2.0      ', 'state': '0 + 2*1 - a0        '}: : 22it [2:58:47, 462.35s/it]"
     ]
    },
    {
     "name": "stdout",
     "output_type": "stream",
     "text": [
      "INFO - 2023-05-07 23:47:25,863 [algebraic.py:472] : loop_step 10001 exceeded max 10000\n"
     ]
    },
    {
     "name": "stderr",
     "output_type": "stream",
     "text": [
      "{'ep': '23  ', 'step': '230647', 'loop_step': '10000', 'complexity': '133      ', 'loss': '4.76e+00 ', 'reward': '-2.0     ', 'state': '0 - 34*1 + 70*a0    '}: : 23it [3:05:22, 448.15s/it]"
     ]
    },
    {
     "name": "stdout",
     "output_type": "stream",
     "text": [
      "INFO - 2023-05-07 23:54:00,149 [algebraic.py:472] : loop_step 10001 exceeded max 10000\n"
     ]
    },
    {
     "name": "stderr",
     "output_type": "stream",
     "text": [
      "{'ep': '24  ', 'step': '240649', 'loop_step': '10000', 'complexity': '5        ', 'loss': '3.69e+03 ', 'reward': '3.0      ', 'state': '0/a0                '}: : 24it [3:12:46, 431.99s/it]"
     ]
    },
    {
     "name": "stdout",
     "output_type": "stream",
     "text": [
      "INFO - 2023-05-08 00:01:24,420 [algebraic.py:472] : loop_step 10001 exceeded max 10000\n"
     ]
    },
    {
     "name": "stderr",
     "output_type": "stream",
     "text": [
      "{'ep': '25  ', 'step': '250651', 'loop_step': '10000', 'complexity': '32       ', 'loss': '1.92e+03 ', 'reward': '-3.0     ', 'state': '0 - 2*1 - a0        '}: : 25it [3:19:30, 435.67s/it]"
     ]
    },
    {
     "name": "stdout",
     "output_type": "stream",
     "text": [
      "INFO - 2023-05-08 00:08:08,939 [algebraic.py:472] : loop_step 10001 exceeded max 10000\n"
     ]
    },
    {
     "name": "stderr",
     "output_type": "stream",
     "text": [
      "{'ep': '26  ', 'step': '260653', 'loop_step': '10000', 'complexity': '33       ', 'loss': '1.22e+01 ', 'reward': '3.0      ', 'state': '0 - 2*1 + a0 + a1   '}: : 26it [3:26:30, 426.33s/it]  "
     ]
    },
    {
     "name": "stdout",
     "output_type": "stream",
     "text": [
      "INFO - 2023-05-08 00:15:08,657 [algebraic.py:472] : loop_step 10001 exceeded max 10000\n"
     ]
    },
    {
     "name": "stderr",
     "output_type": "stream",
     "text": [
      "{'ep': '27  ', 'step': '270655', 'loop_step': '10000', 'complexity': '2230     ', 'loss': '-2.26e+00', 'reward': '-2.0     ', 'state': '0 + 829*1 - 1366*a0 + a1'}: : 27it [3:35:33, 424.34s/it]"
     ]
    },
    {
     "name": "stdout",
     "output_type": "stream",
     "text": [
      "INFO - 2023-05-08 00:24:11,728 [algebraic.py:472] : loop_step 10001 exceeded max 10000\n"
     ]
    },
    {
     "name": "stderr",
     "output_type": "stream",
     "text": [
      "{'ep': '28  ', 'step': '280657', 'loop_step': '10000', 'complexity': '21       ', 'loss': '1.57e+01 ', 'reward': '2.0      ', 'state': '0 + 2*a0            '}: : 28it [3:43:19, 459.96s/it]    "
     ]
    },
    {
     "name": "stdout",
     "output_type": "stream",
     "text": [
      "INFO - 2023-05-08 00:31:57,553 [algebraic.py:472] : loop_step 10001 exceeded max 10000\n"
     ]
    },
    {
     "name": "stderr",
     "output_type": "stream",
     "text": [
      "{'ep': '29  ', 'step': '290659', 'loop_step': '10000', 'complexity': '8386     ', 'loss': '6.02e+00 ', 'reward': '-2.0     ', 'state': '0 + 2282*1 - 6069*a0 + a1'}: : 29it [3:53:14, 461.72s/it]"
     ]
    },
    {
     "name": "stdout",
     "output_type": "stream",
     "text": [
      "INFO - 2023-05-08 00:41:52,221 [algebraic.py:472] : loop_step 10001 exceeded max 10000\n"
     ]
    },
    {
     "name": "stderr",
     "output_type": "stream",
     "text": [
      "{'ep': '30  ', 'step': '300661', 'loop_step': '10000', 'complexity': '52       ', 'loss': '4.72e+00 ', 'reward': '0.0      ', 'state': '0 + 21*1 + a0 + a1  '}: : 30it [4:01:22, 501.61s/it]     "
     ]
    },
    {
     "name": "stdout",
     "output_type": "stream",
     "text": [
      "INFO - 2023-05-08 00:50:00,783 [algebraic.py:472] : loop_step 10001 exceeded max 10000\n"
     ]
    },
    {
     "name": "stderr",
     "output_type": "stream",
     "text": [
      "{'ep': '31  ', 'step': '310663', 'loop_step': '10000', 'complexity': '6355     ', 'loss': '2.14e+00 ', 'reward': '-2.0     ', 'state': '0 + 1950*1 - 4370*a0 + a1'}: : 31it [4:11:12, 497.69s/it]"
     ]
    },
    {
     "name": "stdout",
     "output_type": "stream",
     "text": [
      "INFO - 2023-05-08 00:59:50,154 [algebraic.py:472] : loop_step 10001 exceeded max 10000\n"
     ]
    },
    {
     "name": "stderr",
     "output_type": "stream",
     "text": [
      "{'ep': '32  ', 'step': '320665', 'loop_step': '10000', 'complexity': '4147     ', 'loss': '3.48e-01 ', 'reward': '-2.0     ', 'state': '0 + 1276*1 - 2836*a0 + a1'}: : 32it [4:19:54, 525.20s/it]"
     ]
    },
    {
     "name": "stdout",
     "output_type": "stream",
     "text": [
      "INFO - 2023-05-08 01:08:32,358 [algebraic.py:472] : loop_step 10001 exceeded max 10000\n"
     ]
    },
    {
     "name": "stderr",
     "output_type": "stream",
     "text": [
      "{'ep': '33  ', 'step': '330667', 'loop_step': '10000', 'complexity': '54       ', 'loss': '3.41e+00 ', 'reward': '-9.0     ', 'state': '0**a0 + 25*1 + a0   '}: : 33it [4:27:22, 524.30s/it]     "
     ]
    },
    {
     "name": "stdout",
     "output_type": "stream",
     "text": [
      "INFO - 2023-05-08 01:16:00,513 [algebraic.py:472] : loop_step 10001 exceeded max 10000\n"
     ]
    },
    {
     "name": "stderr",
     "output_type": "stream",
     "text": [
      "{'ep': '34  ', 'step': '340669', 'loop_step': '10000', 'complexity': '29       ', 'loss': '1.60e+00 ', 'reward': '1.0      ', 'state': '0 + 1 + a0 + a1     '}: : 34it [4:34:06, 501.46s/it]"
     ]
    },
    {
     "name": "stdout",
     "output_type": "stream",
     "text": [
      "INFO - 2023-05-08 01:22:44,850 [algebraic.py:472] : loop_step 10001 exceeded max 10000\n"
     ]
    },
    {
     "name": "stderr",
     "output_type": "stream",
     "text": [
      "{'ep': '35  ', 'step': '350671', 'loop_step': '10000', 'complexity': '52       ', 'loss': '1.63e+00 ', 'reward': '-2.0     ', 'state': '0 - 16*1 - a0 + a1  '}: : 35it [4:40:03, 472.32s/it]"
     ]
    },
    {
     "name": "stdout",
     "output_type": "stream",
     "text": [
      "INFO - 2023-05-08 01:28:41,339 [algebraic.py:472] : loop_step 10001 exceeded max 10000\n"
     ]
    },
    {
     "name": "stderr",
     "output_type": "stream",
     "text": [
      "{'ep': '36  ', 'step': '360673', 'loop_step': '10000', 'complexity': '13       ', 'loss': '9.93e+00 ', 'reward': '8.0      ', 'state': '0**a0               '}: : 36it [4:46:05, 437.57s/it]"
     ]
    },
    {
     "name": "stdout",
     "output_type": "stream",
     "text": [
      "INFO - 2023-05-08 01:34:43,687 [algebraic.py:472] : loop_step 10001 exceeded max 10000\n"
     ]
    },
    {
     "name": "stderr",
     "output_type": "stream",
     "text": [
      "{'ep': '37  ', 'step': '370675', 'loop_step': '10000', 'complexity': '20       ', 'loss': '1.07e+01 ', 'reward': '-2.0     ', 'state': '0 - 3*1             '}: : 37it [4:51:38, 415.00s/it]"
     ]
    },
    {
     "name": "stdout",
     "output_type": "stream",
     "text": [
      "INFO - 2023-05-08 01:40:16,283 [algebraic.py:472] : loop_step 10001 exceeded max 10000\n"
     ]
    },
    {
     "name": "stderr",
     "output_type": "stream",
     "text": [
      "{'ep': '38  ', 'step': '380677', 'loop_step': '10000', 'complexity': '5        ', 'loss': '3.25e+00 ', 'reward': '8.0      ', 'state': '0/a0                '}: : 38it [4:56:47, 390.28s/it]"
     ]
    },
    {
     "name": "stdout",
     "output_type": "stream",
     "text": [
      "INFO - 2023-05-08 01:45:25,182 [algebraic.py:472] : loop_step 10001 exceeded max 10000\n"
     ]
    },
    {
     "name": "stderr",
     "output_type": "stream",
     "text": [
      "{'ep': '39  ', 'step': '390679', 'loop_step': '10000', 'complexity': '14       ', 'loss': '2.33e+00 ', 'reward': '-10.0    ', 'state': '0/a0 - 1            '}: : 39it [5:01:55, 365.87s/it]"
     ]
    },
    {
     "name": "stdout",
     "output_type": "stream",
     "text": [
      "INFO - 2023-05-08 01:50:33,567 [algebraic.py:472] : loop_step 10001 exceeded max 10000\n"
     ]
    },
    {
     "name": "stderr",
     "output_type": "stream",
     "text": [
      "{'ep': '40  ', 'step': '400681', 'loop_step': '10000', 'complexity': '5        ', 'loss': '1.35e+01 ', 'reward': '8.0      ', 'state': '0/a0                '}: : 40it [5:06:59, 348.62s/it]"
     ]
    },
    {
     "name": "stdout",
     "output_type": "stream",
     "text": [
      "INFO - 2023-05-08 01:55:37,547 [algebraic.py:472] : loop_step 10001 exceeded max 10000\n"
     ]
    },
    {
     "name": "stderr",
     "output_type": "stream",
     "text": [
      "{'ep': '41  ', 'step': '410683', 'loop_step': '10000', 'complexity': '14       ', 'loss': '7.55e+00 ', 'reward': '0.0      ', 'state': '0/a0 - 1            '}: : 41it [5:11:48, 335.23s/it]"
     ]
    },
    {
     "name": "stdout",
     "output_type": "stream",
     "text": [
      "INFO - 2023-05-08 02:00:26,570 [algebraic.py:472] : loop_step 10001 exceeded max 10000\n"
     ]
    },
    {
     "name": "stderr",
     "output_type": "stream",
     "text": [
      "{'ep': '42  ', 'step': '420685', 'loop_step': '10000', 'complexity': '5        ', 'loss': '2.78e+00 ', 'reward': '8.0      ', 'state': '0/a0                '}: : 42it [5:16:39, 321.37s/it]"
     ]
    },
    {
     "name": "stdout",
     "output_type": "stream",
     "text": [
      "INFO - 2023-05-08 02:05:17,378 [algebraic.py:472] : loop_step 10001 exceeded max 10000\n"
     ]
    },
    {
     "name": "stderr",
     "output_type": "stream",
     "text": [
      "{'ep': '43  ', 'step': '430687', 'loop_step': '10000', 'complexity': '14       ', 'loss': '4.34e+00 ', 'reward': '-10.0    ', 'state': '0/a0 - 1            '}: : 43it [5:21:38, 312.20s/it]"
     ]
    },
    {
     "name": "stdout",
     "output_type": "stream",
     "text": [
      "INFO - 2023-05-08 02:10:16,125 [algebraic.py:472] : loop_step 10001 exceeded max 10000\n"
     ]
    },
    {
     "name": "stderr",
     "output_type": "stream",
     "text": [
      "{'ep': '44  ', 'step': '440689', 'loop_step': '10000', 'complexity': '5        ', 'loss': '3.23e+00 ', 'reward': '8.0      ', 'state': '0/a0                '}: : 44it [5:26:25, 308.16s/it]"
     ]
    },
    {
     "name": "stdout",
     "output_type": "stream",
     "text": [
      "INFO - 2023-05-08 02:15:03,644 [algebraic.py:472] : loop_step 10001 exceeded max 10000\n"
     ]
    },
    {
     "name": "stderr",
     "output_type": "stream",
     "text": [
      "{'ep': '45  ', 'step': '450691', 'loop_step': '10000', 'complexity': '11       ', 'loss': '-4.68e-01', 'reward': '-7.0     ', 'state': '0/a0 + 1            '}: : 45it [5:31:13, 301.97s/it]"
     ]
    },
    {
     "name": "stdout",
     "output_type": "stream",
     "text": [
      "INFO - 2023-05-08 02:19:51,227 [algebraic.py:472] : loop_step 10001 exceeded max 10000\n"
     ]
    },
    {
     "name": "stderr",
     "output_type": "stream",
     "text": [
      "{'ep': '46  ', 'step': '460693', 'loop_step': '10000', 'complexity': '14       ', 'loss': '-1.62e+00', 'reward': '-10.0    ', 'state': '0/a0 - 1            '}: : 46it [5:35:58, 297.65s/it]"
     ]
    },
    {
     "name": "stdout",
     "output_type": "stream",
     "text": [
      "INFO - 2023-05-08 02:24:37,050 [algebraic.py:472] : loop_step 10001 exceeded max 10000\n"
     ]
    },
    {
     "name": "stderr",
     "output_type": "stream",
     "text": [
      "{'ep': '47  ', 'step': '470695', 'loop_step': '10000', 'complexity': '11       ', 'loss': '1.18e+00 ', 'reward': '-7.0     ', 'state': '0/a0 + 1            '}: : 47it [5:40:47, 294.10s/it]"
     ]
    },
    {
     "name": "stdout",
     "output_type": "stream",
     "text": [
      "INFO - 2023-05-08 02:29:25,588 [algebraic.py:472] : loop_step 10001 exceeded max 10000\n"
     ]
    },
    {
     "name": "stderr",
     "output_type": "stream",
     "text": [
      "{'ep': '48  ', 'step': '480697', 'loop_step': '10000', 'complexity': '20       ', 'loss': '8.97e+00 ', 'reward': '-2.0     ', 'state': '0 - 3*1             '}: : 48it [5:45:50, 292.43s/it]"
     ]
    },
    {
     "name": "stdout",
     "output_type": "stream",
     "text": [
      "INFO - 2023-05-08 02:34:28,428 [algebraic.py:472] : loop_step 10001 exceeded max 10000\n"
     ]
    },
    {
     "name": "stderr",
     "output_type": "stream",
     "text": [
      "{'ep': '49  ', 'step': '490699', 'loop_step': '10000', 'complexity': '14       ', 'loss': '-1.75e-01', 'reward': '-10.0    ', 'state': '0/a0 - 1            '}: : 49it [5:50:44, 295.56s/it]"
     ]
    },
    {
     "name": "stdout",
     "output_type": "stream",
     "text": [
      "INFO - 2023-05-08 02:39:22,407 [algebraic.py:472] : loop_step 10001 exceeded max 10000\n"
     ]
    },
    {
     "name": "stderr",
     "output_type": "stream",
     "text": [
      "{'ep': '50  ', 'step': '500701', 'loop_step': '10000', 'complexity': '72       ', 'loss': '4.71e+01 ', 'reward': '-2.0     ', 'state': '0**a0 + 51*1        '}: : 50it [5:55:51, 295.08s/it]"
     ]
    },
    {
     "name": "stdout",
     "output_type": "stream",
     "text": [
      "INFO - 2023-05-08 02:44:29,977 [algebraic.py:472] : loop_step 10001 exceeded max 10000\n"
     ]
    },
    {
     "name": "stderr",
     "output_type": "stream",
     "text": [
      "{'ep': '51  ', 'step': '510703', 'loop_step': '10000', 'complexity': '16       ', 'loss': '-4.18e+00', 'reward': '-2.0     ', 'state': '0/a0 + 3*1          '}: : 51it [6:01:15, 298.83s/it]"
     ]
    },
    {
     "name": "stdout",
     "output_type": "stream",
     "text": [
      "INFO - 2023-05-08 02:49:54,028 [algebraic.py:472] : loop_step 10001 exceeded max 10000\n"
     ]
    },
    {
     "name": "stderr",
     "output_type": "stream",
     "text": [
      "{'ep': '52  ', 'step': '520705', 'loop_step': '10000', 'complexity': '14       ', 'loss': '1.27e+00 ', 'reward': '-10.0    ', 'state': '0/a0 - 1            '}: : 52it [6:06:13, 306.40s/it]"
     ]
    },
    {
     "name": "stdout",
     "output_type": "stream",
     "text": [
      "INFO - 2023-05-08 02:54:51,688 [algebraic.py:472] : loop_step 10001 exceeded max 10000\n"
     ]
    },
    {
     "name": "stderr",
     "output_type": "stream",
     "text": [
      "{'ep': '53  ', 'step': '530707', 'loop_step': '10000', 'complexity': '5        ', 'loss': '2.37e+00 ', 'reward': '8.0      ', 'state': '0/a0                '}: : 53it [6:11:13, 303.77s/it]"
     ]
    },
    {
     "name": "stdout",
     "output_type": "stream",
     "text": [
      "INFO - 2023-05-08 02:59:51,754 [algebraic.py:472] : loop_step 10001 exceeded max 10000\n"
     ]
    },
    {
     "name": "stderr",
     "output_type": "stream",
     "text": [
      "{'ep': '54  ', 'step': '540709', 'loop_step': '10000', 'complexity': '22       ', 'loss': '1.17e+01 ', 'reward': '-10.0    ', 'state': '0**a0 - 1           '}: : 54it [6:16:39, 302.66s/it]"
     ]
    },
    {
     "name": "stdout",
     "output_type": "stream",
     "text": [
      "INFO - 2023-05-08 03:05:17,232 [algebraic.py:472] : loop_step 10001 exceeded max 10000\n"
     ]
    },
    {
     "name": "stderr",
     "output_type": "stream",
     "text": [
      "{'ep': '55  ', 'step': '550711', 'loop_step': '10000', 'complexity': '5        ', 'loss': '7.20e+00 ', 'reward': '8.0      ', 'state': '0/a0                '}: : 55it [6:21:49, 309.51s/it]"
     ]
    },
    {
     "name": "stdout",
     "output_type": "stream",
     "text": [
      "INFO - 2023-05-08 03:10:27,681 [algebraic.py:472] : loop_step 10001 exceeded max 10000\n"
     ]
    },
    {
     "name": "stderr",
     "output_type": "stream",
     "text": [
      "{'ep': '56  ', 'step': '560713', 'loop_step': '10000', 'complexity': '5        ', 'loss': '4.10e+03 ', 'reward': '3.0      ', 'state': '0/a0                '}: : 56it [6:26:43, 309.79s/it]"
     ]
    },
    {
     "name": "stdout",
     "output_type": "stream",
     "text": [
      "INFO - 2023-05-08 03:15:21,662 [algebraic.py:472] : loop_step 10001 exceeded max 10000\n"
     ]
    },
    {
     "name": "stderr",
     "output_type": "stream",
     "text": [
      "{'ep': '57  ', 'step': '570715', 'loop_step': '10000', 'complexity': '14       ', 'loss': '1.05e+03 ', 'reward': '-10.0    ', 'state': '0/a0 - 1            '}: : 57it [6:31:28, 305.05s/it]"
     ]
    },
    {
     "name": "stdout",
     "output_type": "stream",
     "text": [
      "INFO - 2023-05-08 03:20:06,684 [algebraic.py:472] : loop_step 10001 exceeded max 10000\n"
     ]
    },
    {
     "name": "stderr",
     "output_type": "stream",
     "text": [
      "{'ep': '58  ', 'step': '580717', 'loop_step': '10000', 'complexity': '15       ', 'loss': '1.04e+00 ', 'reward': '-2.0     ', 'state': '0/a0 - 2*1          '}: : 58it [6:36:15, 299.04s/it]"
     ]
    },
    {
     "name": "stdout",
     "output_type": "stream",
     "text": [
      "INFO - 2023-05-08 03:24:53,478 [algebraic.py:472] : loop_step 10001 exceeded max 10000\n"
     ]
    },
    {
     "name": "stderr",
     "output_type": "stream",
     "text": [
      "{'ep': '59  ', 'step': '590719', 'loop_step': '10000', 'complexity': '14       ', 'loss': '4.23e+00 ', 'reward': '-10.0    ', 'state': '0/a0 - 1            '}: : 59it [6:40:58, 295.37s/it]"
     ]
    },
    {
     "name": "stdout",
     "output_type": "stream",
     "text": [
      "INFO - 2023-05-08 03:29:36,465 [algebraic.py:472] : loop_step 10001 exceeded max 10000\n"
     ]
    },
    {
     "name": "stderr",
     "output_type": "stream",
     "text": [
      "{'ep': '60  ', 'step': '600721', 'loop_step': '10000', 'complexity': '14       ', 'loss': '5.01e+03 ', 'reward': '-10.0    ', 'state': '0/a0 - 1            '}: : 60it [6:45:48, 291.65s/it]"
     ]
    },
    {
     "name": "stdout",
     "output_type": "stream",
     "text": [
      "INFO - 2023-05-08 03:34:26,155 [algebraic.py:472] : loop_step 10001 exceeded max 10000\n"
     ]
    },
    {
     "name": "stderr",
     "output_type": "stream",
     "text": [
      "{'ep': '61  ', 'step': '610723', 'loop_step': '10000', 'complexity': '5        ', 'loss': '1.32e+00 ', 'reward': '8.0      ', 'state': '0/a0                '}: : 61it [6:50:42, 291.06s/it]"
     ]
    },
    {
     "name": "stdout",
     "output_type": "stream",
     "text": [
      "INFO - 2023-05-08 03:39:20,806 [algebraic.py:472] : loop_step 10001 exceeded max 10000\n"
     ]
    },
    {
     "name": "stderr",
     "output_type": "stream",
     "text": [
      "{'ep': '62  ', 'step': '620725', 'loop_step': '10000', 'complexity': '14       ', 'loss': '4.74e+00 ', 'reward': '-10.0    ', 'state': '0/a0 - 1            '}: : 62it [6:55:25, 292.14s/it]"
     ]
    },
    {
     "name": "stdout",
     "output_type": "stream",
     "text": [
      "INFO - 2023-05-08 03:44:03,819 [algebraic.py:472] : loop_step 10001 exceeded max 10000\n"
     ]
    },
    {
     "name": "stderr",
     "output_type": "stream",
     "text": [
      "{'ep': '63  ', 'step': '630727', 'loop_step': '10000', 'complexity': '5        ', 'loss': '4.53e+00 ', 'reward': '8.0      ', 'state': '0/a0                '}: : 63it [7:00:14, 289.41s/it]"
     ]
    },
    {
     "name": "stdout",
     "output_type": "stream",
     "text": [
      "INFO - 2023-05-08 03:48:52,617 [algebraic.py:472] : loop_step 10001 exceeded max 10000\n"
     ]
    },
    {
     "name": "stderr",
     "output_type": "stream",
     "text": [
      "{'ep': '64  ', 'step': '640729', 'loop_step': '10000', 'complexity': '14       ', 'loss': '7.14e-01 ', 'reward': '-10.0    ', 'state': '0/a0 - 1            '}: : 64it [7:04:57, 289.22s/it]"
     ]
    },
    {
     "name": "stdout",
     "output_type": "stream",
     "text": [
      "INFO - 2023-05-08 03:53:36,063 [algebraic.py:472] : loop_step 10001 exceeded max 10000\n"
     ]
    },
    {
     "name": "stderr",
     "output_type": "stream",
     "text": [
      "{'ep': '65  ', 'step': '650731', 'loop_step': '10000', 'complexity': '14       ', 'loss': '1.86e+00 ', 'reward': '-10.0    ', 'state': '0/a0 - 1            '}: : 65it [7:09:38, 287.49s/it]"
     ]
    },
    {
     "name": "stdout",
     "output_type": "stream",
     "text": [
      "INFO - 2023-05-08 03:58:16,403 [algebraic.py:472] : loop_step 10001 exceeded max 10000\n"
     ]
    },
    {
     "name": "stderr",
     "output_type": "stream",
     "text": [
      "{'ep': '66  ', 'step': '660733', 'loop_step': '10000', 'complexity': '5        ', 'loss': '1.25e+00 ', 'reward': '8.0      ', 'state': '0/a0                '}: : 66it [7:14:22, 285.34s/it]"
     ]
    },
    {
     "name": "stdout",
     "output_type": "stream",
     "text": [
      "INFO - 2023-05-08 04:03:00,730 [algebraic.py:472] : loop_step 10001 exceeded max 10000\n"
     ]
    },
    {
     "name": "stderr",
     "output_type": "stream",
     "text": [
      "{'ep': '67  ', 'step': '670735', 'loop_step': '10000', 'complexity': '13       ', 'loss': '8.09e+00 ', 'reward': '8.0      ', 'state': '0**a0               '}: : 67it [7:19:22, 285.04s/it]"
     ]
    },
    {
     "name": "stdout",
     "output_type": "stream",
     "text": [
      "INFO - 2023-05-08 04:08:00,565 [algebraic.py:472] : loop_step 10001 exceeded max 10000\n"
     ]
    },
    {
     "name": "stderr",
     "output_type": "stream",
     "text": [
      "{'ep': '68  ', 'step': '680737', 'loop_step': '10000', 'complexity': '27       ', 'loss': '1.45e+01 ', 'reward': '-2.0     ', 'state': '0 - 10*1            '}: : 68it [7:24:28, 289.48s/it]"
     ]
    },
    {
     "name": "stdout",
     "output_type": "stream",
     "text": [
      "INFO - 2023-05-08 04:13:06,441 [algebraic.py:472] : loop_step 10001 exceeded max 10000\n"
     ]
    },
    {
     "name": "stderr",
     "output_type": "stream",
     "text": [
      "{'ep': '69  ', 'step': '690739', 'loop_step': '10000', 'complexity': '14       ', 'loss': '2.79e+00 ', 'reward': '-10.0    ', 'state': '0/a0 - 1            '}: : 69it [7:29:36, 294.40s/it]"
     ]
    },
    {
     "name": "stdout",
     "output_type": "stream",
     "text": [
      "INFO - 2023-05-08 04:18:14,218 [algebraic.py:472] : loop_step 10001 exceeded max 10000\n"
     ]
    },
    {
     "name": "stderr",
     "output_type": "stream",
     "text": [
      "{'ep': '70  ', 'step': '700741', 'loop_step': '10000', 'complexity': '14       ', 'loss': '3.56e+00 ', 'reward': '-10.0    ', 'state': '0/a0 - 1            '}: : 70it [7:34:23, 298.41s/it]"
     ]
    },
    {
     "name": "stdout",
     "output_type": "stream",
     "text": [
      "INFO - 2023-05-08 04:23:01,999 [algebraic.py:472] : loop_step 10001 exceeded max 10000\n"
     ]
    },
    {
     "name": "stderr",
     "output_type": "stream",
     "text": [
      "{'ep': '71  ', 'step': '710743', 'loop_step': '10000', 'complexity': '5        ', 'loss': '1.63e+00 ', 'reward': '8.0      ', 'state': '0/a0                '}: : 71it [7:39:08, 295.22s/it]"
     ]
    },
    {
     "name": "stdout",
     "output_type": "stream",
     "text": [
      "INFO - 2023-05-08 04:27:46,997 [algebraic.py:472] : loop_step 10001 exceeded max 10000\n"
     ]
    },
    {
     "name": "stderr",
     "output_type": "stream",
     "text": [
      "{'ep': '72  ', 'step': '720745', 'loop_step': '10000', 'complexity': '5        ', 'loss': '2.02e+01 ', 'reward': '8.0      ', 'state': '0/a0                '}: : 72it [7:43:58, 292.15s/it]"
     ]
    },
    {
     "name": "stdout",
     "output_type": "stream",
     "text": [
      "INFO - 2023-05-08 04:32:36,504 [algebraic.py:472] : loop_step 10001 exceeded max 10000\n"
     ]
    },
    {
     "name": "stderr",
     "output_type": "stream",
     "text": [
      "{'ep': '73  ', 'step': '730747', 'loop_step': '10000', 'complexity': '5        ', 'loss': '-3.77e-01', 'reward': '8.0      ', 'state': '0/a0                '}: : 73it [7:48:42, 291.36s/it]"
     ]
    },
    {
     "name": "stdout",
     "output_type": "stream",
     "text": [
      "INFO - 2023-05-08 04:37:20,548 [algebraic.py:472] : loop_step 10001 exceeded max 10000\n"
     ]
    },
    {
     "name": "stderr",
     "output_type": "stream",
     "text": [
      "{'ep': '74  ', 'step': '740749', 'loop_step': '10000', 'complexity': '5        ', 'loss': '-1.56e-01', 'reward': '8.0      ', 'state': '0/a0                '}: : 74it [7:53:26, 289.17s/it]"
     ]
    },
    {
     "name": "stdout",
     "output_type": "stream",
     "text": [
      "INFO - 2023-05-08 04:42:04,775 [algebraic.py:472] : loop_step 10001 exceeded max 10000\n"
     ]
    },
    {
     "name": "stderr",
     "output_type": "stream",
     "text": [
      "{'ep': '75  ', 'step': '750751', 'loop_step': '10000', 'complexity': '14       ', 'loss': '2.33e+03 ', 'reward': '-10.0    ', 'state': '0/a0 - 1            '}: : 75it [7:58:54, 287.68s/it]"
     ]
    },
    {
     "name": "stdout",
     "output_type": "stream",
     "text": [
      "INFO - 2023-05-08 04:47:32,304 [algebraic.py:472] : loop_step 10001 exceeded max 10000\n"
     ]
    },
    {
     "name": "stderr",
     "output_type": "stream",
     "text": [
      "{'ep': '76  ', 'step': '756742', 'loop_step': '5989', 'complexity': '14       ', 'loss': '1.95e+00 ', 'reward': '-10.0    ', 'state': '0/a0 - 1            '}: : 76it [8:02:06, 299.64s/it] "
     ]
    }
   ],
   "source": [
    "for _ in range(1):\n",
    "    agent.train(1000, progress_bar=True)"
   ]
  },
  {
   "attachments": {},
   "cell_type": "markdown",
   "id": "79e9b973",
   "metadata": {},
   "source": [
    "## Plot Reward Distribution ##"
   ]
  },
  {
   "cell_type": "code",
   "execution_count": 13,
   "id": "75e35292",
   "metadata": {},
   "outputs": [
    {
     "data": {
      "image/png": "[encoded data removed]",
      "text/plain": [
       "<Figure size 640x480 with 1 Axes>"
      ]
     },
     "metadata": {},
     "output_type": "display_data"
    }
   ],
   "source": [
    "plot_reward_dist(env)"
   ]
  },
  {
   "attachments": {},
   "cell_type": "markdown",
   "id": "9fe8fd95",
   "metadata": {},
   "source": [
    "## Plot complexity, loss, and reward trend ##"
   ]
  },
  {
   "cell_type": "code",
   "execution_count": 14,
   "id": "a9ef4209",
   "metadata": {},
   "outputs": [
    {
     "data": {
      "image/png": "[encoded data removed]",
      "text/plain": [
       "<Figure size 1000x800 with 4 Axes>"
      ]
     },
     "metadata": {},
     "output_type": "display_data"
    }
   ],
   "source": [
    "plot_trends(env)"
   ]
  },
  {
   "attachments": {},
   "cell_type": "markdown",
   "id": "a8d78f8e",
   "metadata": {},
   "source": [
    "## Run trained agent in eval mode ##"
   ]
  },
  {
   "cell_type": "code",
   "execution_count": 10,
   "id": "7d27f11f",
   "metadata": {},
   "outputs": [
    {
     "name": "stdout",
     "output_type": "stream",
     "text": [
      "INFO - 2023-04-27 18:27:12,517 [base.py:231] : Running training routine for 10 episodes in eval=True mode.\n"
     ]
    },
    {
     "name": "stderr",
     "output_type": "stream",
     "text": [
      "{'ep': '109 ', 'step': '2950', 'loop_step': '1   ', 'complexity': '0.00e+00 ', 'loss': 'nan      ', 'reward': '5.18e+02 ', 'previous_state': '-a1                 ', 'state': '-a1/a0              '}: : 10it [00:00, 14.83it/s]\n"
     ]
    }
   ],
   "source": [
    "agent.train(10, eval=True)"
   ]
  },
  {
   "cell_type": "code",
   "execution_count": 11,
   "id": "f7123b39",
   "metadata": {},
   "outputs": [
    {
     "name": "stdout",
     "output_type": "stream",
     "text": [
      "-a1/a0\n",
      "518.0\n"
     ]
    },
    {
     "name": "stderr",
     "output_type": "stream",
     "text": [
      "c:\\users\\bbent\\repos\\rl-equation-solver\\rl_equation_solver\\utilities\\history.py:114: RuntimeWarning: All-NaN axis encountered\n",
      "  out[k].append(np.nanmin(series[k]))\n"
     ]
    }
   ],
   "source": [
    "history = env.best_history\n",
    "best_i = np.argmax(history[\"reward\"])\n",
    "print(parse_expr(str(history[\"state\"][best_i])))\n",
    "print(history[\"reward\"][best_i])"
   ]
  },
  {
   "attachments": {},
   "cell_type": "markdown",
   "id": "7db5eee4",
   "metadata": {},
   "source": [
    "## Plot reward distribution for trained agent ##"
   ]
  },
  {
   "cell_type": "code",
   "execution_count": 12,
   "id": "b822e395",
   "metadata": {},
   "outputs": [
    {
     "name": "stderr",
     "output_type": "stream",
     "text": [
      "c:\\users\\bbent\\repos\\rl-equation-solver\\rl_equation_solver\\utilities\\history.py:100: RuntimeWarning: Mean of empty slice\n",
      "  out[k].append(np.nanmean(series[k]))\n"
     ]
    },
    {
     "data": {
      "image/png": "[encoded data removed]",
      "text/plain": [
       "<Figure size 640x480 with 1 Axes>"
      ]
     },
     "metadata": {},
     "output_type": "display_data"
    }
   ],
   "source": [
    "plot_reward_dist(env)"
   ]
  },
  {
   "attachments": {},
   "cell_type": "markdown",
   "id": "77b6ce36",
   "metadata": {},
   "source": [
    "## Render final state graph ##"
   ]
  },
  {
   "cell_type": "code",
   "execution_count": 13,
   "id": "b7b6ec0e",
   "metadata": {},
   "outputs": [
    {
     "data": {
      "image/png": "[encoded data removed]",
      "text/plain": [
       "<Figure size 640x480 with 1 Axes>"
      ]
     },
     "metadata": {},
     "output_type": "display_data"
    }
   ],
   "source": [
    "nx.draw(env.state_graph, labels=env.node_labels)"
   ]
  },
  {
   "attachments": {},
   "cell_type": "markdown",
   "id": "3e11dc81",
   "metadata": {},
   "source": [
    "## Run new Agent in eval mode ##"
   ]
  },
  {
   "cell_type": "code",
   "execution_count": 150,
   "id": "9909c589",
   "metadata": {},
   "outputs": [
    {
     "name": "stdout",
     "output_type": "stream",
     "text": [
      "INFO - 2023-04-17 13:10:35,160 [algebraic.py:112] : Initializing environment with order=2, |S| = 11 x 64 = 704\n",
      "INFO - 2023-04-17 13:10:35,163 [gcn.py:37] : Initialized Agent with device cuda:0\n",
      "INFO - 2023-04-17 13:10:35,169 [base.py:298] : Running training routine for 30 episodes in eval=True mode.\n",
      "INFO - 2023-04-17 13:10:35,194 [history.py:76] : \n",
      "{'ep': 0, 'step': 1, 'complexity': 14.0, 'loss': 'nan', 'reward': '-8.000e+00', 'state': 1/a1, 'approx': a0/a1 + a1}\n",
      "INFO - 2023-04-17 13:10:35,196 [base.py:347] : \n",
      "Solver terminated after 3 steps: total_reward = -1.700e+01, mean_loss = nan, state = 1/a1\n",
      "INFO - 2023-04-17 13:10:35,306 [history.py:76] : \n",
      "{'ep': 1, 'step': 8, 'complexity': 18.0, 'loss': 'nan', 'reward': '-4.000e+00', 'state': a0 - a1, 'approx': a0*(a0 - a1) + a1}\n",
      "INFO - 2023-04-17 13:10:35,309 [base.py:347] : \n",
      "Solver terminated after 8 steps: total_reward = -1.700e+01, mean_loss = nan, state = a0 - a1\n",
      "INFO - 2023-04-17 13:10:35,344 [history.py:76] : \n",
      "{'ep': 2, 'step': 11, 'complexity': 18.0, 'loss': 'nan', 'reward': '-4.000e+00', 'state': (1/a1)**a1, 'approx': a0*(1/a1)**a1 + a1}\n",
      "INFO - 2023-04-17 13:10:35,346 [base.py:347] : \n",
      "Solver terminated after 4 steps: total_reward = -1.700e+01, mean_loss = nan, state = (1/a1)**a1\n",
      "INFO - 2023-04-17 13:10:35,369 [history.py:76] : \n",
      "{'ep': 3, 'step': 13, 'complexity': 14.0, 'loss': 'nan', 'reward': '-8.000e+00', 'state': 1/a1, 'approx': a0/a1 + a1}\n",
      "INFO - 2023-04-17 13:10:35,376 [base.py:347] : \n",
      "Solver terminated after 3 steps: total_reward = -1.700e+01, mean_loss = nan, state = 1/a1\n",
      "INFO - 2023-04-17 13:10:35,482 [history.py:76] : \n",
      "{'ep': 4, 'step': 20, 'complexity': 18.0, 'loss': 'nan', 'reward': '-4.000e+00', 'state': a0 - a1, 'approx': a0*(a0 - a1) + a1}\n",
      "INFO - 2023-04-17 13:10:35,485 [base.py:347] : \n",
      "Solver terminated after 8 steps: total_reward = -1.700e+01, mean_loss = nan, state = a0 - a1\n",
      "INFO - 2023-04-17 13:10:35,568 [history.py:76] : \n",
      "{'ep': 5, 'step': 26, 'complexity': 19.0, 'loss': 'nan', 'reward': '-4.000e+00', 'state': 2*a0 + a1, 'approx': a0*(2*a0 + a1) + a1}\n",
      "INFO - 2023-04-17 13:10:35,572 [base.py:347] : \n",
      "Solver terminated after 7 steps: total_reward = -1.800e+01, mean_loss = nan, state = 2*a0 + a1\n",
      "INFO - 2023-04-17 13:10:35,622 [history.py:76] : \n",
      "{'ep': 6, 'step': 30, 'complexity': 19.0, 'loss': 'nan', 'reward': '-4.000e+00', 'state': 2**a0 + a0, 'approx': a0*(2**a0 + a0) + a1}\n",
      "INFO - 2023-04-17 13:10:35,626 [base.py:347] : \n",
      "Solver terminated after 5 steps: total_reward = -1.800e+01, mean_loss = nan, state = 2**a0 + a0\n",
      "INFO - 2023-04-17 13:10:35,774 [history.py:76] : \n",
      "{'ep': 7, 'step': 33, 'complexity': 18.0, 'loss': 'nan', 'reward': '-4.000e+00', 'state': (1/a1)**a1, 'approx': a0*(1/a1)**a1 + a1}\n",
      "INFO - 2023-04-17 13:10:35,812 [base.py:347] : \n",
      "Solver terminated after 4 steps: total_reward = -1.700e+01, mean_loss = 4.292e+00, state = (1/a1)**a1\n",
      "INFO - 2023-04-17 13:10:35,885 [history.py:76] : \n",
      "{'ep': 8, 'step': 35, 'complexity': 14.0, 'loss': 'nan', 'reward': '-8.000e+00', 'state': 1/a1, 'approx': a0/a1 + a1}\n",
      "INFO - 2023-04-17 13:10:35,929 [base.py:347] : \n",
      "Solver terminated after 3 steps: total_reward = -1.700e+01, mean_loss = 4.537e+00, state = 1/a1\n",
      "INFO - 2023-04-17 13:10:36,069 [history.py:76] : \n",
      "{'ep': 9, 'step': 38, 'complexity': 18.0, 'loss': 'nan', 'reward': '-4.000e+00', 'state': (1/a1)**a1, 'approx': a0*(1/a1)**a1 + a1}\n",
      "INFO - 2023-04-17 13:10:36,114 [base.py:347] : \n",
      "Solver terminated after 4 steps: total_reward = -1.700e+01, mean_loss = 4.623e+00, state = (1/a1)**a1\n",
      "INFO - 2023-04-17 13:10:36,258 [history.py:76] : \n",
      "{'ep': 10, 'step': 41, 'complexity': 18.0, 'loss': 'nan', 'reward': '-4.000e+00', 'state': (a0 + 1)**a1, 'approx': a0*(a0 + 1)**a1 + a1}\n",
      "INFO - 2023-04-17 13:10:36,300 [base.py:347] : \n",
      "Solver terminated after 4 steps: total_reward = -1.700e+01, mean_loss = 4.455e+00, state = (a0 + 1)**a1\n",
      "INFO - 2023-04-17 13:10:36,571 [history.py:76] : \n",
      "{'ep': 11, 'step': 46, 'complexity': 18.0, 'loss': 'nan', 'reward': '-4.000e+00', 'state': (1/a1)**a1, 'approx': a0*(1/a1)**a1 + a1}\n",
      "INFO - 2023-04-17 13:10:36,610 [base.py:347] : \n",
      "Solver terminated after 6 steps: total_reward = -1.700e+01, mean_loss = 4.391e+00, state = (1/a1)**a1\n",
      "INFO - 2023-04-17 13:10:36,873 [history.py:76] : \n",
      "{'ep': 12, 'step': 51, 'complexity': 18.0, 'loss': 'nan', 'reward': '-4.000e+00', 'state': (1/a1)**a1, 'approx': a0*(1/a1)**a1 + a1}\n",
      "INFO - 2023-04-17 13:10:36,910 [base.py:347] : \n",
      "Solver terminated after 6 steps: total_reward = -1.700e+01, mean_loss = 4.265e+00, state = (1/a1)**a1\n",
      "INFO - 2023-04-17 13:10:37,169 [history.py:76] : \n",
      "{'ep': 13, 'step': 56, 'complexity': 17, 'loss': 'nan', 'reward': '-4.000e+00', 'state': (a1**a0)**a1, 'approx': a0*(a1**a0)**a1 + a1}\n",
      "INFO - 2023-04-17 13:10:37,212 [base.py:347] : \n",
      "Solver terminated after 6 steps: total_reward = -1.600e+01, mean_loss = 4.378e+00, state = (a1**a0)**a1\n",
      "INFO - 2023-04-17 13:10:37,474 [history.py:76] : \n",
      "{'ep': 14, 'step': 61, 'complexity': 18.0, 'loss': 'nan', 'reward': '-4.000e+00', 'state': (1/a1)**a1, 'approx': a0*(1/a1)**a1 + a1}\n",
      "INFO - 2023-04-17 13:10:37,518 [base.py:347] : \n",
      "Solver terminated after 6 steps: total_reward = -1.700e+01, mean_loss = 3.985e+00, state = (1/a1)**a1\n",
      "INFO - 2023-04-17 13:10:37,656 [history.py:76] : \n",
      "{'ep': 15, 'step': 64, 'complexity': 18.0, 'loss': 'nan', 'reward': '-4.000e+00', 'state': (1/a1)**a1, 'approx': a0*(1/a1)**a1 + a1}\n",
      "INFO - 2023-04-17 13:10:37,697 [base.py:347] : \n",
      "Solver terminated after 4 steps: total_reward = -1.700e+01, mean_loss = 4.164e+00, state = (1/a1)**a1\n",
      "INFO - 2023-04-17 13:10:38,277 [history.py:76] : \n",
      "{'ep': 16, 'step': 74, 'complexity': 18.0, 'loss': 'nan', 'reward': '-4.000e+00', 'state': (1/a1)**a1, 'approx': a0*(1/a1)**a1 + a1}\n",
      "INFO - 2023-04-17 13:10:38,316 [base.py:347] : \n",
      "Solver terminated after 11 steps: total_reward = -1.700e+01, mean_loss = 3.768e+00, state = (1/a1)**a1\n",
      "INFO - 2023-04-17 13:10:38,718 [history.py:76] : \n",
      "{'ep': 17, 'step': 81, 'complexity': 18.0, 'loss': 'nan', 'reward': '1.700e+01', 'state': a0 - a1, 'approx': a0*(a0 - a1) + a1}\n",
      "INFO - 2023-04-17 13:10:38,759 [base.py:347] : \n",
      "Solver terminated after 8 steps: total_reward = 4.000e+00, mean_loss = 3.300e+00, state = a0 - a1\n",
      "INFO - 2023-04-17 13:10:39,616 [history.py:76] : \n",
      "{'ep': 18, 'step': 95, 'complexity': 18.0, 'loss': 'nan', 'reward': '-4.000e+00', 'state': (1/a1)**a1, 'approx': a0*(1/a1)**a1 + a1}\n",
      "INFO - 2023-04-17 13:10:39,655 [base.py:347] : \n",
      "Solver terminated after 15 steps: total_reward = -1.700e+01, mean_loss = 3.186e+00, state = (1/a1)**a1\n",
      "INFO - 2023-04-17 13:10:40,070 [history.py:76] : \n",
      "{'ep': 19, 'step': 102, 'complexity': 18.0, 'loss': 'nan', 'reward': '-4.000e+00', 'state': -a1 - 1, 'approx': a0*(-a1 - 1) + a1}\n",
      "INFO - 2023-04-17 13:10:40,110 [base.py:347] : \n",
      "Solver terminated after 8 steps: total_reward = -1.700e+01, mean_loss = 3.417e+00, state = -a1 - 1\n",
      "INFO - 2023-04-17 13:10:40,906 [history.py:76] : \n",
      "{'ep': 20, 'step': 115, 'complexity': 20.0, 'loss': 'nan', 'reward': '-4.000e+00', 'state': a0 - a1 - 1, 'approx': a0*(a0 - a1 - 1) + a1}\n",
      "INFO - 2023-04-17 13:10:40,947 [base.py:347] : \n",
      "Solver terminated after 14 steps: total_reward = -1.900e+01, mean_loss = 3.069e+00, state = a0 - a1 - 1\n",
      "INFO - 2023-04-17 13:10:41,845 [history.py:76] : \n",
      "{'ep': 21, 'step': 129, 'complexity': 20.0, 'loss': 'nan', 'reward': '-4.000e+00', 'state': (a0 + a1 - 1)**a0, 'approx': a0*(a0 + a1 - 1)**a0 + a1}\n",
      "INFO - 2023-04-17 13:10:41,885 [base.py:347] : \n",
      "Solver terminated after 15 steps: total_reward = -1.900e+01, mean_loss = 2.593e+00, state = (a0 + a1 - 1)**a0\n",
      "INFO - 2023-04-17 13:10:42,652 [history.py:76] : \n",
      "{'ep': 22, 'step': 141, 'complexity': 21.0, 'loss': 'nan', 'reward': '-4.000e+00', 'state': (a0 + a1 - 2)**a0, 'approx': a0*(a0 + a1 - 2)**a0 + a1}\n",
      "INFO - 2023-04-17 13:10:42,696 [base.py:347] : \n",
      "Solver terminated after 13 steps: total_reward = -2.000e+01, mean_loss = 2.659e+00, state = (a0 + a1 - 2)**a0\n",
      "INFO - 2023-04-17 13:10:43,048 [history.py:76] : \n",
      "{'ep': 23, 'step': 147, 'complexity': 18.0, 'loss': 'nan', 'reward': '-4.000e+00', 'state': (a0 + 1)**a0, 'approx': a0*(a0 + 1)**a0 + a1}\n",
      "INFO - 2023-04-17 13:10:43,091 [base.py:347] : \n",
      "Solver terminated after 7 steps: total_reward = -1.700e+01, mean_loss = 2.606e+00, state = (a0 + 1)**a0\n",
      "INFO - 2023-04-17 13:10:44,089 [history.py:76] : \n",
      "{'ep': 24, 'step': 163, 'complexity': 16.0, 'loss': 'nan', 'reward': '-6.000e+00', 'state': -1/a1, 'approx': -a0/a1 + a1}\n",
      "INFO - 2023-04-17 13:10:44,131 [base.py:347] : \n",
      "Solver terminated after 17 steps: total_reward = -1.700e+01, mean_loss = 2.617e+00, state = -1/a1\n",
      "INFO - 2023-04-17 13:10:44,937 [history.py:76] : \n",
      "{'ep': 25, 'step': 176, 'complexity': 18.0, 'loss': 'nan', 'reward': '-6.000e+00', 'state': a0**a1 - 1, 'approx': a0*(a0**a1 - 1) + a1}\n",
      "INFO - 2023-04-17 13:10:44,979 [base.py:347] : \n",
      "Solver terminated after 14 steps: total_reward = -1.900e+01, mean_loss = 2.578e+00, state = a0**a1 - 1\n",
      "INFO - 2023-04-17 13:10:45,057 [history.py:76] : \n",
      "{'ep': 26, 'step': 178, 'complexity': 19.0, 'loss': 'nan', 'reward': '-4.000e+00', 'state': 1 - a1, 'approx': a0*(1 - a1) + a1}\n",
      "INFO - 2023-04-17 13:10:45,096 [base.py:347] : \n",
      "Solver terminated after 3 steps: total_reward = -1.800e+01, mean_loss = 2.336e+00, state = 1 - a1\n",
      "INFO - 2023-04-17 13:10:47,350 [history.py:76] : \n",
      "{'ep': 27, 'step': 211, 'complexity': 24.0, 'loss': 'nan', 'reward': '-4.000e+00', 'state': a0 - a1 - 4, 'approx': a0*(a0 - a1 - 4) + a1}\n",
      "INFO - 2023-04-17 13:10:47,395 [base.py:347] : \n",
      "Solver terminated after 34 steps: total_reward = -2.300e+01, mean_loss = 2.430e+00, state = a0 - a1 - 4\n",
      "INFO - 2023-04-17 13:10:47,821 [history.py:76] : \n",
      "{'ep': 28, 'step': 218, 'complexity': 18.0, 'loss': 'nan', 'reward': '-9.000e+00', 'state': (a0 + 1)**a0, 'approx': a0*(a0 + 1)**a0 + a1}\n",
      "INFO - 2023-04-17 13:10:47,862 [base.py:347] : \n",
      "Solver terminated after 8 steps: total_reward = -2.200e+01, mean_loss = 2.346e+00, state = (a0 + 1)**a0\n",
      "INFO - 2023-04-17 13:10:49,330 [history.py:76] : \n",
      "{'ep': 29, 'step': 241, 'complexity': 21.0, 'loss': 'nan', 'reward': '-2.000e+00', 'state': a0/a1**2, 'approx': a0**2/a1**2 + a1}\n",
      "INFO - 2023-04-17 13:10:49,375 [base.py:347] : \n",
      "Solver terminated after 24 steps: total_reward = -1.800e+01, mean_loss = 2.090e+00, state = a0/a1**2\n"
     ]
    }
   ],
   "source": [
    "env = Env(order=2)\n",
    "agent = AgentGCN(env, device=\"cuda:0\")\n",
    "agent.train(30, eval=True)"
   ]
  },
  {
   "attachments": {},
   "cell_type": "markdown",
   "id": "45000e58",
   "metadata": {},
   "source": [
    "## Plot reward distribution for untrained agent ##"
   ]
  },
  {
   "cell_type": "code",
   "execution_count": 151,
   "id": "89f1b142",
   "metadata": {},
   "outputs": [
    {
     "data": {
      "image/png": "[encoded data removed]",
      "text/plain": [
       "<Figure size 640x480 with 1 Axes>"
      ]
     },
     "metadata": {},
     "output_type": "display_data"
    }
   ],
   "source": [
    "plot_reward_dist(env)"
   ]
  }
 ],
 "metadata": {
  "kernelspec": {
   "display_name": "ML_algebra",
   "language": "python",
   "name": "python3"
  },
  "language_info": {
   "codemirror_mode": {
    "name": "ipython",
    "version": 3
   },
   "file_extension": ".py",
   "mimetype": "text/x-python",
   "name": "python",
   "nbconvert_exporter": "python",
   "pygments_lexer": "ipython3",
   "version": "3.11.2"
  },
  "vscode": {
   "interpreter": {
    "hash": "0ce1a643ee56093b1be82db4e97db7e5d1a45bca875c4073dec42b817d93e5d8"
   }
  }
 },
 "nbformat": 4,
 "nbformat_minor": 5
}
