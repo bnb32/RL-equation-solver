{
 "cells": [
  {
   "cell_type": "code",
   "execution_count": 1,
   "id": "fccf727b",
   "metadata": {},
   "outputs": [],
   "source": [
    "%load_ext autoreload\n",
    "%autoreload 2"
   ]
  },
  {
   "cell_type": "code",
   "execution_count": 19,
   "id": "4d02f3b8",
   "metadata": {},
   "outputs": [],
   "source": [
    "import rl_equation_solver\n",
    "from rl_equation_solver.environment.algebraic import Env\n",
    "from rl_equation_solver.agent.dqn import Agent\n",
    "from rl_equation_solver.utilities.utilities import build_adjacency_matrix\n",
    "from rl_equation_solver.agent.networks import GCN\n",
    "from rl_equation_solver.agent.gcn import Agent as AgentGCN\n",
    "from rl_equation_solver.utilities import utilities\n",
    "from rl_equation_solver.utilities.utilities import GraphEmbedding\n",
    "import networkx as nx\n",
    "import numpy as np\n",
    "from torch_geometric.utils.convert import from_networkx\n",
    "import matplotlib.pyplot as plt\n",
    "from rex import init_logger\n",
    "import torch\n",
    "from torch_geometric.nn import GCNConv\n",
    "from torch_geometric import utils\n",
    "import scipy.sparse as sp\n",
    "from sklearn.decomposition import PCA"
   ]
  },
  {
   "cell_type": "code",
   "execution_count": 20,
   "id": "ae10142f",
   "metadata": {},
   "outputs": [
    {
     "data": {
      "text/plain": [
       "<Logger rl_equation_solver (DEBUG)>"
      ]
     },
     "execution_count": 20,
     "metadata": {},
     "output_type": "execute_result"
    }
   ],
   "source": [
    "init_logger(__name__, log_level='DEBUG')\n",
    "init_logger('rl_equation_solver', log_level=\"DEBUG\")"
   ]
  },
  {
   "cell_type": "code",
   "execution_count": 21,
   "id": "d3273901",
   "metadata": {},
   "outputs": [],
   "source": [
    "def make_plot(agent, round):\n",
    "    fig, ax = plt.subplots(1, 2, figsize=(10, 5))\n",
    "    avg_loss = []\n",
    "    avg_reward = []\n",
    "    for episode in list(agent.history.keys()):\n",
    "        avg_loss.append(np.mean(agent.history[episode]['loss']))\n",
    "        avg_reward.append(np.mean(agent.history[episode]['reward']))\n",
    "    \n",
    "    \n",
    "    y = moving_avg(avg_loss, 1)\n",
    "    x = np.arange(len(y))\n",
    "    a, b = np.polyfit(x, y, 1)\n",
    "    ax[0].scatter(x, y)\n",
    "    ax[0].plot(x, a*x+b, color='red')\n",
    "    y = moving_avg(avg_reward, 1)\n",
    "    a, b = np.polyfit(x, y, 1)\n",
    "    ax[1].scatter(x, y)\n",
    "    ax[1].plot(x, a*x+b, color='red')\n",
    "    \n",
    "    ax[0].set_title('Loss')\n",
    "    ax[1].set_title(\"Reward\")\n",
    "    plt.annotate('Episode', (0.4, 0.01), xycoords='figure fraction')\n",
    "    fig.suptitle(f'Round {round}')\n",
    "    fig.savefig(f'./figs/round_{round}.png', dpi=300)"
   ]
  },
  {
   "cell_type": "code",
   "execution_count": 22,
   "id": "1d3fd364",
   "metadata": {},
   "outputs": [],
   "source": [
    "def moving_avg(x, w):\n",
    "    return np.convolve(x, np.ones(w), 'valid') / w"
   ]
  },
  {
   "cell_type": "code",
   "execution_count": 23,
   "id": "6b72afd4",
   "metadata": {},
   "outputs": [],
   "source": [
    "env = Env(order=2)"
   ]
  },
  {
   "cell_type": "code",
   "execution_count": 24,
   "id": "939eee95",
   "metadata": {},
   "outputs": [
    {
     "name": "stdout",
     "output_type": "stream",
     "text": [
      "INFO - 2023-04-09 21:00:37,828 [gcn.py:40] : Initialized Agent with device cpu\n"
     ]
    }
   ],
   "source": [
    "agent = AgentGCN(env)"
   ]
  },
  {
   "cell_type": "code",
   "execution_count": 25,
   "id": "b358b708",
   "metadata": {},
   "outputs": [
    {
     "name": "stdout",
     "output_type": "stream",
     "text": [
      "INFO - 2023-04-09 21:00:38,779 [base.py:186] : episode 0, {'loss': 13, 'reward': '7.143e-02', 'state': 1 - a0}\n",
      "INFO - 2023-04-09 21:00:38,833 [base.py:186] : episode 0, {'loss': 21, 'reward': '4.545e-02', 'state': (1 - a0)**a1}\n",
      "INFO - 2023-04-09 21:00:38,890 [base.py:186] : episode 0, {'loss': 25, 'reward': '3.846e-02', 'state': ((1 - a0)**a1)**a1}\n",
      "INFO - 2023-04-09 21:00:38,946 [base.py:186] : episode 0, {'loss': 29, 'reward': '3.333e-02', 'state': (((1 - a0)**a1)**a1)**a1}\n",
      "INFO - 2023-04-09 21:00:39,000 [base.py:186] : episode 0, {'loss': 31, 'reward': '3.125e-02', 'state': (((1 - a0)**a1)**a1)**a1 + 1}\n",
      "INFO - 2023-04-09 21:00:39,057 [base.py:186] : episode 0, {'loss': 31, 'reward': '3.125e-02', 'state': (((1 - a0)**a1)**a1)**a1 + 1}\n",
      "INFO - 2023-04-09 21:00:39,108 [base.py:186] : episode 0, {'loss': 31, 'reward': '3.125e-02', 'state': (((1 - a0)**a1)**a1)**a1 + 1}\n",
      "INFO - 2023-04-09 21:00:39,177 [base.py:186] : episode 0, {'loss': 41, 'reward': '2.381e-02', 'state': -a1 + (((1 - a0)**a1)**a1)**a1 + 1}\n",
      "INFO - 2023-04-09 21:00:39,268 [base.py:186] : episode 0, {'loss': 53, 'reward': '1.852e-02', 'state': (-a1 + (((1 - a0)**a1)**a1)**a1 + 1)/a0}\n",
      "INFO - 2023-04-09 21:00:39,370 [base.py:186] : episode 0, {'loss': 53, 'reward': '1.852e-02', 'state': (-a1 + (((1 - a0)**a1)**a1)**a1 + 1)/a0**2}\n",
      "INFO - 2023-04-09 21:00:39,452 [base.py:186] : episode 0, {'loss': 53, 'reward': '1.852e-02', 'state': (-a1 + (((1 - a0)**a1)**a1)**a1 + 1)/a0**2}\n",
      "INFO - 2023-04-09 21:00:39,573 [base.py:186] : episode 0, {'loss': 65, 'reward': '1.515e-02', 'state': (-a0**2 - a1 + (((1 - a0)**a1)**a1)**a1 + 1)/a0**2}\n",
      "INFO - 2023-04-09 21:00:39,702 [base.py:186] : episode 0, {'loss': 61, 'reward': '1.613e-02', 'state': ((-a0**2 - a1 + (((1 - a0)**a1)**a1)**a1 + 1)/a0**2)**a1}\n",
      "INFO - 2023-04-09 21:00:39,806 [base.py:186] : episode 0, {'loss': 61, 'reward': '1.613e-02', 'state': ((-a0**2 - a1 + (((1 - a0)**a1)**a1)**a1 + 1)/a0**2)**a1}\n",
      "INFO - 2023-04-09 21:00:39,905 [base.py:186] : episode 0, {'loss': 61, 'reward': '1.613e-02', 'state': ((-a0**2 - a1 + (((1 - a0)**a1)**a1)**a1 + 1)/a0**2)**a1}\n",
      "INFO - 2023-04-09 21:00:40,030 [base.py:186] : episode 0, {'loss': 71, 'reward': '1.389e-02', 'state': -a1 + (-(a0**2 + a1 - (((1 - a0)**a1)**a1)**a1 - 1)/a0**2)**a1}\n",
      "INFO - 2023-04-09 21:00:40,156 [base.py:186] : episode 0, {'loss': 71, 'reward': '1.389e-02', 'state': -a1 + (-(a0**2 + a1 - (((1 - a0)**a1)**a1)**a1 - 1)/a0**2)**a1}\n",
      "INFO - 2023-04-09 21:00:40,254 [base.py:186] : episode 0, {'loss': 61, 'reward': '1.613e-02', 'state': ((-a0**2 - a1 + (((1 - a0)**a1)**a1)**a1 + 1)/a0**2)**a1}\n",
      "INFO - 2023-04-09 21:00:40,354 [base.py:186] : episode 0, {'loss': 57, 'reward': '1.724e-02', 'state': ((-a0**2 - a1 + (((1 - a0)**a1)**a1)**a1 + 1)/a0**2)**a1/a1}\n",
      "INFO - 2023-04-09 21:00:40,450 [base.py:186] : episode 0, {'loss': 57, 'reward': '1.724e-02', 'state': ((-a0**2 - a1 + (((1 - a0)**a1)**a1)**a1 + 1)/a0**2)**a1/a1}\n",
      "INFO - 2023-04-09 21:00:40,578 [base.py:186] : episode 0, {'loss': 63, 'reward': '1.562e-02', 'state': (a0*a1 + ((-a0**2 - a1 + (((1 - a0)**a1)**a1)**a1 + 1)/a0**2)**a1)/a1}\n",
      "INFO - 2023-04-09 21:00:40,696 [base.py:186] : episode 0, {'loss': 63, 'reward': '1.562e-02', 'state': (a0*a1 + ((-a0**2 - a1 + (((1 - a0)**a1)**a1)**a1 + 1)/a0**2)**a1)/a1}\n",
      "INFO - 2023-04-09 21:00:40,825 [base.py:186] : episode 0, {'loss': 69, 'reward': '1.429e-02', 'state': (a0*a1 - a1 + ((-a0**2 - a1 + (((1 - a0)**a1)**a1)**a1 + 1)/a0**2)**a1)/a1}\n",
      "INFO - 2023-04-09 21:00:40,980 [base.py:186] : episode 0, {'loss': 79, 'reward': '1.250e-02', 'state': (a0*a1 - a1 + ((-a0**2 - a1 + (((1 - a0)**a1)**a1)**a1 + 1)/a0**2)**a1)/(a0*a1)}\n",
      "INFO - 2023-04-09 21:00:41,182 [base.py:186] : episode 0, {'loss': 93, 'reward': '1.064e-02', 'state': ((a0*a1 - a1 + ((-a0**2 - a1 + (((1 - a0)**a1)**a1)**a1 + 1)/a0**2)**a1)/(a0*a1))**a0}\n",
      "INFO - 2023-04-09 21:00:41,380 [base.py:186] : episode 0, {'loss': 103, 'reward': '9.615e-03', 'state': -a1 + ((a0*a1 - a1 + (-(a0**2 + a1 - (((1 - a0)**a1)**a1)**a1 - 1)/a0**2)**a1)/(a0*a1))**a0}\n",
      "INFO - 2023-04-09 21:00:41,638 [base.py:186] : episode 0, {'loss': 105, 'reward': '9.434e-03', 'state': (-a1 + ((a0*a1 - a1 + ((-a0**2 - a1 + (((1 - a0)**a1)**a1)**a1 + 1)/a0**2)**a1)/(a0*a1))**a0)**a1}\n",
      "INFO - 2023-04-09 21:00:41,865 [base.py:186] : episode 0, {'loss': 117, 'reward': '8.475e-03', 'state': (-a1 + ((a0*a1 - a1 + ((-a0**2 - a1 + (((1 - a0)**a1)**a1)**a1 + 1)/a0**2)**a1)/(a0*a1))**a0)**a1/a0}\n",
      "INFO - 2023-04-09 21:00:42,066 [base.py:186] : episode 0, {'loss': 113, 'reward': '8.772e-03', 'state': (-a1 + ((a0*a1 - a1 + ((-a0**2 - a1 + (((1 - a0)**a1)**a1)**a1 + 1)/a0**2)**a1)/(a0*a1))**a0)**a1/(a0*a1)}\n",
      "INFO - 2023-04-09 21:00:42,072 [base.py:243] : Episode 0, Solver terminated after 28 steps with reward 0.6086911137586465. Final state = (-a1 + ((a0*a1 - a1 + ((-a0**2 - a1 + (((1 - a0)**a1)**a1)**a1 + 1)/a0**2)**a1)/(a0*a1))**a0)**a1/(a0*a1)\n",
      "INFO - 2023-04-09 21:00:42,086 [base.py:186] : episode 1, {'loss': 9, 'reward': '1.000e-01', 'state': -1}\n",
      "INFO - 2023-04-09 21:00:42,130 [base.py:186] : episode 1, {'loss': 17, 'reward': '5.556e-02', 'state': -a0 - 1}\n",
      "INFO - 2023-04-09 21:00:42,147 [base.py:186] : episode 1, {'loss': 9, 'reward': '1.000e-01', 'state': -1}\n",
      "INFO - 2023-04-09 21:00:42,168 [base.py:186] : episode 1, {'loss': 9, 'reward': '1.000e-01', 'state': -1}\n",
      "INFO - 2023-04-09 21:00:42,201 [base.py:186] : episode 1, {'loss': 17, 'reward': '5.556e-02', 'state': -a0 - 1}\n",
      "INFO - 2023-04-09 21:00:42,252 [base.py:186] : episode 1, {'loss': 21, 'reward': '4.545e-02', 'state': (-a0 - 1)**a1}\n",
      "INFO - 2023-04-09 21:00:42,307 [base.py:186] : episode 1, {'loss': 25, 'reward': '3.846e-02', 'state': ((-a0 - 1)**a1)**a1}\n",
      "INFO - 2023-04-09 21:00:42,360 [base.py:186] : episode 1, {'loss': 21, 'reward': '4.545e-02', 'state': ((-a0 - 1)**a1)**a1/a1}\n",
      "INFO - 2023-04-09 21:00:42,440 [base.py:186] : episode 1, {'loss': 29, 'reward': '3.333e-02', 'state': (-a0*a1 + ((-a0 - 1)**a1)**a1)/a1}\n",
      "INFO - 2023-04-09 21:00:42,537 [base.py:186] : episode 1, {'loss': 45, 'reward': '2.174e-02', 'state': (-a0 + ((-a0 - 1)**a1)**a1/a1)**a1}\n",
      "INFO - 2023-04-09 21:00:42,655 [base.py:186] : episode 1, {'loss': 57, 'reward': '1.724e-02', 'state': (-a0 + ((-a0 - 1)**a1)**a1/a1)**a1/a0}\n",
      "INFO - 2023-04-09 21:00:42,815 [base.py:186] : episode 1, {'loss': 59, 'reward': '1.667e-02', 'state': (-a0**2 + (-a0 + ((-a0 - 1)**a1)**a1/a1)**a1)/a0}\n",
      "INFO - 2023-04-09 21:00:42,972 [base.py:186] : episode 1, {'loss': 59, 'reward': '1.667e-02', 'state': (-a0**2 + (-a0 + ((-a0 - 1)**a1)**a1/a1)**a1)/a0}\n",
      "INFO - 2023-04-09 21:00:43,100 [base.py:186] : episode 1, {'loss': 59, 'reward': '1.667e-02', 'state': (-a0**2 + (-a0 + ((-a0 - 1)**a1)**a1/a1)**a1)/a0}\n",
      "INFO - 2023-04-09 21:00:43,223 [base.py:186] : episode 1, {'loss': 59, 'reward': '1.667e-02', 'state': (-a0**2 + (-a0 + ((-a0 - 1)**a1)**a1/a1)**a1)/a0}\n",
      "INFO - 2023-04-09 21:00:43,345 [base.py:186] : episode 1, {'loss': 59, 'reward': '1.667e-02', 'state': (-a0**2 + (-a0 + ((-a0 - 1)**a1)**a1/a1)**a1)/a0}\n",
      "INFO - 2023-04-09 21:00:43,498 [base.py:186] : episode 1, {'loss': 59, 'reward': '1.667e-02', 'state': (-2*a0**2 + (-a0 + ((-a0 - 1)**a1)**a1/a1)**a1)/a0}\n",
      "INFO - 2023-04-09 21:00:43,670 [base.py:186] : episode 1, {'loss': 59, 'reward': '1.667e-02', 'state': (-3*a0**2 + (-a0 + ((-a0 - 1)**a1)**a1/a1)**a1)/a0}\n",
      "INFO - 2023-04-09 21:00:43,804 [base.py:186] : episode 1, {'loss': 65, 'reward': '1.515e-02', 'state': (-3*a0 + (-a0 + ((-a0 - 1)**a1)**a1/a1)**a1/a0)**a1}\n",
      "INFO - 2023-04-09 21:00:43,918 [base.py:186] : episode 1, {'loss': 65, 'reward': '1.515e-02', 'state': (-3*a0 + (-a0 + ((-a0 - 1)**a1)**a1/a1)**a1/a0)**a1}\n",
      "INFO - 2023-04-09 21:00:44,060 [base.py:186] : episode 1, {'loss': 71, 'reward': '1.389e-02', 'state': a1 + (-3*a0 + (-a0 + ((-a0 - 1)**a1)**a1/a1)**a1/a0)**a1}\n",
      "INFO - 2023-04-09 21:00:44,207 [base.py:186] : episode 1, {'loss': 77, 'reward': '1.282e-02', 'state': a0 + a1 + (-3*a0 + (-a0 + ((-a0 - 1)**a1)**a1/a1)**a1/a0)**a1}\n",
      "INFO - 2023-04-09 21:00:44,358 [base.py:186] : episode 1, {'loss': 79, 'reward': '1.250e-02', 'state': 2*a0 + a1 + (-3*a0 + (-a0 + ((-a0 - 1)**a1)**a1/a1)**a1/a0)**a1}\n",
      "INFO - 2023-04-09 21:00:44,503 [base.py:186] : episode 1, {'loss': 77, 'reward': '1.282e-02', 'state': a0 + a1 + (-3*a0 + (-a0 + ((-a0 - 1)**a1)**a1/a1)**a1/a0)**a1}\n",
      "INFO - 2023-04-09 21:00:44,656 [base.py:186] : episode 1, {'loss': 75, 'reward': '1.316e-02', 'state': (a0 + a1 + (-3*a0 + (-a0 + ((-a0 - 1)**a1)**a1/a1)**a1/a0)**a1)**a1}\n",
      "INFO - 2023-04-09 21:00:44,800 [base.py:186] : episode 1, {'loss': 75, 'reward': '1.316e-02', 'state': (a0 + a1 + (-3*a0 + (-a0 + ((-a0 - 1)**a1)**a1/a1)**a1/a0)**a1)**a1}\n",
      "INFO - 2023-04-09 21:00:44,978 [base.py:186] : episode 1, {'loss': 79, 'reward': '1.250e-02', 'state': ((a0 + a1 + (-3*a0 + (-a0 + ((-a0 - 1)**a1)**a1/a1)**a1/a0)**a1)**a1)**a1}\n",
      "INFO - 2023-04-09 21:00:45,119 [base.py:186] : episode 1, {'loss': 79, 'reward': '1.250e-02', 'state': ((a0 + a1 + (-3*a0 + (-a0 + ((-a0 - 1)**a1)**a1/a1)**a1/a0)**a1)**a1)**a1}\n",
      "INFO - 2023-04-09 21:00:45,287 [base.py:186] : episode 1, {'loss': 85, 'reward': '1.163e-02', 'state': a0 + ((a0 + a1 + (-3*a0 + (-a0 + ((-a0 - 1)**a1)**a1/a1)**a1/a0)**a1)**a1)**a1}\n",
      "INFO - 2023-04-09 21:00:45,447 [base.py:186] : episode 1, {'loss': 85, 'reward': '1.163e-02', 'state': a0 + ((a0 + a1 + (-3*a0 + (-a0 + ((-a0 - 1)**a1)**a1/a1)**a1/a0)**a1)**a1)**a1}\n",
      "INFO - 2023-04-09 21:00:45,702 [base.py:186] : episode 1, {'loss': 87, 'reward': '1.136e-02', 'state': (a0 + ((a0 + a1 + (-3*a0 + (-a0 + ((-a0 - 1)**a1)**a1/a1)**a1/a0)**a1)**a1)**a1)**a0}\n",
      "INFO - 2023-04-09 21:00:45,886 [base.py:186] : episode 1, {'loss': 87, 'reward': '1.136e-02', 'state': (a0 + ((a0 + a1 + (-3*a0 + (-a0 + ((-a0 - 1)**a1)**a1/a1)**a1/a0)**a1)**a1)**a1)**a0}\n",
      "INFO - 2023-04-09 21:00:46,076 [base.py:186] : episode 1, {'loss': 87, 'reward': '1.136e-02', 'state': (a0 + ((a0 + a1 + (-3*a0 + (-a0 + ((-a0 - 1)**a1)**a1/a1)**a1/a0)**a1)**a1)**a1)**a0}\n",
      "INFO - 2023-04-09 21:00:46,275 [base.py:186] : episode 1, {'loss': 91, 'reward': '1.087e-02', 'state': ((a0 + ((a0 + a1 + (-3*a0 + (-a0 + ((-a0 - 1)**a1)**a1/a1)**a1/a0)**a1)**a1)**a1)**a0)**a0}\n",
      "INFO - 2023-04-09 21:00:46,502 [base.py:186] : episode 1, {'loss': 97, 'reward': '1.020e-02', 'state': a0 + ((a0 + ((a0 + a1 + (-3*a0 + (-a0 + ((-a0 - 1)**a1)**a1/a1)**a1/a0)**a1)**a1)**a1)**a0)**a0}\n"
     ]
    },
    {
     "ename": "TypeError",
     "evalue": "expected Tensor as element 0 in argument 0, but got GraphEmbedding",
     "output_type": "error",
     "traceback": [
      "\u001b[1;31m---------------------------------------------------------------------------\u001b[0m",
      "\u001b[1;31mTypeError\u001b[0m                                 Traceback (most recent call last)",
      "Cell \u001b[1;32mIn[25], line 2\u001b[0m\n\u001b[0;32m      1\u001b[0m \u001b[39mfor\u001b[39;00m i \u001b[39min\u001b[39;00m \u001b[39mrange\u001b[39m(\u001b[39m1\u001b[39m):\n\u001b[1;32m----> 2\u001b[0m     agent\u001b[39m.\u001b[39;49mtrain(num_episodes\u001b[39m=\u001b[39;49m\u001b[39m5\u001b[39;49m)\n\u001b[0;32m      3\u001b[0m     make_plot(agent, \u001b[39mround\u001b[39m\u001b[39m=\u001b[39mi)    \n",
      "File \u001b[1;32mc:\\users\\bbent\\repos\\rl-equation-solver\\rl_equation_solver\\agent\\base.py:226\u001b[0m, in \u001b[0;36mBaseAgent.train\u001b[1;34m(self, num_episodes)\u001b[0m\n\u001b[0;32m    221\u001b[0m     \u001b[39mbreak\u001b[39;00m\n\u001b[0;32m    223\u001b[0m \u001b[39m# Perform one step of the optimization (on the policy network)\u001b[39;00m\n\u001b[0;32m    224\u001b[0m \u001b[39m# The agent  performs an optimization step on the Policy\u001b[39;00m\n\u001b[0;32m    225\u001b[0m \u001b[39m# Network using the stored memory\u001b[39;00m\n\u001b[1;32m--> 226\u001b[0m \u001b[39mself\u001b[39;49m\u001b[39m.\u001b[39;49moptimize_model()\n\u001b[0;32m    228\u001b[0m \u001b[39m# Soft update of the target network's weights\u001b[39;00m\n\u001b[0;32m    229\u001b[0m \u001b[39m# θ′ ← τθ + (1 − τ)θ′\u001b[39;00m\n\u001b[0;32m    230\u001b[0m \u001b[39m# policy_network.state_dict() returns the parameters of the\u001b[39;00m\n\u001b[0;32m    231\u001b[0m \u001b[39m# policy network target_network.load_state_dict() loads these\u001b[39;00m\n\u001b[0;32m    232\u001b[0m \u001b[39m# parameters into the target network.\u001b[39;00m\n\u001b[0;32m    233\u001b[0m target_net_state_dict \u001b[39m=\u001b[39m \u001b[39mself\u001b[39m\u001b[39m.\u001b[39mtarget_network\u001b[39m.\u001b[39mstate_dict()\n",
      "File \u001b[1;32mc:\\users\\bbent\\repos\\rl-equation-solver\\rl_equation_solver\\agent\\base.py:144\u001b[0m, in \u001b[0;36mBaseAgent.optimize_model\u001b[1;34m(self)\u001b[0m\n\u001b[0;32m    140\u001b[0m \u001b[39m# Compute a mask of non-final states and concatenate the batch element\u001b[39;00m\n\u001b[0;32m    141\u001b[0m non_final_mask \u001b[39m=\u001b[39m torch\u001b[39m.\u001b[39mtensor(\u001b[39mtuple\u001b[39m(\u001b[39mmap\u001b[39m(\u001b[39mlambda\u001b[39;00m s: s \u001b[39mis\u001b[39;00m \u001b[39mnot\u001b[39;00m \u001b[39mNone\u001b[39;00m,\n\u001b[0;32m    142\u001b[0m                                         batch\u001b[39m.\u001b[39mnext_state)),\n\u001b[0;32m    143\u001b[0m                               device\u001b[39m=\u001b[39m\u001b[39mself\u001b[39m\u001b[39m.\u001b[39mdevice, dtype\u001b[39m=\u001b[39mtorch\u001b[39m.\u001b[39mbool)\n\u001b[1;32m--> 144\u001b[0m non_final_next_states \u001b[39m=\u001b[39m torch\u001b[39m.\u001b[39;49mcat([s \u001b[39mfor\u001b[39;49;00m s \u001b[39min\u001b[39;49;00m batch\u001b[39m.\u001b[39;49mnext_state\n\u001b[0;32m    145\u001b[0m                                    \u001b[39mif\u001b[39;49;00m s \u001b[39mis\u001b[39;49;00m \u001b[39mnot\u001b[39;49;00m \u001b[39mNone\u001b[39;49;00m])\n\u001b[0;32m    147\u001b[0m state_batch \u001b[39m=\u001b[39m torch\u001b[39m.\u001b[39mcat(batch\u001b[39m.\u001b[39mstate)\n\u001b[0;32m    148\u001b[0m action_batch \u001b[39m=\u001b[39m torch\u001b[39m.\u001b[39mcat(batch\u001b[39m.\u001b[39maction)\n",
      "\u001b[1;31mTypeError\u001b[0m: expected Tensor as element 0 in argument 0, but got GraphEmbedding"
     ]
    }
   ],
   "source": [
    "\n",
    "for i in range(1):\n",
    "    agent.train(num_episodes=5)\n",
    "    make_plot(agent, round=i)    "
   ]
  },
  {
   "cell_type": "code",
   "execution_count": 10,
   "id": "26d101d2",
   "metadata": {},
   "outputs": [
    {
     "data": {
      "image/png": "[encoded data removed]",
      "text/plain": [
       "<Figure size 640x480 with 1 Axes>"
      ]
     },
     "metadata": {},
     "output_type": "display_data"
    }
   ],
   "source": [
    "nx.draw(env.state_graph, labels=env.node_labels)"
   ]
  }
 ],
 "metadata": {
  "kernelspec": {
   "display_name": "ML_algebra",
   "language": "python",
   "name": "python3"
  },
  "language_info": {
   "codemirror_mode": {
    "name": "ipython",
    "version": 3
   },
   "file_extension": ".py",
   "mimetype": "text/x-python",
   "name": "python",
   "nbconvert_exporter": "python",
   "pygments_lexer": "ipython3",
   "version": "3.10.10"
  },
  "vscode": {
   "interpreter": {
    "hash": "0ce1a643ee56093b1be82db4e97db7e5d1a45bca875c4073dec42b817d93e5d8"
   }
  }
 },
 "nbformat": 4,
 "nbformat_minor": 5
}
