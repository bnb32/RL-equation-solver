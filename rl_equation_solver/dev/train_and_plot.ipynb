{
 "cells": [
  {
   "cell_type": "code",
   "execution_count": null,
   "id": "fccf727b",
   "metadata": {},
   "outputs": [],
   "source": [
    "%load_ext autoreload\n",
    "%autoreload 2"
   ]
  },
  {
   "cell_type": "code",
   "execution_count": null,
   "id": "4d02f3b8",
   "metadata": {},
   "outputs": [],
   "source": [
    "import rl_equation_solver\n",
    "from rl_equation_solver.environment.algebraic import Env\n",
    "from rl_equation_solver.agent.dqn import Agent as AgentDQN\n",
    "from rl_equation_solver.agent.gcn import Agent as AgentGCN\n",
    "from rl_equation_solver.agent.lstm import Agent as AgentLSTM\n",
    "from rl_equation_solver.utilities import utilities\n",
    "from rl_equation_solver.utilities.utilities import GraphEmbedding\n",
    "import networkx as nx\n",
    "import numpy as np\n",
    "import matplotlib.pyplot as plt\n",
    "from rex import init_logger\n",
    "from sympy import symbols, sqrt, simplify, expand"
   ]
  },
  {
   "cell_type": "code",
   "execution_count": null,
   "id": "ae10142f",
   "metadata": {},
   "outputs": [],
   "source": [
    "init_logger(__name__, log_level='DEBUG')\n",
    "init_logger('rl_equation_solver', log_level=\"DEBUG\")"
   ]
  },
  {
   "cell_type": "code",
   "execution_count": null,
   "id": "d3273901",
   "metadata": {},
   "outputs": [],
   "source": [
    "def moving_avg(x, w):\n",
    "    return np.convolve(x, np.ones(w), 'valid') / w\n",
    "\n",
    "def make_plot(agent, round=0, start=0):\n",
    "    fig, ax = plt.subplots(1, 3, figsize=(12, 5))\n",
    "    avg_complex = []\n",
    "    avg_reward = []\n",
    "    avg_loss = []\n",
    "    for episode in list(agent.history.keys())[start:]:\n",
    "        avg_complex.append(np.mean(agent.history[episode]['complexity']))\n",
    "        avg_loss.append(np.nanmean(agent.history[episode]['loss']))\n",
    "        avg_reward.append(np.mean(agent.history[episode]['reward']))\n",
    "    \n",
    "    y = moving_avg(avg_complex, 1)\n",
    "    x = np.arange(len(y))\n",
    "    a, b = np.polyfit(x, y, 1)\n",
    "    ax[0].scatter(x, y)\n",
    "    ax[0].plot(x, a*x+b, color='red')\n",
    "\n",
    "    y = moving_avg(avg_loss, 1)\n",
    "    x = np.arange(len(y))\n",
    "    a, b = np.polyfit(x, y, 1)\n",
    "    ax[1].scatter(x, y)\n",
    "    ax[1].plot(x, a*x+b, color='red')\n",
    "    \n",
    "    y = moving_avg(avg_reward, 1)\n",
    "    x = np.arange(len(y))\n",
    "    a, b = np.polyfit(x, y, 1)\n",
    "    ax[2].scatter(x, y)\n",
    "    ax[2].plot(x, a*x+b, color='red')\n",
    "    \n",
    "    ax[0].set_title('Complexity')\n",
    "    ax[1].set_title('Loss')\n",
    "    ax[2].set_title(\"Reward\")\n",
    "    plt.annotate('Episode', (0.4, 0.01), xycoords='figure fraction')\n",
    "    fig.savefig(f'./figs/round_{round}.png', dpi=300)\n",
    "\n",
    "\n",
    "def make_hist_plot(agent, round=0, start=0):\n",
    "    fig, ax = plt.subplots(1, 1, figsize=(12, 5))\n",
    "    avg_complex = []\n",
    "    avg_reward = []\n",
    "    avg_loss = []\n",
    "    for episode in list(agent.history.keys())[start:]:\n",
    "        avg_complex.append(np.mean(agent.history[episode]['complexity']))\n",
    "        avg_loss.append(np.nanmean(agent.history[episode]['loss']))\n",
    "        avg_reward.append(np.mean(agent.history[episode]['reward']))\n",
    "\n",
    "    plt.hist(avg_reward)\n",
    "    plt.xlabel('Reward')\n",
    "    plt.ylabel('Count')  \n"
   ]
  },
  {
   "cell_type": "code",
   "execution_count": null,
   "id": "15cbb9a6",
   "metadata": {},
   "outputs": [],
   "source": [
    "\n",
    "x, a0, a1 = symbols('x a0 a1')\n",
    "env = Env(order=2, init_state=symbols('1'))\n",
    "agent_gcn = AgentGCN(env, device='cuda:0')"
   ]
  },
  {
   "cell_type": "code",
   "execution_count": null,
   "id": "caa43344",
   "metadata": {},
   "outputs": [],
   "source": [
    "for i in range(1):\n",
    "    agent_gcn.train(100)\n",
    "    #make_plot(agent_dqn, round=i, start=2)    "
   ]
  },
  {
   "cell_type": "code",
   "execution_count": null,
   "id": "1c00a535",
   "metadata": {},
   "outputs": [],
   "source": [
    "\n",
    "for i in range(1):\n",
    "    agent_gcn.train(10, eval=True)\n",
    "    #make_plot(agent_dqn, round=i, start=2)    "
   ]
  },
  {
   "cell_type": "code",
   "execution_count": null,
   "id": "a9ef4209",
   "metadata": {},
   "outputs": [],
   "source": [
    "make_hist_plot(agent_dqn)"
   ]
  },
  {
   "cell_type": "code",
   "execution_count": null,
   "id": "b7b6ec0e",
   "metadata": {},
   "outputs": [],
   "source": [
    "nx.draw(dqn_env.state_graph, labels=dqn_env.node_labels)"
   ]
  },
  {
   "cell_type": "code",
   "execution_count": null,
   "id": "939eee95",
   "metadata": {},
   "outputs": [],
   "source": [
    "from sympy import symbols, sqrt\n",
    "x, a0, a1, a2 = symbols('x a0 a1 a2')\n",
    "gcn_env = Env(order=3, init_state =(-a1 + sqrt(a1**2 - 4*a0*a2))/2/a0)\n",
    "agent_gcn = AgentGCN(gcn_env, device='cuda:0')"
   ]
  },
  {
   "cell_type": "code",
   "execution_count": null,
   "id": "5ffc9e25",
   "metadata": {},
   "outputs": [],
   "source": [
    "agent_gcn.env.state_string"
   ]
  },
  {
   "cell_type": "code",
   "execution_count": null,
   "id": "b358b708",
   "metadata": {},
   "outputs": [],
   "source": [
    "for i in range(1):\n",
    "    agent_gcn.train(num_episodes=10)\n",
    "    make_plot(agent_gcn, round=i, start=3)    "
   ]
  },
  {
   "cell_type": "code",
   "execution_count": null,
   "id": "26d101d2",
   "metadata": {},
   "outputs": [],
   "source": [
    "nx.draw(gcn_env.state_graph, labels=gcn_env.node_labels)"
   ]
  },
  {
   "cell_type": "code",
   "execution_count": null,
   "id": "c9d860c1",
   "metadata": {},
   "outputs": [],
   "source": [
    "lstm_env = Env(order=3)\n",
    "agent_lstm = AgentLSTM(lstm_env, device='cuda:0')"
   ]
  },
  {
   "cell_type": "code",
   "execution_count": null,
   "id": "ddda3b6a",
   "metadata": {},
   "outputs": [],
   "source": [
    "for i in range(1):\n",
    "    agent_lstm.train(num_episodes=1000)\n",
    "    make_plot(agent_lstm, round=i, start=3)    "
   ]
  },
  {
   "cell_type": "code",
   "execution_count": null,
   "id": "f82fe7cd",
   "metadata": {},
   "outputs": [],
   "source": [
    "nx.draw(lstm_env.state_graph, labels=lstm_env.node_labels)"
   ]
  }
 ],
 "metadata": {
  "kernelspec": {
   "display_name": "ML_algebra",
   "language": "python",
   "name": "python3"
  },
  "language_info": {
   "codemirror_mode": {
    "name": "ipython",
    "version": 3
   },
   "file_extension": ".py",
   "mimetype": "text/x-python",
   "name": "python",
   "nbconvert_exporter": "python",
   "pygments_lexer": "ipython3",
   "version": "3.11.2"
  },
  "vscode": {
   "interpreter": {
    "hash": "0ce1a643ee56093b1be82db4e97db7e5d1a45bca875c4073dec42b817d93e5d8"
   }
  }
 },
 "nbformat": 4,
 "nbformat_minor": 5
}
