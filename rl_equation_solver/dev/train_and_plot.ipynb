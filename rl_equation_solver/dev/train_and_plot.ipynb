{
 "cells": [
  {
   "cell_type": "code",
   "execution_count": 154,
   "id": "fccf727b",
   "metadata": {},
   "outputs": [
    {
     "name": "stdout",
     "output_type": "stream",
     "text": [
      "The autoreload extension is already loaded. To reload it, use:\n",
      "  %reload_ext autoreload\n"
     ]
    }
   ],
   "source": [
    "%load_ext autoreload\n",
    "%autoreload 2"
   ]
  },
  {
   "cell_type": "code",
   "execution_count": 155,
   "id": "4d02f3b8",
   "metadata": {},
   "outputs": [],
   "source": [
    "import rl_equation_solver\n",
    "from rl_equation_solver.environment.algebraic import Env\n",
    "from rl_equation_solver.agent.dqn import Agent as AgentDQN\n",
    "from rl_equation_solver.agent.gcn import Agent as AgentGCN\n",
    "from rl_equation_solver.agent.lstm import Agent as AgentLSTM\n",
    "from rl_equation_solver.utilities import utilities\n",
    "from rl_equation_solver.utilities.utilities import GraphEmbedding\n",
    "import networkx as nx\n",
    "import numpy as np\n",
    "import matplotlib.pyplot as plt\n",
    "from rex import init_logger\n",
    "from sympy import symbols, sqrt, simplify, expand, nsimplify, parse_expr, sympify\n",
    "import sympy"
   ]
  },
  {
   "cell_type": "code",
   "execution_count": 156,
   "id": "ae10142f",
   "metadata": {},
   "outputs": [
    {
     "data": {
      "text/plain": [
       "<Logger rl_equation_solver (DEBUG)>"
      ]
     },
     "execution_count": 156,
     "metadata": {},
     "output_type": "execute_result"
    }
   ],
   "source": [
    "init_logger(__name__, log_level='DEBUG')\n",
    "init_logger('rl_equation_solver', log_level=\"DEBUG\")"
   ]
  },
  {
   "cell_type": "code",
   "execution_count": null,
   "id": "be013bcb",
   "metadata": {},
   "source": [
    "# plot reward distribution\n",
    "def plot_reward_dist(env):\n",
    "    fig, ax = plt.subplots(1, 1)\n",
    "    ax.hist(env.avg_history['reward'])\n",
    "    ax.set_ylabel('Count')\n",
    "    ax.set_xlabel('Reward')\n",
    "    plt.show()\n",
    "\n",
    "# plot complexity, loss, reward\n",
    "def plot_trends(env):\n",
    "    fig, ax = plt.subplots(1, 3, figsize=(10, 5))\n",
    "    x = np.arange(len(env.avg_history['ep']))\n",
    "    \n",
    "    y = env.avg_history['complexity']\n",
    "    a, b = np.polyfit(x, y, 1)\n",
    "    ax[0].scatter(x, y)\n",
    "    ax[0].plot(a*x + b, color='r')\n",
    "    \n",
    "    y = env.avg_history['loss']\n",
    "    mask = np.array([i for i, v in enumerate(y) if not np.isnan(v)])\n",
    "    mask = slice(mask[0], mask[-1] + 1)\n",
    "    a, b = np.polyfit(x[mask], y[mask], 1)\n",
    "    ax[1].scatter(x[mask], y[mask])\n",
    "    ax[1].plot(a*x[mask] + b, color='r')\n",
    "    \n",
    "    y = env.avg_history['reward']\n",
    "    a, b = np.polyfit(x, y, 1)\n",
    "    ax[2].scatter(x, y)\n",
    "    ax[2].plot(a*x + b, color='r')\n",
    "    \n",
    "    ax[0].set_title('Complexity')\n",
    "    ax[1].set_title('Loss')\n",
    "    ax[2].set_title('Reward')\n",
    "    plt.show()\n",
    "    "
   ]
  },
  {
   "attachments": {},
   "cell_type": "markdown",
   "id": "f85f9cda",
   "metadata": {},
   "source": [
    "## Initialize Env and Agent ##\n",
    "### Agent can be AgentGCN, AgentLSTM, AgentDQN ###"
   ]
  },
  {
   "cell_type": "code",
   "execution_count": 157,
   "id": "15cbb9a6",
   "metadata": {},
   "outputs": [
    {
     "name": "stdout",
     "output_type": "stream",
     "text": [
      "INFO - 2023-04-16 18:57:46,583 [algebraic.py:109] : Initializing environment with order=2, |S| = 15 x 128 = 1920\n",
      "INFO - 2023-04-16 18:57:46,586 [gcn.py:37] : Initialized Agent with device cuda:0\n"
     ]
    }
   ],
   "source": [
    "env = Env(order=2, init_state=symbols('0'))\n",
    "agent = AgentGCN(env, device='cuda:0')"
   ]
  },
  {
   "attachments": {},
   "cell_type": "markdown",
   "id": "25ec278c",
   "metadata": {},
   "source": [
    "## Train Agent ##"
   ]
  },
  {
   "cell_type": "code",
   "execution_count": 168,
   "id": "caa43344",
   "metadata": {},
   "outputs": [
    {
     "name": "stdout",
     "output_type": "stream",
     "text": [
      "INFO - 2023-04-16 19:17:04,836 [base.py:299] : Running training routine for 50 episodes in eval=False mode.\n",
      "INFO - 2023-04-16 19:17:14,853 [history.py:55] : {'ep': 72, 'step': 8208, 'complexity': 27, 'loss': '3.391e+00', 'reward': '0.000e+00', 'state': (1 - a1)/a0**43}\n",
      "INFO - 2023-04-16 19:17:14,914 [base.py:343] : Solver terminated after 91 steps with reward -2.600e+01 and mean loss 3.613e+00. Final state = (1 - a1)/a0**43\n",
      "INFO - 2023-04-16 19:17:14,915 [history.py:55] : {'ep': 72, 'step': 8209, 'complexity': 35, 'loss': '3.559e+00', 'reward': '-8.000e+00', 'state': (1 - a1)/a0**43}\n",
      "INFO - 2023-04-16 19:17:16,062 [history.py:55] : {'ep': 73, 'step': 8220, 'complexity': 27, 'loss': '3.274e+00', 'reward': '0.000e+00', 'state': (1 - a1)/a0**9}\n",
      "INFO - 2023-04-16 19:17:16,105 [base.py:343] : Solver terminated after 12 steps with reward -2.600e+01 and mean loss 3.340e+00. Final state = (1 - a1)/a0**9\n",
      "INFO - 2023-04-16 19:17:16,106 [history.py:55] : {'ep': 73, 'step': 8221, 'complexity': 35, 'loss': '2.348e+00', 'reward': '-8.000e+00', 'state': (1 - a1)/a0**9}\n",
      "INFO - 2023-04-16 19:17:18,787 [history.py:55] : {'ep': 74, 'step': 8247, 'complexity': 27, 'loss': '3.649e+00', 'reward': '0.000e+00', 'state': (1 - a1)/a0**22}\n",
      "INFO - 2023-04-16 19:17:18,829 [base.py:343] : Solver terminated after 27 steps with reward -2.000e+01 and mean loss 3.522e+00. Final state = (1 - a1)/a0**22\n",
      "INFO - 2023-04-16 19:17:18,830 [history.py:55] : {'ep': 74, 'step': 8248, 'complexity': 29, 'loss': '3.890e+00', 'reward': '-2.000e+00', 'state': (1 - a1)/a0**22}\n",
      "INFO - 2023-04-16 19:17:22,253 [history.py:55] : {'ep': 75, 'step': 8281, 'complexity': 19, 'loss': '3.787e+00', 'reward': '0.000e+00', 'state': 1/(a0**30*a1)}\n",
      "INFO - 2023-04-16 19:17:22,294 [base.py:343] : Solver terminated after 34 steps with reward -2.000e+01 and mean loss 3.619e+00. Final state = 1/(a0**30*a1)\n",
      "INFO - 2023-04-16 19:17:22,295 [history.py:55] : {'ep': 75, 'step': 8282, 'complexity': 29, 'loss': '2.661e+00', 'reward': '-1.000e+01', 'state': 1/(a0**30*a1)}\n",
      "INFO - 2023-04-16 19:17:22,953 [history.py:55] : {'ep': 76, 'step': 8288, 'complexity': 27, 'loss': '3.348e+00', 'reward': '0.000e+00', 'state': (1 - a1)/a0**5}\n",
      "INFO - 2023-04-16 19:17:22,998 [base.py:343] : Solver terminated after 7 steps with reward -3.000e+01 and mean loss 4.194e+00. Final state = (1 - a1)/a0**5\n",
      "INFO - 2023-04-16 19:17:22,998 [history.py:55] : {'ep': 76, 'step': 8289, 'complexity': 39, 'loss': '3.560e+00', 'reward': '-1.200e+01', 'state': (1 - a1)/a0**5}\n",
      "INFO - 2023-04-16 19:17:34,163 [history.py:55] : {'ep': 77, 'step': 8398, 'complexity': 27, 'loss': '2.683e+00', 'reward': '0.000e+00', 'state': (1 - a1)/a0**41}\n",
      "INFO - 2023-04-16 19:17:34,210 [base.py:343] : Solver terminated after 110 steps with reward -2.400e+01 and mean loss 3.503e+00. Final state = (1 - a1)/a0**41\n",
      "INFO - 2023-04-16 19:17:34,211 [history.py:55] : {'ep': 77, 'step': 8399, 'complexity': 33, 'loss': '4.008e+00', 'reward': '-6.000e+00', 'state': (1 - a1)/a0**41}\n",
      "INFO - 2023-04-16 19:17:35,168 [history.py:55] : {'ep': 78, 'step': 8408, 'complexity': 27, 'loss': '2.273e+00', 'reward': '0.000e+00', 'state': (1 - a1)/a0**7}\n",
      "INFO - 2023-04-16 19:17:35,218 [base.py:343] : Solver terminated after 10 steps with reward -2.400e+01 and mean loss 3.464e+00. Final state = (1 - a1)/a0**7\n",
      "INFO - 2023-04-16 19:17:35,218 [history.py:55] : {'ep': 78, 'step': 8409, 'complexity': 33, 'loss': '2.672e+00', 'reward': '-6.000e+00', 'state': (1 - a1)/a0**7}\n",
      "INFO - 2023-04-16 19:17:37,369 [history.py:55] : {'ep': 79, 'step': 8431, 'complexity': 27, 'loss': '2.837e+00', 'reward': '0.000e+00', 'state': (1 - a1)/a0**16}\n",
      "INFO - 2023-04-16 19:17:37,411 [base.py:343] : Solver terminated after 23 steps with reward -3.000e+01 and mean loss 3.462e+00. Final state = (1 - a1)/a0**16\n",
      "INFO - 2023-04-16 19:17:37,412 [history.py:55] : {'ep': 79, 'step': 8432, 'complexity': 39, 'loss': '4.917e+00', 'reward': '-1.200e+01', 'state': (1 - a1)/a0**16}\n",
      "INFO - 2023-04-16 19:17:41,611 [history.py:55] : {'ep': 80, 'step': 8473, 'complexity': 27, 'loss': '3.502e+00', 'reward': '0.000e+00', 'state': (1 - a1)/a0**27}\n",
      "INFO - 2023-04-16 19:17:41,657 [base.py:343] : Solver terminated after 42 steps with reward -2.400e+01 and mean loss 3.521e+00. Final state = (1 - a1)/a0**27\n",
      "INFO - 2023-04-16 19:17:41,658 [history.py:55] : {'ep': 80, 'step': 8474, 'complexity': 33, 'loss': '3.354e+00', 'reward': '-6.000e+00', 'state': (1 - a1)/a0**27}\n",
      "INFO - 2023-04-16 19:17:53,473 [history.py:55] : {'ep': 81, 'step': 8591, 'complexity': 27, 'loss': '4.124e+00', 'reward': '0.000e+00', 'state': (1 - a1)/a0**26}\n",
      "INFO - 2023-04-16 19:17:53,518 [base.py:343] : Solver terminated after 118 steps with reward -2.600e+01 and mean loss 3.621e+00. Final state = (1 - a1)/a0**26\n",
      "INFO - 2023-04-16 19:17:53,518 [history.py:55] : {'ep': 81, 'step': 8592, 'complexity': 35, 'loss': '3.778e+00', 'reward': '-8.000e+00', 'state': (1 - a1)/a0**26}\n",
      "INFO - 2023-04-16 19:17:53,762 [history.py:55] : {'ep': 82, 'step': 8594, 'complexity': 23, 'loss': '2.126e+00', 'reward': '-6.000e+00', 'state': 1 + a0 - a1}\n",
      "INFO - 2023-04-16 19:17:53,811 [base.py:343] : Solver terminated after 3 steps with reward 4.000e+00 and mean loss 2.721e+00. Final state = 1 + a0 - a1\n",
      "INFO - 2023-04-16 19:17:53,812 [history.py:55] : {'ep': 82, 'step': 8595, 'complexity': 5, 'loss': '2.235e+00', 'reward': '1.800e+01', 'state': 1 + a0 - a1}\n",
      "INFO - 2023-04-16 19:17:55,362 [history.py:55] : {'ep': 83, 'step': 8610, 'complexity': 27, 'loss': '2.272e+00', 'reward': '0.000e+00', 'state': (1 - a1)/a0**14}\n",
      "INFO - 2023-04-16 19:17:55,407 [base.py:343] : Solver terminated after 16 steps with reward -2.000e+01 and mean loss 3.389e+00. Final state = (1 - a1)/a0**14\n",
      "INFO - 2023-04-16 19:17:55,407 [history.py:55] : {'ep': 83, 'step': 8611, 'complexity': 29, 'loss': '2.306e+00', 'reward': '-2.000e+00', 'state': (1 - a1)/a0**14}\n",
      "INFO - 2023-04-16 19:18:01,470 [history.py:55] : {'ep': 84, 'step': 8670, 'complexity': 27, 'loss': '4.418e+00', 'reward': '0.000e+00', 'state': (1 - a1)/a0**31}\n",
      "INFO - 2023-04-16 19:18:01,513 [base.py:343] : Solver terminated after 60 steps with reward -3.000e+01 and mean loss 3.835e+00. Final state = (1 - a1)/a0**31\n",
      "INFO - 2023-04-16 19:18:01,514 [history.py:55] : {'ep': 84, 'step': 8671, 'complexity': 39, 'loss': '2.635e+00', 'reward': '-1.200e+01', 'state': (1 - a1)/a0**31}\n",
      "INFO - 2023-04-16 19:18:03,961 [history.py:55] : {'ep': 85, 'step': 8695, 'complexity': 27, 'loss': '3.838e+00', 'reward': '0.000e+00', 'state': (1 - a1)/a0**18}\n",
      "INFO - 2023-04-16 19:18:04,004 [base.py:343] : Solver terminated after 25 steps with reward -2.000e+01 and mean loss 3.759e+00. Final state = (1 - a1)/a0**18\n",
      "INFO - 2023-04-16 19:18:04,005 [history.py:55] : {'ep': 85, 'step': 8696, 'complexity': 29, 'loss': '2.680e+00', 'reward': '-2.000e+00', 'state': (1 - a1)/a0**18}\n",
      "INFO - 2023-04-16 19:18:04,308 [history.py:55] : {'ep': 86, 'step': 8699, 'complexity': 27, 'loss': '3.215e+00', 'reward': '-1.000e+01', 'state': 1 - a0 - a1}\n",
      "INFO - 2023-04-16 19:18:04,351 [base.py:343] : Solver terminated after 4 steps with reward 0.000e+00 and mean loss 3.410e+00. Final state = 1 - a0 - a1\n",
      "INFO - 2023-04-16 19:18:04,352 [history.py:55] : {'ep': 86, 'step': 8700, 'complexity': 9, 'loss': '3.029e+00', 'reward': '1.800e+01', 'state': 1 - a0 - a1}\n",
      "INFO - 2023-04-16 19:18:07,240 [history.py:55] : {'ep': 87, 'step': 8728, 'complexity': 27, 'loss': '4.921e+00', 'reward': '0.000e+00', 'state': (1 - a1)/a0**21}\n",
      "INFO - 2023-04-16 19:18:07,285 [base.py:343] : Solver terminated after 29 steps with reward -2.000e+01 and mean loss 3.903e+00. Final state = (1 - a1)/a0**21\n",
      "INFO - 2023-04-16 19:18:07,285 [history.py:55] : {'ep': 87, 'step': 8729, 'complexity': 29, 'loss': '3.837e+00', 'reward': '-2.000e+00', 'state': (1 - a1)/a0**21}\n",
      "INFO - 2023-04-16 19:18:12,419 [history.py:55] : {'ep': 88, 'step': 8780, 'complexity': 27, 'loss': '3.398e+00', 'reward': '0.000e+00', 'state': (1 - a1)/a0**28}\n",
      "INFO - 2023-04-16 19:18:12,469 [base.py:343] : Solver terminated after 52 steps with reward -2.400e+01 and mean loss 3.760e+00. Final state = (1 - a1)/a0**28\n",
      "INFO - 2023-04-16 19:18:12,469 [history.py:55] : {'ep': 88, 'step': 8781, 'complexity': 33, 'loss': '4.023e+00', 'reward': '-6.000e+00', 'state': (1 - a1)/a0**28}\n",
      "INFO - 2023-04-16 19:18:14,892 [history.py:55] : {'ep': 89, 'step': 8804, 'complexity': 27, 'loss': '2.500e+00', 'reward': '0.000e+00', 'state': (1 - a1)/a0**17}\n",
      "INFO - 2023-04-16 19:18:14,942 [base.py:343] : Solver terminated after 24 steps with reward -2.800e+01 and mean loss 3.722e+00. Final state = (1 - a1)/a0**17\n",
      "INFO - 2023-04-16 19:18:14,942 [history.py:55] : {'ep': 89, 'step': 8805, 'complexity': 37, 'loss': '3.214e+00', 'reward': '-1.000e+01', 'state': (1 - a1)/a0**17}\n",
      "INFO - 2023-04-16 19:18:16,492 [history.py:55] : {'ep': 90, 'step': 8821, 'complexity': 27, 'loss': '3.372e+00', 'reward': '0.000e+00', 'state': (1 - a1)/a0**8}\n",
      "INFO - 2023-04-16 19:18:16,537 [base.py:343] : Solver terminated after 17 steps with reward -2.000e+01 and mean loss 3.972e+00. Final state = (1 - a1)/a0**8\n",
      "INFO - 2023-04-16 19:18:16,537 [history.py:55] : {'ep': 90, 'step': 8822, 'complexity': 29, 'loss': '3.752e+00', 'reward': '-2.000e+00', 'state': (1 - a1)/a0**8}\n",
      "INFO - 2023-04-16 19:18:21,021 [history.py:55] : {'ep': 91, 'step': 8866, 'complexity': 25, 'loss': '4.539e+00', 'reward': '0.000e+00', 'state': ((1 + a1)/a0**28)**a1}\n",
      "INFO - 2023-04-16 19:18:21,072 [base.py:343] : Solver terminated after 45 steps with reward -1.200e+01 and mean loss 3.869e+00. Final state = ((1 + a1)/a0**28)**a1\n",
      "INFO - 2023-04-16 19:18:21,073 [history.py:55] : {'ep': 91, 'step': 8867, 'complexity': 21, 'loss': '3.527e+00', 'reward': '4.000e+00', 'state': ((1 + a1)/a0**28)**a1}\n",
      "INFO - 2023-04-16 19:18:26,059 [history.py:55] : {'ep': 92, 'step': 8914, 'complexity': 27, 'loss': '4.600e+00', 'reward': '0.000e+00', 'state': (1 - a1)/a0**8}\n",
      "INFO - 2023-04-16 19:18:26,107 [base.py:343] : Solver terminated after 48 steps with reward -2.000e+01 and mean loss 4.032e+00. Final state = (1 - a1)/a0**8\n",
      "INFO - 2023-04-16 19:18:26,107 [history.py:55] : {'ep': 92, 'step': 8915, 'complexity': 29, 'loss': '3.061e+00', 'reward': '-2.000e+00', 'state': (1 - a1)/a0**8}\n",
      "INFO - 2023-04-16 19:18:27,685 [history.py:55] : {'ep': 93, 'step': 8930, 'complexity': 27, 'loss': '3.359e+00', 'reward': '0.000e+00', 'state': (1 - a1)/a0**11}\n",
      "INFO - 2023-04-16 19:18:27,729 [base.py:343] : Solver terminated after 16 steps with reward -2.600e+01 and mean loss 3.792e+00. Final state = (1 - a1)/a0**11\n",
      "INFO - 2023-04-16 19:18:27,730 [history.py:55] : {'ep': 93, 'step': 8931, 'complexity': 35, 'loss': '2.485e+00', 'reward': '-8.000e+00', 'state': (1 - a1)/a0**11}\n",
      "INFO - 2023-04-16 19:18:31,704 [history.py:55] : {'ep': 94, 'step': 8969, 'complexity': 27, 'loss': '2.835e+00', 'reward': '0.000e+00', 'state': (1 - a1)/a0**25}\n",
      "INFO - 2023-04-16 19:18:31,749 [base.py:343] : Solver terminated after 39 steps with reward -2.000e+01 and mean loss 3.711e+00. Final state = (1 - a1)/a0**25\n",
      "INFO - 2023-04-16 19:18:31,749 [history.py:55] : {'ep': 94, 'step': 8970, 'complexity': 29, 'loss': '4.273e+00', 'reward': '-2.000e+00', 'state': (1 - a1)/a0**25}\n"
     ]
    }
   ],
   "source": [
    "for _ in range(10):\n",
    "    agent.train(5)"
   ]
  },
  {
   "attachments": {},
   "cell_type": "markdown",
   "id": "79e9b973",
   "metadata": {},
   "source": [
    "## Plot Reward Distribution ##"
   ]
  },
  {
   "cell_type": "code",
   "execution_count": null,
   "id": "75e35292",
   "metadata": {},
   "source": [
    "plot_reward_dist(env)"
   ]
  },
  {
   "attachments": {},
   "cell_type": "markdown",
   "id": "9fe8fd95",
   "metadata": {},
   "source": [
    "## Plot complexity, loss, and reward trend ##"
   ]
  },
  {
   "cell_type": "code",
   "execution_count": 167,
   "id": "75e35292",
   "metadata": {},
   "outputs": [
    {
     "name": "stderr",
     "output_type": "stream",
     "text": [
      "c:\\users\\bbent\\repos\\rl-equation-solver\\rl_equation_solver\\utilities\\history.py:28: RuntimeWarning: Mean of empty slice\n",
      "  return out\n"
     ]
    },
    {
     "data": {
      "text/plain": [
       "Text(0.5, 0, 'Reward')"
      ]
     },
     "execution_count": 167,
     "metadata": {},
     "output_type": "execute_result"
    },
    {
     "data": {
      "image/png": "[encoded data removed]",
      "text/plain": [
       "<Figure size 640x480 with 1 Axes>"
      ]
     },
     "metadata": {},
     "output_type": "display_data"
    }
   ],
   "source": [
    "fig, ax = plt.subplots(1, 1)\n",
    "ax.hist(env.avg_history['reward'])\n",
    "ax.set_ylabel('Count')\n",
    "ax.set_xlabel('Reward')"
   ]
  },
  {
   "attachments": {},
   "cell_type": "markdown",
   "id": "9fe8fd95",
   "metadata": {},
   "source": [
    "## Plot complexity, loss, and reward trend ##"
   ]
  },
  {
   "cell_type": "code",
   "execution_count": 118,
   "id": "a9ef4209",
   "metadata": {},
   "outputs": [
    {
     "data": {
      "text/plain": [
       "Text(0.5, 1.0, 'Reward')"
      ]
     },
     "execution_count": 118,
     "metadata": {},
     "output_type": "execute_result"
    },
    {
     "data": {
      "image/png": "[encoded data removed]",
      "text/plain": [
       "<Figure size 1000x500 with 3 Axes>"
      ]
     },
     "metadata": {},
     "output_type": "display_data"
    }
   ],
   "source": [
    "plot_trends(env)\n"
   ]
  },
  {
   "attachments": {},
   "cell_type": "markdown",
   "id": "a8d78f8e",
   "metadata": {},
   "source": [
    "## Run trained agent in eval mode ##"
   ]
  },
  {
   "cell_type": "code",
   "execution_count": null,
   "id": "7d27f11f",
   "metadata": {},
   "outputs": [],
   "source": [
    "agent.train(10, eval=True)"
   ]
  },
  {
   "attachments": {},
   "cell_type": "markdown",
   "id": "7db5eee4",
   "metadata": {},
   "source": [
    "## Plot reward distribution for trained agent ##"
   ]
  },
  {
   "cell_type": "code",
   "execution_count": null,
   "id": "b822e395",
   "metadata": {},
   "outputs": [],
   "source": [
    "plot_reward_dist(env)"
   ]
  },
  {
   "attachments": {},
   "cell_type": "markdown",
   "id": "77b6ce36",
   "metadata": {},
   "source": [
    "## Render final state graph ##"
   ]
  },
  {
   "cell_type": "code",
   "execution_count": 121,
   "id": "7d27f11f",
   "metadata": {},
   "outputs": [
    {
     "name": "stdout",
     "output_type": "stream",
     "text": [
      "INFO - 2023-04-16 18:43:42,439 [base.py:299] : Running training routine for 10 episodes in eval=True mode.\n",
      "INFO - 2023-04-16 18:43:43,041 [history.py:57] : {'ep': 0, 'step': 296, 'complexity': 17, 'loss': '2.771e+00', 'reward': '-8.000e+00', 'state': a0 - a1}\n",
      "INFO - 2023-04-16 18:43:43,083 [base.py:343] : Solver terminated after 8 steps with reward -8.000e+00 and mean loss 2.707e+00. Final state = a0 - a1\n",
      "INFO - 2023-04-16 18:43:43,088 [history.py:57] : {'ep': 0, 'step': 297, 'complexity': 17, 'loss': '3.098e+00', 'reward': '0.000e+00', 'state': a0 - a1}\n",
      "INFO - 2023-04-16 18:43:43,865 [history.py:57] : {'ep': 1, 'step': 305, 'complexity': 23, 'loss': '3.517e+00', 'reward': '-4.000e+00', 'state': 1 - a1 + 2}\n",
      "INFO - 2023-04-16 18:43:43,907 [base.py:343] : Solver terminated after 9 steps with reward -1.400e+01 and mean loss 2.616e+00. Final state = 1 - a1 + 2\n",
      "INFO - 2023-04-16 18:43:43,912 [history.py:57] : {'ep': 1, 'step': 306, 'complexity': 23, 'loss': '3.245e+00', 'reward': '0.000e+00', 'state': 1 - a1 + 2}\n",
      "INFO - 2023-04-16 18:43:46,138 [history.py:57] : {'ep': 2, 'step': 333, 'complexity': 17, 'loss': '3.361e+00', 'reward': '-8.000e+00', 'state': a0 - a1}\n",
      "INFO - 2023-04-16 18:43:46,178 [base.py:343] : Solver terminated after 28 steps with reward -8.000e+00 and mean loss 2.740e+00. Final state = a0 - a1\n",
      "INFO - 2023-04-16 18:43:46,184 [history.py:57] : {'ep': 2, 'step': 334, 'complexity': 17, 'loss': '2.820e+00', 'reward': '0.000e+00', 'state': a0 - a1}\n",
      "INFO - 2023-04-16 18:43:47,060 [history.py:57] : {'ep': 3, 'step': 344, 'complexity': 17, 'loss': '3.508e+00', 'reward': '-8.000e+00', 'state': a0 - a1}\n",
      "INFO - 2023-04-16 18:43:47,101 [base.py:343] : Solver terminated after 11 steps with reward -8.000e+00 and mean loss 2.607e+00. Final state = a0 - a1\n",
      "INFO - 2023-04-16 18:43:47,106 [history.py:57] : {'ep': 3, 'step': 345, 'complexity': 17, 'loss': '2.275e+00', 'reward': '0.000e+00', 'state': a0 - a1}\n",
      "INFO - 2023-04-16 18:43:49,244 [history.py:57] : {'ep': 4, 'step': 372, 'complexity': 17, 'loss': '2.692e+00', 'reward': '-8.000e+00', 'state': a0 - a1}\n",
      "INFO - 2023-04-16 18:43:49,291 [base.py:343] : Solver terminated after 28 steps with reward -8.000e+00 and mean loss 3.017e+00. Final state = a0 - a1\n",
      "INFO - 2023-04-16 18:43:49,297 [history.py:57] : {'ep': 4, 'step': 373, 'complexity': 17, 'loss': '3.489e+00', 'reward': '0.000e+00', 'state': a0 - a1}\n",
      "INFO - 2023-04-16 18:43:49,610 [history.py:57] : {'ep': 5, 'step': 376, 'complexity': 17, 'loss': '2.940e+00', 'reward': '-2.000e+00', 'state': (1 + 2)**a0}\n",
      "INFO - 2023-04-16 18:43:49,650 [base.py:343] : Solver terminated after 4 steps with reward -8.000e+00 and mean loss 3.354e+00. Final state = (1 + 2)**a0\n",
      "INFO - 2023-04-16 18:43:49,655 [history.py:57] : {'ep': 5, 'step': 377, 'complexity': 17, 'loss': '3.535e+00', 'reward': '0.000e+00', 'state': (1 + 2)**a0}\n",
      "INFO - 2023-04-16 18:43:54,777 [history.py:57] : {'ep': 6, 'step': 443, 'complexity': 17, 'loss': '2.918e+00', 'reward': '-8.000e+00', 'state': a0 - a1}\n",
      "INFO - 2023-04-16 18:43:54,827 [base.py:343] : Solver terminated after 67 steps with reward -8.000e+00 and mean loss 2.840e+00. Final state = a0 - a1\n",
      "INFO - 2023-04-16 18:43:54,833 [history.py:57] : {'ep': 6, 'step': 444, 'complexity': 17, 'loss': '3.577e+00', 'reward': '0.000e+00', 'state': a0 - a1}\n",
      "INFO - 2023-04-16 18:44:04,146 [history.py:57] : {'ep': 7, 'step': 571, 'complexity': 17, 'loss': '2.981e+00', 'reward': '0.000e+00', 'state': a0 - 2*a1}\n",
      "INFO - 2023-04-16 18:44:04,191 [base.py:343] : Solver terminated after 128 steps with reward -1.400e+01 and mean loss 2.969e+00. Final state = a0 - 2*a1\n",
      "INFO - 2023-04-16 18:44:04,197 [history.py:57] : {'ep': 7, 'step': 572, 'complexity': 23, 'loss': '3.668e+00', 'reward': '-6.000e+00', 'state': a0 - 2*a1}\n",
      "INFO - 2023-04-16 18:44:05,665 [history.py:57] : {'ep': 8, 'step': 592, 'complexity': 15, 'loss': '3.295e+00', 'reward': '-1.000e+01', 'state': 1 - a0}\n",
      "INFO - 2023-04-16 18:44:05,706 [base.py:343] : Solver terminated after 21 steps with reward -2.000e+00 and mean loss 3.229e+00. Final state = 1 - a0\n",
      "INFO - 2023-04-16 18:44:05,710 [history.py:57] : {'ep': 8, 'step': 593, 'complexity': 11, 'loss': '3.029e+00', 'reward': '4.000e+00', 'state': 1 - a0}\n"
     ]
    },
    {
     "ename": "KeyboardInterrupt",
     "evalue": "",
     "output_type": "error",
     "traceback": [
      "\u001b[1;31m---------------------------------------------------------------------------\u001b[0m",
      "\u001b[1;31mKeyboardInterrupt\u001b[0m                         Traceback (most recent call last)",
      "Cell \u001b[1;32mIn[121], line 1\u001b[0m\n\u001b[1;32m----> 1\u001b[0m agent\u001b[39m.\u001b[39;49mtrain(\u001b[39m10\u001b[39;49m, \u001b[39meval\u001b[39;49m\u001b[39m=\u001b[39;49m\u001b[39mTrue\u001b[39;49;00m)\n",
      "File \u001b[1;32mc:\\users\\bbent\\repos\\rl-equation-solver\\rl_equation_solver\\agent\\base.py:314\u001b[0m, in \u001b[0;36mBaseAgent.train\u001b[1;34m(self, num_episodes, eval)\u001b[0m\n\u001b[0;32m    311\u001b[0m total_loss \u001b[39m=\u001b[39m []\n\u001b[0;32m    312\u001b[0m \u001b[39mfor\u001b[39;00m t \u001b[39min\u001b[39;00m count():\n\u001b[0;32m    313\u001b[0m     \u001b[39m# sample an action\u001b[39;00m\n\u001b[1;32m--> 314\u001b[0m     action, next_state, done, info \u001b[39m=\u001b[39m \u001b[39mself\u001b[39;49m\u001b[39m.\u001b[39;49mstep(state,\n\u001b[0;32m    315\u001b[0m                                                training\u001b[39m=\u001b[39;49mtraining)\n\u001b[0;32m    316\u001b[0m     reward \u001b[39m=\u001b[39m torch\u001b[39m.\u001b[39mtensor([info[\u001b[39m'\u001b[39m\u001b[39mreward\u001b[39m\u001b[39m'\u001b[39m]], device\u001b[39m=\u001b[39m\u001b[39mself\u001b[39m\u001b[39m.\u001b[39mdevice)\n\u001b[0;32m    318\u001b[0m     \u001b[39m# Store the experience in the memory\u001b[39;00m\n",
      "File \u001b[1;32mc:\\users\\bbent\\repos\\rl-equation-solver\\rl_equation_solver\\agent\\base.py:170\u001b[0m, in \u001b[0;36mBaseAgent.step\u001b[1;34m(self, state, training)\u001b[0m\n\u001b[0;32m    168\u001b[0m     next_state \u001b[39m=\u001b[39m \u001b[39mNone\u001b[39;00m\n\u001b[0;32m    169\u001b[0m \u001b[39melse\u001b[39;00m:\n\u001b[1;32m--> 170\u001b[0m     next_state \u001b[39m=\u001b[39m \u001b[39mself\u001b[39;49m\u001b[39m.\u001b[39;49mconvert_state(\u001b[39mself\u001b[39;49m\u001b[39m.\u001b[39;49mstate_string)\n\u001b[0;32m    172\u001b[0m \u001b[39mreturn\u001b[39;00m action, next_state, done, info\n",
      "File \u001b[1;32mc:\\users\\bbent\\repos\\rl-equation-solver\\rl_equation_solver\\agent\\gcn.py:53\u001b[0m, in \u001b[0;36mAgent.convert_state\u001b[1;34m(self, state)\u001b[0m\n\u001b[0;32m     50\u001b[0m \u001b[39m\u001b[39m\u001b[39m\"\"\"Convert state string to graph representation\"\"\"\u001b[39;00m\n\u001b[0;32m     51\u001b[0m \u001b[39mself\u001b[39m\u001b[39m.\u001b[39menv\u001b[39m.\u001b[39mgraph \u001b[39m=\u001b[39m utilities\u001b[39m.\u001b[39mto_graph(state,\n\u001b[0;32m     52\u001b[0m                                     \u001b[39mself\u001b[39m\u001b[39m.\u001b[39menv\u001b[39m.\u001b[39mfeature_dict)\n\u001b[1;32m---> 53\u001b[0m \u001b[39mreturn\u001b[39;00m GraphEmbedding(\u001b[39mself\u001b[39;49m\u001b[39m.\u001b[39;49menv\u001b[39m.\u001b[39;49mgraph,\n\u001b[0;32m     54\u001b[0m                       n_observations\u001b[39m=\u001b[39;49m\u001b[39mself\u001b[39;49m\u001b[39m.\u001b[39;49mn_observations,\n\u001b[0;32m     55\u001b[0m                       n_features\u001b[39m=\u001b[39;49m\u001b[39mself\u001b[39;49m\u001b[39m.\u001b[39;49mfeature_num,\n\u001b[0;32m     56\u001b[0m                       device\u001b[39m=\u001b[39;49m\u001b[39mself\u001b[39;49m\u001b[39m.\u001b[39;49mdevice)\n",
      "File \u001b[1;32mc:\\users\\bbent\\repos\\rl-equation-solver\\rl_equation_solver\\utilities\\utilities.py:109\u001b[0m, in \u001b[0;36mGraphEmbedding.__init__\u001b[1;34m(self, graph, n_observations, n_features, device)\u001b[0m\n\u001b[0;32m    108\u001b[0m \u001b[39mdef\u001b[39;00m \u001b[39m__init__\u001b[39m(\u001b[39mself\u001b[39m, graph, n_observations, n_features, device):\n\u001b[1;32m--> 109\u001b[0m     G \u001b[39m=\u001b[39m from_networkx(graph)\n\u001b[0;32m    110\u001b[0m     \u001b[39mself\u001b[39m\u001b[39m.\u001b[39m_x \u001b[39m=\u001b[39m G\u001b[39m.\u001b[39mx\u001b[39m.\u001b[39mto(device)\n\u001b[0;32m    111\u001b[0m     \u001b[39mself\u001b[39m\u001b[39m.\u001b[39madj \u001b[39m=\u001b[39m G\u001b[39m.\u001b[39medge_index\u001b[39m.\u001b[39mto(device)\n",
      "File \u001b[1;32mc:\\Users\\bbent\\miniconda3\\envs\\rl_solver\\Lib\\site-packages\\torch_geometric\\utils\\convert.py:213\u001b[0m, in \u001b[0;36mfrom_networkx\u001b[1;34m(G, group_node_attrs, group_edge_attrs)\u001b[0m\n\u001b[0;32m    210\u001b[0m \u001b[39melse\u001b[39;00m:\n\u001b[0;32m    211\u001b[0m     edges \u001b[39m=\u001b[39m \u001b[39mlist\u001b[39m(G\u001b[39m.\u001b[39medges)\n\u001b[1;32m--> 213\u001b[0m edge_index \u001b[39m=\u001b[39m torch\u001b[39m.\u001b[39;49mtensor(edges, dtype\u001b[39m=\u001b[39;49mtorch\u001b[39m.\u001b[39;49mlong)\u001b[39m.\u001b[39mt()\u001b[39m.\u001b[39mcontiguous()\n\u001b[0;32m    215\u001b[0m data \u001b[39m=\u001b[39m defaultdict(\u001b[39mlist\u001b[39m)\n\u001b[0;32m    217\u001b[0m \u001b[39mif\u001b[39;00m G\u001b[39m.\u001b[39mnumber_of_nodes() \u001b[39m>\u001b[39m \u001b[39m0\u001b[39m:\n",
      "\u001b[1;31mKeyboardInterrupt\u001b[0m: "
     ]
    }
   ],
   "source": [
    "agent.train(10, eval=True)"
   ]
  },
  {
   "attachments": {},
   "cell_type": "markdown",
   "id": "7db5eee4",
   "metadata": {},
   "source": [
    "## Plot reward distribution for trained agent ##"
   ]
  },
  {
   "cell_type": "code",
   "execution_count": 117,
   "id": "b822e395",
   "metadata": {},
   "outputs": [
    {
     "data": {
      "text/plain": [
       "Text(0.5, 0, 'Reward')"
      ]
     },
     "execution_count": 117,
     "metadata": {},
     "output_type": "execute_result"
    },
    {
     "data": {
      "image/png": "[encoded data removed]",
      "text/plain": [
       "<Figure size 640x480 with 1 Axes>"
      ]
     },
     "metadata": {},
     "output_type": "display_data"
    }
   ],
   "source": [
    "fig, ax = plt.subplots(1, 1)\n",
    "ax.hist(env.avg_history['reward'])\n",
    "ax.set_ylabel('Count')\n",
    "ax.set_xlabel('Reward')"
   ]
  },
  {
   "attachments": {},
   "cell_type": "markdown",
   "id": "77b6ce36",
   "metadata": {},
   "source": [
    "## Render final state graph ##"
   ]
  },
  {
   "cell_type": "code",
   "execution_count": 119,
   "id": "b7b6ec0e",
   "metadata": {},
   "outputs": [
    {
     "data": {
      "image/png": "[encoded data removed]",
      "text/plain": [
       "<Figure size 640x480 with 1 Axes>"
      ]
     },
     "metadata": {},
     "output_type": "display_data"
    }
   ],
   "source": [
    "nx.draw(env.state_graph, labels=env.node_labels)"
   ]
  },
  {
   "attachments": {},
   "cell_type": "markdown",
   "id": "3e11dc81",
   "metadata": {},
   "source": [
    "## Run new Agent in eval mode ##"
   ]
  },
  {
   "cell_type": "code",
   "execution_count": null,
   "id": "9909c589",
   "metadata": {},
   "outputs": [],
   "source": [
    "env = Env(order=2)\n",
    "agent = AgentGCN(env, device='cuda:0')\n",
    "agent.train(10, eval=True)"
   ]
  },
  {
   "attachments": {},
   "cell_type": "markdown",
   "id": "45000e58",
   "metadata": {},
   "source": [
    "## Plot reward distribution for untrained agent ##"
   ]
  },
  {
   "cell_type": "code",
   "execution_count": null,
   "id": "89f1b142",
   "metadata": {},
   "outputs": [],
   "source": [
    "plot_reward_dist(env)"
   ]
  },
  {
   "cell_type": "code",
   "execution_count": null,
   "id": "b7384580",
   "metadata": {},
   "outputs": [],
   "source": []
  }
 ],
 "metadata": {
  "kernelspec": {
   "display_name": "ML_algebra",
   "language": "python",
   "name": "python3"
  },
  "language_info": {
   "codemirror_mode": {
    "name": "ipython",
    "version": 3
   },
   "file_extension": ".py",
   "mimetype": "text/x-python",
   "name": "python",
   "nbconvert_exporter": "python",
   "pygments_lexer": "ipython3",
   "version": "3.11.2"
  },
  "vscode": {
   "interpreter": {
    "hash": "0ce1a643ee56093b1be82db4e97db7e5d1a45bca875c4073dec42b817d93e5d8"
   }
  }
 },
 "nbformat": 4,
 "nbformat_minor": 5
}
