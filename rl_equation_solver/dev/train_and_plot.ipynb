{
 "cells": [
  {
   "cell_type": "code",
   "execution_count": null,
   "id": "fccf727b",
   "metadata": {},
   "outputs": [],
   "source": [
    "%load_ext autoreload\n",
    "%autoreload 2"
   ]
  },
  {
   "cell_type": "code",
   "execution_count": null,
   "id": "4d02f3b8",
   "metadata": {},
   "outputs": [],
   "source": [
    "import rl_equation_solver\n",
    "from rl_equation_solver.environment.algebraic import Env\n",
    "from rl_equation_solver.agent.dqn import Agent as AgentDQN\n",
    "from rl_equation_solver.agent.gcn import Agent as AgentGCN\n",
    "from rl_equation_solver.agent.lstm import Agent as AgentLSTM\n",
    "from rl_equation_solver.utilities import utilities\n",
    "from rl_equation_solver.utilities.utilities import GraphEmbedding\n",
    "import networkx as nx\n",
    "import numpy as np\n",
    "import matplotlib.pyplot as plt\n",
    "from rex import init_logger\n",
    "from sympy import symbols, sqrt, simplify, expand, nsimplify, parse_expr, sympify\n",
    "import sympy"
   ]
  },
  {
   "cell_type": "code",
   "execution_count": null,
   "id": "ae10142f",
   "metadata": {},
   "outputs": [],
   "source": [
    "init_logger(__name__, log_level='DEBUG')\n",
    "init_logger('rl_equation_solver', log_level=\"DEBUG\")"
   ]
  },
  {
   "cell_type": "code",
   "execution_count": null,
   "id": "be013bcb",
   "metadata": {},
   "outputs": [],
   "source": [
    "# plot reward distribution\n",
    "def plot_reward_dist(env):\n",
    "    fig, ax = plt.subplots(1, 1)\n",
    "    ax.hist(env.avg_history['reward'])\n",
    "    ax.set_ylabel('Count')\n",
    "    ax.set_xlabel('Reward')\n",
    "    plt.show()\n",
    "\n",
    "# plot complexity, loss, reward\n",
    "def plot_trends(env):\n",
    "    fig, ax = plt.subplots(1, 3, figsize=(10, 5))\n",
    "    x = np.arange(len(env.avg_history['ep']))\n",
    "    \n",
    "    y = env.avg_history['complexity']\n",
    "    a, b = np.polyfit(x, y, 1)\n",
    "    ax[0].scatter(x, y)\n",
    "    ax[0].plot(a*x + b, color='r')\n",
    "    \n",
    "    y = env.avg_history['loss']\n",
    "    mask = np.array([i for i, v in enumerate(y) if not np.isnan(v)])\n",
    "    mask = slice(mask[0], mask[-1] + 1)\n",
    "    a, b = np.polyfit(x[mask], y[mask], 1)\n",
    "    ax[1].scatter(x[mask], y[mask])\n",
    "    ax[1].plot(a*x[mask] + b, color='r')\n",
    "    \n",
    "    y = env.avg_history['reward']\n",
    "    a, b = np.polyfit(x, y, 1)\n",
    "    ax[2].scatter(x, y)\n",
    "    ax[2].plot(a*x + b, color='r')\n",
    "    \n",
    "    ax[0].set_title('Complexity')\n",
    "    ax[1].set_title('Loss')\n",
    "    ax[2].set_title('Reward')\n",
    "    plt.show()\n",
    "    "
   ]
  },
  {
   "attachments": {},
   "cell_type": "markdown",
   "id": "f85f9cda",
   "metadata": {},
   "source": [
    "## Initialize Env and Agent ##\n",
    "### Agent can be AgentGCN, AgentLSTM, AgentDQN ###"
   ]
  },
  {
   "cell_type": "code",
   "execution_count": null,
   "id": "15cbb9a6",
   "metadata": {},
   "outputs": [],
   "source": [
    "env = Env(order=2, init_state=symbols('0'))\n",
    "agent = AgentGCN(env, device='cuda:0')"
   ]
  },
  {
   "attachments": {},
   "cell_type": "markdown",
   "id": "25ec278c",
   "metadata": {},
   "source": [
    "## Train Agent ##"
   ]
  },
  {
   "cell_type": "code",
   "execution_count": null,
   "id": "caa43344",
   "metadata": {},
   "outputs": [],
   "source": [
    "for _ in range(10):\n",
    "    agent.train(5)"
   ]
  },
  {
   "attachments": {},
   "cell_type": "markdown",
   "id": "79e9b973",
   "metadata": {},
   "source": [
    "## Plot Reward Distribution ##"
   ]
  },
  {
   "cell_type": "code",
   "execution_count": null,
   "id": "75e35292",
   "metadata": {},
   "outputs": [],
   "source": [
    "plot_reward_dist(env)"
   ]
  },
  {
   "attachments": {},
   "cell_type": "markdown",
   "id": "9fe8fd95",
   "metadata": {},
   "source": [
    "## Plot complexity, loss, and reward trend ##"
   ]
  },
  {
   "cell_type": "code",
   "execution_count": null,
   "id": "a9ef4209",
   "metadata": {},
   "outputs": [],
   "source": [
    "plot_trends(env)\n"
   ]
  },
  {
   "attachments": {},
   "cell_type": "markdown",
   "id": "a8d78f8e",
   "metadata": {},
   "source": [
    "## Run trained agent in eval mode ##"
   ]
  },
  {
   "cell_type": "code",
   "execution_count": null,
   "id": "7d27f11f",
   "metadata": {},
   "outputs": [],
   "source": [
    "agent.train(10, eval=True)"
   ]
  },
  {
   "attachments": {},
   "cell_type": "markdown",
   "id": "7db5eee4",
   "metadata": {},
   "source": [
    "## Plot reward distribution for trained agent ##"
   ]
  },
  {
   "cell_type": "code",
   "execution_count": null,
   "id": "b822e395",
   "metadata": {},
   "outputs": [],
   "source": [
    "plot_reward_dist(env)"
   ]
  },
  {
   "attachments": {},
   "cell_type": "markdown",
   "id": "77b6ce36",
   "metadata": {},
   "source": [
    "## Render final state graph ##"
   ]
  },
  {
   "cell_type": "code",
   "execution_count": null,
   "id": "b7b6ec0e",
   "metadata": {},
   "outputs": [],
   "source": [
    "nx.draw(env.state_graph, labels=env.node_labels)"
   ]
  },
  {
   "attachments": {},
   "cell_type": "markdown",
   "id": "3e11dc81",
   "metadata": {},
   "source": [
    "## Run new Agent in eval mode ##"
   ]
  },
  {
   "cell_type": "code",
   "execution_count": null,
   "id": "9909c589",
   "metadata": {},
   "outputs": [],
   "source": [
    "env = Env(order=2)\n",
    "agent = AgentGCN(env, device='cuda:0')\n",
    "agent.train(10, eval=True)"
   ]
  },
  {
   "attachments": {},
   "cell_type": "markdown",
   "id": "45000e58",
   "metadata": {},
   "source": [
    "## Plot reward distribution for untrained agent ##"
   ]
  },
  {
   "cell_type": "code",
   "execution_count": null,
   "id": "89f1b142",
   "metadata": {},
   "outputs": [],
   "source": [
    "plot_reward_dist(env)"
   ]
  },
  {
   "cell_type": "code",
   "execution_count": null,
   "id": "b7384580",
   "metadata": {},
   "outputs": [],
   "source": []
  }
 ],
 "metadata": {
  "kernelspec": {
   "display_name": "ML_algebra",
   "language": "python",
   "name": "python3"
  },
  "language_info": {
   "codemirror_mode": {
    "name": "ipython",
    "version": 3
   },
   "file_extension": ".py",
   "mimetype": "text/x-python",
   "name": "python",
   "nbconvert_exporter": "python",
   "pygments_lexer": "ipython3",
   "version": "3.11.2"
  },
  "vscode": {
   "interpreter": {
    "hash": "0ce1a643ee56093b1be82db4e97db7e5d1a45bca875c4073dec42b817d93e5d8"
   }
  }
 },
 "nbformat": 4,
 "nbformat_minor": 5
}
