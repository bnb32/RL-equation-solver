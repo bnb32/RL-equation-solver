{
 "cells": [
  {
   "cell_type": "code",
   "execution_count": 1,
   "id": "fccf727b",
   "metadata": {},
   "outputs": [],
   "source": [
    "%load_ext autoreload\n",
    "%autoreload 2"
   ]
  },
  {
   "cell_type": "code",
   "execution_count": 2,
   "id": "4d02f3b8",
   "metadata": {},
   "outputs": [],
   "source": [
    "import rl_equation_solver\n",
    "from rl_equation_solver.environment.algebraic import Env\n",
    "from rl_equation_solver.agent.dqn import Agent as AgentDQN\n",
    "from rl_equation_solver.agent.gcn import Agent as AgentGCN\n",
    "from rl_equation_solver.agent.lstm import Agent as AgentLSTM\n",
    "from rl_equation_solver.utilities import utilities\n",
    "from rl_equation_solver.utilities.utilities import GraphEmbedding\n",
    "import networkx as nx\n",
    "import numpy as np\n",
    "import matplotlib.pyplot as plt\n",
    "from rex import init_logger\n",
    "from sympy import symbols, sqrt, simplify, expand, nsimplify, parse_expr, sympify\n",
    "import sympy\n",
    "import cProfile, pstats, io\n",
    "from pstats import SortKey\n",
    "from rl_equation_solver.agent.a2c import Agent as AgentA2C"
   ]
  },
  {
   "cell_type": "code",
   "execution_count": 3,
   "id": "ae10142f",
   "metadata": {},
   "outputs": [
    {
     "data": {
      "text/plain": [
       "<Logger rl_equation_solver (INFO)>"
      ]
     },
     "execution_count": 3,
     "metadata": {},
     "output_type": "execute_result"
    }
   ],
   "source": [
    "init_logger(__name__, log_level=\"INFO\")\n",
    "init_logger(\"rl_equation_solver\", log_level=\"INFO\")"
   ]
  },
  {
   "cell_type": "code",
   "execution_count": 4,
   "id": "be013bcb",
   "metadata": {},
   "outputs": [],
   "source": [
    "# plot reward distribution\n",
    "def plot_reward_dist(env):\n",
    "    _, ax = plt.subplots(1, 1)\n",
    "    ax.hist(env.best_history[\"reward\"])\n",
    "    ax.set_ylabel(\"Count\")\n",
    "    ax.set_xlabel(\"Reward\")\n",
    "    plt.show()\n",
    "\n",
    "\n",
    "# plot complexity, loss, reward\n",
    "def plot_trends(env):\n",
    "    fig, axes = plt.subplots(2, 2, figsize=(10, 8))\n",
    "    ax = axes.flatten()\n",
    "    history = env.total_history\n",
    "    x = np.arange(len(history[\"ep\"]))\n",
    "\n",
    "    y = history[\"complexity\"]\n",
    "    a, b = np.polyfit(x, y, 1)\n",
    "    ax[0].scatter(x, y)\n",
    "    ax[0].plot(a * x + b, color=\"r\")\n",
    "\n",
    "    y = history[\"loss\"]\n",
    "    mask = np.array([i for i, v in enumerate(y) if not np.isnan(v)])\n",
    "    mask = slice(mask[0], mask[-1] + 1)\n",
    "    a, b = np.polyfit(x[mask], y[mask], 1)\n",
    "    ax[1].scatter(x[mask], y[mask])\n",
    "    ax[1].plot(x[mask], a * x[mask] + b, color=\"r\")\n",
    "\n",
    "    y = history[\"reward\"]\n",
    "    a, b = np.polyfit(x, y, 1)\n",
    "    ax[2].scatter(x, y)\n",
    "    ax[2].plot(a * x + b, color=\"r\")\n",
    "\n",
    "    y = history[\"loop_step\"]\n",
    "    a, b = np.polyfit(x, y, 1)\n",
    "    ax[3].scatter(x, y)\n",
    "    ax[3].plot(a * x + b, color=\"r\")\n",
    "\n",
    "    ax[0].set_title(\"Complexity\")\n",
    "    ax[1].set_title(\"Loss\")\n",
    "    ax[2].set_title(\"Reward\")\n",
    "    ax[3].set_title(\"Steps\")\n",
    "\n",
    "    plt.show()"
   ]
  },
  {
   "attachments": {},
   "cell_type": "markdown",
   "id": "f85f9cda",
   "metadata": {},
   "source": [
    "## Initialize Env and Agent ##\n",
    "### Agent can be AgentGCN, AgentLSTM, AgentDQN ###"
   ]
  },
  {
   "cell_type": "code",
   "execution_count": 5,
   "id": "15cbb9a6",
   "metadata": {},
   "outputs": [
    {
     "name": "stdout",
     "output_type": "stream",
     "text": [
      "INFO - 2023-04-25 07:16:03,155 [algebraic.py:110] : Initializing environment with order=2, |S| = 11 x 128 = 1408\n",
      "INFO - 2023-04-25 07:16:03,156 [algebraic.py:115] : Using reward function: diff_loss_reward.\n"
     ]
    }
   ],
   "source": [
    "env = Env(\n",
    "    order=2, config={\"reward_function\": \"diff_loss_reward\", \"fill_memory_steps\": 100}\n",
    ")"
   ]
  },
  {
   "cell_type": "code",
   "execution_count": 6,
   "id": "84e9ce65",
   "metadata": {},
   "outputs": [
    {
     "name": "stdout",
     "output_type": "stream",
     "text": [
      "INFO - 2023-04-24 18:11:04,432 [base.py:92] : Initialized Agent with config: {'batch_size': 32, 'gamma': 0.9, 'eps_start': 0.9, 'eps_end': 0.05, 'eps_decay_steps': 1000, 'eps_decay': None, 'epsilon_threshold': None, 'tau': 0.05, 'learning_rate': 0.0003, 'hidden_size': 64, 'memory_cap': 10000, 'fill_memory_steps': 100, 'reset_steps': 100, 'state_dim': 128, 'feature_num': 100, 'grad_clip': 10, 'reward_function': 'diff_loss_reward', 'max_solution_steps': 2000, 'device': 'cuda:0'}\n"
     ]
    }
   ],
   "source": [
    "agent = AgentA2C(env=env)  # , config={'tau': 0.05, 'eps_end': 0.05})"
   ]
  },
  {
   "attachments": {},
   "cell_type": "markdown",
   "id": "0f5a40c6",
   "metadata": {},
   "source": [
    "## Train Agent ##"
   ]
  },
  {
   "cell_type": "code",
   "execution_count": 16,
   "id": "17ec5b9b",
   "metadata": {},
   "outputs": [
    {
     "name": "stdout",
     "output_type": "stream",
     "text": [
      "INFO - 2023-04-24 20:07:40,195 [base.py:263] : Running training routine for 50 episodes in eval=False mode.\n"
     ]
    },
    {
     "name": "stderr",
     "output_type": "stream",
     "text": [
      "0it [00:00, ?it/s]c:\\users\\bbent\\repos\\rl-equation-solver\\rl_equation_solver\\agent\\base.py:719: UserWarning: To copy construct from a tensor, it is recommended to use sourceTensor.clone().detach() or sourceTensor.clone().detach().requires_grad_(True), rather than torch.tensor(sourceTensor).\n",
      "{'ep': '70  ', 'step': '40946', 'loop_step': '1186', 'complexity': '1.80e+01 ', 'loss': '-3.07e+00', 'reward': '-9.00e+00', 'previous_state': '0                   ', 'state': '-a1                 '}: : 0it [00:59, ?it/s]   "
     ]
    },
    {
     "name": "stdout",
     "output_type": "stream",
     "text": [
      "INFO - 2023-04-24 20:08:39,781 [algebraic.py:476] : {'ep': '70  ', 'step': '40947', 'loop_step': '1187', 'complexity': '0.00e+00 ', 'loss': 'nan      ', 'reward': '1.81e+01 ', 'previous_state': '-a1                 ', 'state': '-a1/a0              '}\n"
     ]
    },
    {
     "name": "stderr",
     "output_type": "stream",
     "text": [
      "{'ep': '71  ', 'step': '41455', 'loop_step': '507 ', 'complexity': '1.80e+01 ', 'loss': '-3.11e+00', 'reward': '-9.00e+00', 'previous_state': '0                   ', 'state': '-a1                 '}: : 1it [01:23, 59.59s/it]   "
     ]
    },
    {
     "name": "stdout",
     "output_type": "stream",
     "text": [
      "INFO - 2023-04-24 20:09:03,977 [algebraic.py:476] : {'ep': '71  ', 'step': '41456', 'loop_step': '508 ', 'complexity': '0.00e+00 ', 'loss': 'nan      ', 'reward': '1.82e+01 ', 'previous_state': '-a1                 ', 'state': '-a1/a0              '}\n"
     ]
    },
    {
     "name": "stderr",
     "output_type": "stream",
     "text": [
      "{'ep': '72  ', 'step': '41980', 'loop_step': '523 ', 'complexity': '1.80e+01 ', 'loss': '1.15e+02 ', 'reward': '6.00e+00 ', 'previous_state': '1 - a1              ', 'state': '-a1                 '}: : 2it [01:50, 38.77s/it]   "
     ]
    },
    {
     "name": "stdout",
     "output_type": "stream",
     "text": [
      "INFO - 2023-04-24 20:09:30,560 [algebraic.py:476] : {'ep': '72  ', 'step': '41981', 'loop_step': '524 ', 'complexity': '0.00e+00 ', 'loss': 'nan      ', 'reward': '1.82e+01 ', 'previous_state': '-a1                 ', 'state': '-a1/a0              '}\n"
     ]
    },
    {
     "name": "stderr",
     "output_type": "stream",
     "text": [
      "{'ep': '73  ', 'step': '42049', 'loop_step': '67  ', 'complexity': '1.80e+01 ', 'loss': '-2.99e+00', 'reward': '-9.00e+00', 'previous_state': '0                   ', 'state': '-a1                 '}: : 3it [01:53, 33.20s/it]"
     ]
    },
    {
     "name": "stdout",
     "output_type": "stream",
     "text": [
      "INFO - 2023-04-24 20:09:34,127 [algebraic.py:476] : {'ep': '73  ', 'step': '42050', 'loop_step': '68  ', 'complexity': '0.00e+00 ', 'loss': 'nan      ', 'reward': '1.94e+01 ', 'previous_state': '-a1                 ', 'state': '-a1/a0              '}\n"
     ]
    },
    {
     "name": "stderr",
     "output_type": "stream",
     "text": [
      "{'ep': '74  ', 'step': '42069', 'loop_step': '18  ', 'complexity': '1.80e+01 ', 'loss': '-3.11e+00', 'reward': '-9.00e+00', 'previous_state': '0                   ', 'state': '-a1                 '}: : 4it [01:54, 21.50s/it]"
     ]
    },
    {
     "name": "stdout",
     "output_type": "stream",
     "text": [
      "INFO - 2023-04-24 20:09:35,091 [algebraic.py:476] : {'ep': '74  ', 'step': '42070', 'loop_step': '19  ', 'complexity': '0.00e+00 ', 'loss': 'nan      ', 'reward': '2.30e+01 ', 'previous_state': '-a1                 ', 'state': '-a1/a0              '}\n"
     ]
    },
    {
     "name": "stderr",
     "output_type": "stream",
     "text": [
      "{'ep': '75  ', 'step': '43720', 'loop_step': '1649', 'complexity': '1.80e+01 ', 'loss': '-2.75e+00', 'reward': '-9.00e+00', 'previous_state': '0                   ', 'state': '-a1                 '}: : 5it [03:18, 14.10s/it]     "
     ]
    },
    {
     "name": "stdout",
     "output_type": "stream",
     "text": [
      "INFO - 2023-04-24 20:10:58,224 [algebraic.py:476] : {'ep': '75  ', 'step': '43721', 'loop_step': '1650', 'complexity': '0.00e+00 ', 'loss': 'nan      ', 'reward': '1.81e+01 ', 'previous_state': '-a1                 ', 'state': '-a1/a0              '}\n"
     ]
    },
    {
     "name": "stderr",
     "output_type": "stream",
     "text": [
      "{'ep': '76  ', 'step': '44769', 'loop_step': '1047', 'complexity': '1.80e+01 ', 'loss': '-2.88e+00', 'reward': '-9.00e+00', 'previous_state': '0                   ', 'state': '-a1                 '}: : 6it [04:12, 37.57s/it] "
     ]
    },
    {
     "name": "stdout",
     "output_type": "stream",
     "text": [
      "INFO - 2023-04-24 20:11:52,575 [algebraic.py:476] : {'ep': '76  ', 'step': '44770', 'loop_step': '1048', 'complexity': '0.00e+00 ', 'loss': 'nan      ', 'reward': '1.81e+01 ', 'previous_state': '-a1                 ', 'state': '-a1/a0              '}\n"
     ]
    },
    {
     "name": "stderr",
     "output_type": "stream",
     "text": [
      "{'ep': '77  ', 'step': '45013', 'loop_step': '242 ', 'complexity': '1.80e+01 ', 'loss': '-3.10e+00', 'reward': '-9.00e+00', 'previous_state': '0                   ', 'state': '-a1                 '}: : 7it [04:23, 43.06s/it]   "
     ]
    },
    {
     "name": "stdout",
     "output_type": "stream",
     "text": [
      "INFO - 2023-04-24 20:12:04,035 [algebraic.py:476] : {'ep': '77  ', 'step': '45014', 'loop_step': '243 ', 'complexity': '0.00e+00 ', 'loss': 'nan      ', 'reward': '1.84e+01 ', 'previous_state': '-a1                 ', 'state': '-a1/a0              '}\n"
     ]
    },
    {
     "name": "stderr",
     "output_type": "stream",
     "text": [
      "{'ep': '78  ', 'step': '45270', 'loop_step': '255 ', 'complexity': '1.80e+01 ', 'loss': '1.43e+02 ', 'reward': '8.00e+00 ', 'previous_state': '-a1 - 1             ', 'state': '-a1                 '}: : 8it [04:35, 33.00s/it]"
     ]
    },
    {
     "name": "stdout",
     "output_type": "stream",
     "text": [
      "INFO - 2023-04-24 20:12:15,779 [algebraic.py:476] : {'ep': '78  ', 'step': '45271', 'loop_step': '256 ', 'complexity': '0.00e+00 ', 'loss': 'nan      ', 'reward': '1.84e+01 ', 'previous_state': '-a1                 ', 'state': '-a1/a0              '}\n"
     ]
    },
    {
     "name": "stderr",
     "output_type": "stream",
     "text": [
      "{'ep': '79  ', 'step': '46067', 'loop_step': '795 ', 'complexity': '1.80e+01 ', 'loss': '-2.18e+00', 'reward': '-9.00e+00', 'previous_state': '0                   ', 'state': '-a1                 '}: : 9it [05:14, 26.35s/it]  "
     ]
    },
    {
     "name": "stdout",
     "output_type": "stream",
     "text": [
      "INFO - 2023-04-24 20:12:54,602 [algebraic.py:476] : {'ep': '79  ', 'step': '46068', 'loop_step': '796 ', 'complexity': '0.00e+00 ', 'loss': 'nan      ', 'reward': '1.81e+01 ', 'previous_state': '-a1                 ', 'state': '-a1/a0              '}\n"
     ]
    },
    {
     "name": "stderr",
     "output_type": "stream",
     "text": [
      "{'ep': '80  ', 'step': '46156', 'loop_step': '87  ', 'complexity': '1.80e+01 ', 'loss': '-3.03e+00', 'reward': '-9.00e+00', 'previous_state': '0                   ', 'state': '-a1                 '}: : 10it [05:18, 30.20s/it]"
     ]
    },
    {
     "name": "stdout",
     "output_type": "stream",
     "text": [
      "INFO - 2023-04-24 20:12:59,025 [algebraic.py:476] : {'ep': '80  ', 'step': '46157', 'loop_step': '88  ', 'complexity': '0.00e+00 ', 'loss': 'nan      ', 'reward': '1.91e+01 ', 'previous_state': '-a1                 ', 'state': '-a1/a0              '}\n"
     ]
    },
    {
     "name": "stderr",
     "output_type": "stream",
     "text": [
      "{'ep': '81  ', 'step': '47417', 'loop_step': '1259', 'complexity': '1.80e+01 ', 'loss': '-3.02e+00', 'reward': '-9.00e+00', 'previous_state': '0                   ', 'state': '-a1                 '}: : 11it [06:20, 22.31s/it]   "
     ]
    },
    {
     "name": "stdout",
     "output_type": "stream",
     "text": [
      "INFO - 2023-04-24 20:14:01,143 [algebraic.py:476] : {'ep': '81  ', 'step': '47418', 'loop_step': '1260', 'complexity': '0.00e+00 ', 'loss': 'nan      ', 'reward': '1.81e+01 ', 'previous_state': '-a1                 ', 'state': '-a1/a0              '}\n"
     ]
    },
    {
     "name": "stderr",
     "output_type": "stream",
     "text": [
      "{'ep': '82  ', 'step': '47419', 'loop_step': '0   ', 'complexity': '1.80e+01 ', 'loss': '-3.04e+00', 'reward': '-9.00e+00', 'previous_state': '0                   ', 'state': '-a1                 '}: : 12it [06:20, 34.42s/it]"
     ]
    },
    {
     "name": "stdout",
     "output_type": "stream",
     "text": [
      "INFO - 2023-04-24 20:14:01,207 [algebraic.py:476] : {'ep': '82  ', 'step': '47420', 'loop_step': '1   ', 'complexity': '0.00e+00 ', 'loss': 'nan      ', 'reward': '6.80e+01 ', 'previous_state': '-a1                 ', 'state': '-a1/a0              '}\n"
     ]
    },
    {
     "name": "stderr",
     "output_type": "stream",
     "text": [
      "{'ep': '83  ', 'step': '47723', 'loop_step': '302 ', 'complexity': '1.80e+01 ', 'loss': '-3.01e+00', 'reward': '-9.00e+00', 'previous_state': '0                   ', 'state': '-a1                 '}: : 13it [06:35, 34.42s/it] "
     ]
    },
    {
     "name": "stdout",
     "output_type": "stream",
     "text": [
      "INFO - 2023-04-24 20:14:15,858 [algebraic.py:476] : {'ep': '83  ', 'step': '47724', 'loop_step': '303 ', 'complexity': '0.00e+00 ', 'loss': 'nan      ', 'reward': '1.83e+01 ', 'previous_state': '-a1                 ', 'state': '-a1/a0              '}\n"
     ]
    },
    {
     "name": "stderr",
     "output_type": "stream",
     "text": [
      "{'ep': '84  ', 'step': '47907', 'loop_step': '182 ', 'complexity': '1.80e+01 ', 'loss': '-3.02e+00', 'reward': '-9.00e+00', 'previous_state': '0                   ', 'state': '-a1                 '}: : 14it [06:44, 21.84s/it]"
     ]
    },
    {
     "name": "stdout",
     "output_type": "stream",
     "text": [
      "INFO - 2023-04-24 20:14:24,335 [algebraic.py:476] : {'ep': '84  ', 'step': '47908', 'loop_step': '183 ', 'complexity': '0.00e+00 ', 'loss': 'nan      ', 'reward': '1.85e+01 ', 'previous_state': '-a1                 ', 'state': '-a1/a0              '}\n"
     ]
    },
    {
     "name": "stderr",
     "output_type": "stream",
     "text": [
      "{'ep': '85  ', 'step': '47947', 'loop_step': '38  ', 'complexity': '1.80e+01 ', 'loss': '-3.05e+00', 'reward': '-9.00e+00', 'previous_state': '0                   ', 'state': '-a1                 '}: : 15it [06:45, 18.51s/it]"
     ]
    },
    {
     "name": "stdout",
     "output_type": "stream",
     "text": [
      "INFO - 2023-04-24 20:14:26,142 [algebraic.py:476] : {'ep': '85  ', 'step': '47948', 'loop_step': '39  ', 'complexity': '0.00e+00 ', 'loss': 'nan      ', 'reward': '2.05e+01 ', 'previous_state': '-a1                 ', 'state': '-a1/a0              '}\n"
     ]
    },
    {
     "name": "stderr",
     "output_type": "stream",
     "text": [
      "{'ep': '86  ', 'step': '48513', 'loop_step': '564 ', 'complexity': '1.80e+01 ', 'loss': '-3.11e+00', 'reward': '-9.00e+00', 'previous_state': '0                   ', 'state': '-a1                 '}: : 16it [07:12, 14.12s/it]  "
     ]
    },
    {
     "name": "stdout",
     "output_type": "stream",
     "text": [
      "INFO - 2023-04-24 20:14:52,777 [algebraic.py:476] : {'ep': '86  ', 'step': '48514', 'loop_step': '565 ', 'complexity': '0.00e+00 ', 'loss': 'nan      ', 'reward': '1.82e+01 ', 'previous_state': '-a1                 ', 'state': '-a1/a0              '}\n"
     ]
    },
    {
     "name": "stderr",
     "output_type": "stream",
     "text": [
      "{'ep': '87  ', 'step': '48631', 'loop_step': '116 ', 'complexity': '1.80e+01 ', 'loss': '-3.03e+00', 'reward': '-9.00e+00', 'previous_state': '0                   ', 'state': '-a1                 '}: : 17it [07:18, 17.53s/it]  "
     ]
    },
    {
     "name": "stdout",
     "output_type": "stream",
     "text": [
      "INFO - 2023-04-24 20:14:58,327 [algebraic.py:476] : {'ep': '87  ', 'step': '48632', 'loop_step': '117 ', 'complexity': '0.00e+00 ', 'loss': 'nan      ', 'reward': '1.88e+01 ', 'previous_state': '-a1                 ', 'state': '-a1/a0              '}\n"
     ]
    },
    {
     "name": "stderr",
     "output_type": "stream",
     "text": [
      "{'ep': '88  ', 'step': '48636', 'loop_step': '3   ', 'complexity': '1.80e+01 ', 'loss': '-3.08e+00', 'reward': '-9.00e+00', 'previous_state': '0                   ', 'state': '-a1                 '}: : 18it [07:18, 14.17s/it]"
     ]
    },
    {
     "name": "stdout",
     "output_type": "stream",
     "text": [
      "INFO - 2023-04-24 20:14:58,492 [algebraic.py:476] : {'ep': '88  ', 'step': '48637', 'loop_step': '4   ', 'complexity': '0.00e+00 ', 'loss': 'nan      ', 'reward': '3.80e+01 ', 'previous_state': '-a1                 ', 'state': '-a1/a0              '}\n"
     ]
    },
    {
     "name": "stderr",
     "output_type": "stream",
     "text": [
      "{'ep': '89  ', 'step': '49241', 'loop_step': '603 ', 'complexity': '1.80e+01 ', 'loss': '-3.08e+00', 'reward': '-9.00e+00', 'previous_state': '0                   ', 'state': '-a1                 '}: : 19it [07:46, 10.17s/it]  "
     ]
    },
    {
     "name": "stdout",
     "output_type": "stream",
     "text": [
      "INFO - 2023-04-24 20:15:26,868 [algebraic.py:476] : {'ep': '89  ', 'step': '49242', 'loop_step': '604 ', 'complexity': '0.00e+00 ', 'loss': 'nan      ', 'reward': '1.82e+01 ', 'previous_state': '-a1                 ', 'state': '-a1/a0              '}\n"
     ]
    },
    {
     "name": "stderr",
     "output_type": "stream",
     "text": [
      "{'ep': '90  ', 'step': '49382', 'loop_step': '139 ', 'complexity': '1.80e+01 ', 'loss': '-2.95e+00', 'reward': '-9.00e+00', 'previous_state': '0                   ', 'state': '-a1                 '}: : 20it [07:53, 15.45s/it]"
     ]
    },
    {
     "name": "stdout",
     "output_type": "stream",
     "text": [
      "INFO - 2023-04-24 20:15:33,489 [algebraic.py:476] : {'ep': '90  ', 'step': '49383', 'loop_step': '140 ', 'complexity': '0.00e+00 ', 'loss': 'nan      ', 'reward': '1.87e+01 ', 'previous_state': '-a1                 ', 'state': '-a1/a0              '}\n"
     ]
    },
    {
     "name": "stderr",
     "output_type": "stream",
     "text": [
      "{'ep': '91  ', 'step': '49597', 'loop_step': '213 ', 'complexity': '1.80e+01 ', 'loss': '-3.11e+00', 'reward': '-9.00e+00', 'previous_state': '0                   ', 'state': '-a1                 '}: : 21it [08:03, 12.86s/it]"
     ]
    },
    {
     "name": "stdout",
     "output_type": "stream",
     "text": [
      "INFO - 2023-04-24 20:15:43,897 [algebraic.py:476] : {'ep': '91  ', 'step': '49598', 'loop_step': '214 ', 'complexity': '0.00e+00 ', 'loss': 'nan      ', 'reward': '1.85e+01 ', 'previous_state': '-a1                 ', 'state': '-a1/a0              '}\n"
     ]
    },
    {
     "name": "stderr",
     "output_type": "stream",
     "text": [
      "{'ep': '92  ', 'step': '49724', 'loop_step': '125 ', 'complexity': '1.80e+01 ', 'loss': '-2.85e+00', 'reward': '-9.00e+00', 'previous_state': '0                   ', 'state': '-a1                 '}: : 22it [08:09, 12.14s/it]  "
     ]
    },
    {
     "name": "stdout",
     "output_type": "stream",
     "text": [
      "INFO - 2023-04-24 20:15:49,977 [algebraic.py:476] : {'ep': '92  ', 'step': '49725', 'loop_step': '126 ', 'complexity': '0.00e+00 ', 'loss': 'nan      ', 'reward': '1.88e+01 ', 'previous_state': '-a1                 ', 'state': '-a1/a0              '}\n"
     ]
    },
    {
     "name": "stderr",
     "output_type": "stream",
     "text": [
      "{'ep': '93  ', 'step': '49798', 'loop_step': '72  ', 'complexity': '1.80e+01 ', 'loss': '-3.09e+00', 'reward': '-9.00e+00', 'previous_state': '0                   ', 'state': '-a1                 '}: : 23it [08:13, 10.34s/it]"
     ]
    },
    {
     "name": "stdout",
     "output_type": "stream",
     "text": [
      "INFO - 2023-04-24 20:15:53,329 [algebraic.py:476] : {'ep': '93  ', 'step': '49799', 'loop_step': '73  ', 'complexity': '0.00e+00 ', 'loss': 'nan      ', 'reward': '1.94e+01 ', 'previous_state': '-a1                 ', 'state': '-a1/a0              '}\n"
     ]
    },
    {
     "name": "stderr",
     "output_type": "stream",
     "text": [
      "{'ep': '94  ', 'step': '50056', 'loop_step': '256 ', 'complexity': '1.80e+01 ', 'loss': '-2.97e+00', 'reward': '-9.00e+00', 'previous_state': '0                   ', 'state': '-a1                 '}: : 24it [08:24,  8.26s/it]   "
     ]
    },
    {
     "name": "stdout",
     "output_type": "stream",
     "text": [
      "INFO - 2023-04-24 20:16:05,202 [algebraic.py:476] : {'ep': '94  ', 'step': '50057', 'loop_step': '257 ', 'complexity': '0.00e+00 ', 'loss': 'nan      ', 'reward': '1.84e+01 ', 'previous_state': '-a1                 ', 'state': '-a1/a0              '}\n"
     ]
    },
    {
     "name": "stderr",
     "output_type": "stream",
     "text": [
      "{'ep': '95  ', 'step': '51006', 'loop_step': '948 ', 'complexity': '1.80e+01 ', 'loss': '-2.96e+00', 'reward': '-9.00e+00', 'previous_state': '0                   ', 'state': '-a1                 '}: : 25it [09:08,  9.34s/it]  "
     ]
    },
    {
     "name": "stdout",
     "output_type": "stream",
     "text": [
      "INFO - 2023-04-24 20:16:48,645 [algebraic.py:476] : {'ep': '95  ', 'step': '51007', 'loop_step': '949 ', 'complexity': '0.00e+00 ', 'loss': 'nan      ', 'reward': '1.81e+01 ', 'previous_state': '-a1                 ', 'state': '-a1/a0              '}\n"
     ]
    },
    {
     "name": "stderr",
     "output_type": "stream",
     "text": [
      "{'ep': '96  ', 'step': '51055', 'loop_step': '47  ', 'complexity': '1.80e+01 ', 'loss': '-2.77e+00', 'reward': '-9.00e+00', 'previous_state': '0                   ', 'state': '-a1                 '}: : 26it [09:10, 19.53s/it]"
     ]
    },
    {
     "name": "stdout",
     "output_type": "stream",
     "text": [
      "INFO - 2023-04-24 20:16:50,978 [algebraic.py:476] : {'ep': '96  ', 'step': '51056', 'loop_step': '48  ', 'complexity': '0.00e+00 ', 'loss': 'nan      ', 'reward': '2.00e+01 ', 'previous_state': '-a1                 ', 'state': '-a1/a0              '}\n"
     ]
    },
    {
     "name": "stderr",
     "output_type": "stream",
     "text": [
      "{'ep': '97  ', 'step': '51506', 'loop_step': '449 ', 'complexity': '1.80e+01 ', 'loss': '-2.88e+00', 'reward': '-9.00e+00', 'previous_state': '0                   ', 'state': '-a1                 '}: : 27it [09:31, 14.39s/it]  "
     ]
    },
    {
     "name": "stdout",
     "output_type": "stream",
     "text": [
      "INFO - 2023-04-24 20:17:11,734 [algebraic.py:476] : {'ep': '97  ', 'step': '51507', 'loop_step': '450 ', 'complexity': '0.00e+00 ', 'loss': 'nan      ', 'reward': '1.82e+01 ', 'previous_state': '-a1                 ', 'state': '-a1/a0              '}\n"
     ]
    },
    {
     "name": "stderr",
     "output_type": "stream",
     "text": [
      "{'ep': '98  ', 'step': '52109', 'loop_step': '601 ', 'complexity': '1.80e+01 ', 'loss': '-3.08e+00', 'reward': '-9.00e+00', 'previous_state': '0                   ', 'state': '-a1                 '}: : 28it [09:59, 16.29s/it]  "
     ]
    },
    {
     "name": "stdout",
     "output_type": "stream",
     "text": [
      "INFO - 2023-04-24 20:17:40,034 [algebraic.py:476] : {'ep': '98  ', 'step': '52110', 'loop_step': '602 ', 'complexity': '0.00e+00 ', 'loss': 'nan      ', 'reward': '1.82e+01 ', 'previous_state': '-a1                 ', 'state': '-a1/a0              '}\n"
     ]
    },
    {
     "name": "stderr",
     "output_type": "stream",
     "text": [
      "{'ep': '99  ', 'step': '53489', 'loop_step': '1378', 'complexity': '1.80e+01 ', 'loss': '-2.84e+00', 'reward': '-9.00e+00', 'previous_state': '0                   ', 'state': '-a1                 '}: : 29it [11:03, 19.89s/it] "
     ]
    },
    {
     "name": "stdout",
     "output_type": "stream",
     "text": [
      "INFO - 2023-04-24 20:18:43,913 [algebraic.py:476] : {'ep': '99  ', 'step': '53490', 'loop_step': '1379', 'complexity': '0.00e+00 ', 'loss': 'nan      ', 'reward': '1.81e+01 ', 'previous_state': '-a1                 ', 'state': '-a1/a0              '}\n"
     ]
    },
    {
     "name": "stderr",
     "output_type": "stream",
     "text": [
      "{'ep': '100 ', 'step': '54770', 'loop_step': '1279', 'complexity': '1.80e+01 ', 'loss': '-2.45e+00', 'reward': '-9.00e+00', 'previous_state': '0                   ', 'state': '-a1                 '}: : 30it [12:01, 33.07s/it]  "
     ]
    },
    {
     "name": "stdout",
     "output_type": "stream",
     "text": [
      "INFO - 2023-04-24 20:19:41,479 [algebraic.py:476] : {'ep': '100 ', 'step': '54771', 'loop_step': '1280', 'complexity': '0.00e+00 ', 'loss': 'nan      ', 'reward': '1.81e+01 ', 'previous_state': '-a1                 ', 'state': '-a1/a0              '}\n"
     ]
    },
    {
     "name": "stderr",
     "output_type": "stream",
     "text": [
      "{'ep': '101 ', 'step': '55119', 'loop_step': '347 ', 'complexity': '1.80e+01 ', 'loss': '-2.56e+00', 'reward': '-9.00e+00', 'previous_state': '0                   ', 'state': '-a1                 '}: : 31it [12:18, 40.42s/it] "
     ]
    },
    {
     "name": "stdout",
     "output_type": "stream",
     "text": [
      "INFO - 2023-04-24 20:19:58,326 [algebraic.py:476] : {'ep': '101 ', 'step': '55120', 'loop_step': '348 ', 'complexity': '0.00e+00 ', 'loss': 'nan      ', 'reward': '1.83e+01 ', 'previous_state': '-a1                 ', 'state': '-a1/a0              '}\n"
     ]
    },
    {
     "name": "stderr",
     "output_type": "stream",
     "text": [
      "{'ep': '102 ', 'step': '55385', 'loop_step': '264 ', 'complexity': '1.80e+01 ', 'loss': '1.52e+02 ', 'reward': '8.00e+00 ', 'previous_state': 'a0 - a1             ', 'state': '-a1                 '}: : 32it [12:30, 33.35s/it] "
     ]
    },
    {
     "name": "stdout",
     "output_type": "stream",
     "text": [
      "INFO - 2023-04-24 20:20:11,163 [algebraic.py:476] : {'ep': '102 ', 'step': '55386', 'loop_step': '265 ', 'complexity': '0.00e+00 ', 'loss': 'nan      ', 'reward': '1.84e+01 ', 'previous_state': '-a1                 ', 'state': '-a1/a0              '}\n"
     ]
    },
    {
     "name": "stderr",
     "output_type": "stream",
     "text": [
      "{'ep': '103 ', 'step': '55912', 'loop_step': '525 ', 'complexity': '1.80e+01 ', 'loss': '-2.26e+00', 'reward': '-9.00e+00', 'previous_state': '0                   ', 'state': '-a1                 '}: : 33it [12:55, 27.20s/it]   "
     ]
    },
    {
     "name": "stdout",
     "output_type": "stream",
     "text": [
      "INFO - 2023-04-24 20:20:36,196 [algebraic.py:476] : {'ep': '103 ', 'step': '55913', 'loop_step': '526 ', 'complexity': '0.00e+00 ', 'loss': 'nan      ', 'reward': '1.82e+01 ', 'previous_state': '-a1                 ', 'state': '-a1/a0              '}\n"
     ]
    },
    {
     "name": "stderr",
     "output_type": "stream",
     "text": [
      "{'ep': '104 ', 'step': '56441', 'loop_step': '527 ', 'complexity': '1.80e+01 ', 'loss': '1.51e+02 ', 'reward': '8.00e+00 ', 'previous_state': '-a1 - 1             ', 'state': '-a1                 '}: : 34it [13:20, 26.55s/it]  "
     ]
    },
    {
     "name": "stdout",
     "output_type": "stream",
     "text": [
      "INFO - 2023-04-24 20:21:01,004 [algebraic.py:476] : {'ep': '104 ', 'step': '56442', 'loop_step': '528 ', 'complexity': '0.00e+00 ', 'loss': 'nan      ', 'reward': '1.82e+01 ', 'previous_state': '-a1                 ', 'state': '-a1/a0              '}\n"
     ]
    },
    {
     "name": "stderr",
     "output_type": "stream",
     "text": [
      "{'ep': '105 ', 'step': '56833', 'loop_step': '390 ', 'complexity': '1.80e+01 ', 'loss': '-3.08e+00', 'reward': '-9.00e+00', 'previous_state': '0                   ', 'state': '-a1                 '}: : 35it [13:39, 26.02s/it]"
     ]
    },
    {
     "name": "stdout",
     "output_type": "stream",
     "text": [
      "INFO - 2023-04-24 20:21:19,774 [algebraic.py:476] : {'ep': '105 ', 'step': '56834', 'loop_step': '391 ', 'complexity': '0.00e+00 ', 'loss': 'nan      ', 'reward': '1.83e+01 ', 'previous_state': '-a1                 ', 'state': '-a1/a0              '}\n"
     ]
    },
    {
     "name": "stderr",
     "output_type": "stream",
     "text": [
      "{'ep': '106 ', 'step': '57858', 'loop_step': '1023', 'complexity': '1.80e+01 ', 'loss': '-2.44e+00', 'reward': '-9.00e+00', 'previous_state': '0                   ', 'state': '-a1                 '}: : 36it [14:27, 23.85s/it]   "
     ]
    },
    {
     "name": "stdout",
     "output_type": "stream",
     "text": [
      "INFO - 2023-04-24 20:22:07,728 [algebraic.py:476] : {'ep': '106 ', 'step': '57859', 'loop_step': '1024', 'complexity': '0.00e+00 ', 'loss': 'nan      ', 'reward': '1.81e+01 ', 'previous_state': '-a1                 ', 'state': '-a1/a0              '}\n"
     ]
    },
    {
     "name": "stderr",
     "output_type": "stream",
     "text": [
      "{'ep': '107 ', 'step': '58936', 'loop_step': '1076', 'complexity': '1.80e+01 ', 'loss': '-2.43e+00', 'reward': '-9.00e+00', 'previous_state': '0                   ', 'state': '-a1                 '}: : 37it [15:16, 31.08s/it] "
     ]
    },
    {
     "name": "stdout",
     "output_type": "stream",
     "text": [
      "INFO - 2023-04-24 20:22:56,860 [algebraic.py:476] : {'ep': '107 ', 'step': '58937', 'loop_step': '1077', 'complexity': '0.00e+00 ', 'loss': 'nan      ', 'reward': '1.81e+01 ', 'previous_state': '-a1                 ', 'state': '-a1/a0              '}\n"
     ]
    },
    {
     "name": "stderr",
     "output_type": "stream",
     "text": [
      "{'ep': '108 ', 'step': '59448', 'loop_step': '510 ', 'complexity': '1.80e+01 ', 'loss': '1.56e+02 ', 'reward': '8.00e+00 ', 'previous_state': '-a1 - 1             ', 'state': '-a1                 '}: : 38it [15:39, 36.49s/it]  "
     ]
    },
    {
     "name": "stdout",
     "output_type": "stream",
     "text": [
      "INFO - 2023-04-24 20:23:19,892 [algebraic.py:476] : {'ep': '108 ', 'step': '59449', 'loop_step': '511 ', 'complexity': '0.00e+00 ', 'loss': 'nan      ', 'reward': '1.82e+01 ', 'previous_state': '-a1                 ', 'state': '-a1/a0              '}\n"
     ]
    },
    {
     "name": "stderr",
     "output_type": "stream",
     "text": [
      "{'ep': '109 ', 'step': '59890', 'loop_step': '440 ', 'complexity': '1.80e+01 ', 'loss': '-3.01e+00', 'reward': '-9.00e+00', 'previous_state': '0                   ', 'state': '-a1                 '}: : 39it [15:59, 32.46s/it]   "
     ]
    },
    {
     "name": "stdout",
     "output_type": "stream",
     "text": [
      "INFO - 2023-04-24 20:23:40,095 [algebraic.py:476] : {'ep': '109 ', 'step': '59891', 'loop_step': '441 ', 'complexity': '0.00e+00 ', 'loss': 'nan      ', 'reward': '1.82e+01 ', 'previous_state': '-a1                 ', 'state': '-a1/a0              '}\n"
     ]
    },
    {
     "name": "stderr",
     "output_type": "stream",
     "text": [
      "{'ep': '110 ', 'step': '59917', 'loop_step': '25  ', 'complexity': '1.80e+01 ', 'loss': '-3.11e+00', 'reward': '-9.00e+00', 'previous_state': '0                   ', 'state': '-a1                 '}: : 40it [16:00, 28.78s/it]"
     ]
    },
    {
     "name": "stdout",
     "output_type": "stream",
     "text": [
      "INFO - 2023-04-24 20:23:41,190 [algebraic.py:476] : {'ep': '110 ', 'step': '59918', 'loop_step': '26  ', 'complexity': '0.00e+00 ', 'loss': 'nan      ', 'reward': '2.17e+01 ', 'previous_state': '-a1                 ', 'state': '-a1/a0              '}\n"
     ]
    },
    {
     "name": "stderr",
     "output_type": "stream",
     "text": [
      "{'ep': '111 ', 'step': '61226', 'loop_step': '1307', 'complexity': '1.80e+01 ', 'loss': '-2.58e+00', 'reward': '-9.00e+00', 'previous_state': '0                   ', 'state': '-a1                 '}: : 41it [17:00, 20.47s/it] "
     ]
    },
    {
     "name": "stdout",
     "output_type": "stream",
     "text": [
      "INFO - 2023-04-24 20:24:40,738 [algebraic.py:476] : {'ep': '111 ', 'step': '61227', 'loop_step': '1308', 'complexity': '0.00e+00 ', 'loss': 'nan      ', 'reward': '1.81e+01 ', 'previous_state': '-a1                 ', 'state': '-a1/a0              '}\n"
     ]
    },
    {
     "name": "stderr",
     "output_type": "stream",
     "text": [
      "{'ep': '112 ', 'step': '62810', 'loop_step': '1582', 'complexity': '1.80e+01 ', 'loss': '-2.79e+00', 'reward': '-9.00e+00', 'previous_state': '0                   ', 'state': '-a1                 '}: : 42it [18:15, 32.20s/it]   "
     ]
    },
    {
     "name": "stdout",
     "output_type": "stream",
     "text": [
      "INFO - 2023-04-24 20:25:55,918 [algebraic.py:476] : {'ep': '112 ', 'step': '62811', 'loop_step': '1583', 'complexity': '0.00e+00 ', 'loss': 'nan      ', 'reward': '1.81e+01 ', 'previous_state': '-a1                 ', 'state': '-a1/a0              '}\n"
     ]
    },
    {
     "name": "stderr",
     "output_type": "stream",
     "text": [
      "{'ep': '113 ', 'step': '63459', 'loop_step': '647 ', 'complexity': '1.80e+01 ', 'loss': '-3.10e+00', 'reward': '-9.00e+00', 'previous_state': '0                   ', 'state': '-a1                 '}: : 43it [18:45, 45.09s/it]  "
     ]
    },
    {
     "name": "stdout",
     "output_type": "stream",
     "text": [
      "INFO - 2023-04-24 20:26:26,027 [algebraic.py:476] : {'ep': '113 ', 'step': '63460', 'loop_step': '648 ', 'complexity': '0.00e+00 ', 'loss': 'nan      ', 'reward': '1.82e+01 ', 'previous_state': '-a1                 ', 'state': '-a1/a0              '}\n"
     ]
    },
    {
     "name": "stderr",
     "output_type": "stream",
     "text": [
      "{'ep': '114 ', 'step': '65461', 'loop_step': '2000', 'complexity': '1.30e+01 ', 'loss': '-3.10e+00', 'reward': '-4.00e+00', 'previous_state': '0                   ', 'state': '0**a0               '}: : 44it [20:18, 40.60s/it]   "
     ]
    },
    {
     "name": "stdout",
     "output_type": "stream",
     "text": [
      "INFO - 2023-04-24 20:27:58,992 [algebraic.py:486] : loop_step 2001 exceeded max 2000\n",
      "INFO - 2023-04-24 20:27:58,994 [algebraic.py:476] : {'ep': '114 ', 'step': '65462', 'loop_step': '2001', 'complexity': '9.00e+00 ', 'loss': 'nan      ', 'reward': '4.00e+00 ', 'previous_state': '0**a0               ', 'state': '0**a0/a0            '}\n"
     ]
    },
    {
     "name": "stderr",
     "output_type": "stream",
     "text": [
      "{'ep': '115 ', 'step': '65652', 'loop_step': '189 ', 'complexity': '1.80e+01 ', 'loss': '-3.11e+00', 'reward': '-9.00e+00', 'previous_state': '0                   ', 'state': '-a1                 '}: : 45it [20:27, 56.31s/it] "
     ]
    },
    {
     "name": "stdout",
     "output_type": "stream",
     "text": [
      "INFO - 2023-04-24 20:28:07,935 [algebraic.py:476] : {'ep': '115 ', 'step': '65653', 'loop_step': '190 ', 'complexity': '0.00e+00 ', 'loss': 'nan      ', 'reward': '1.85e+01 ', 'previous_state': '-a1                 ', 'state': '-a1/a0              '}\n"
     ]
    },
    {
     "name": "stderr",
     "output_type": "stream",
     "text": [
      "{'ep': '116 ', 'step': '65781', 'loop_step': '127 ', 'complexity': '1.80e+01 ', 'loss': '-2.62e+00', 'reward': '-9.00e+00', 'previous_state': '0                   ', 'state': '-a1                 '}: : 46it [20:33, 42.10s/it]"
     ]
    },
    {
     "name": "stdout",
     "output_type": "stream",
     "text": [
      "INFO - 2023-04-24 20:28:13,942 [algebraic.py:476] : {'ep': '116 ', 'step': '65782', 'loop_step': '128 ', 'complexity': '0.00e+00 ', 'loss': 'nan      ', 'reward': '1.88e+01 ', 'previous_state': '-a1                 ', 'state': '-a1/a0              '}\n"
     ]
    },
    {
     "name": "stderr",
     "output_type": "stream",
     "text": [
      "{'ep': '117 ', 'step': '65851', 'loop_step': '68  ', 'complexity': '1.80e+01 ', 'loss': '-2.34e+00', 'reward': '-9.00e+00', 'previous_state': '0                   ', 'state': '-a1                 '}: : 47it [20:37, 31.27s/it]"
     ]
    },
    {
     "name": "stdout",
     "output_type": "stream",
     "text": [
      "INFO - 2023-04-24 20:28:17,259 [algebraic.py:476] : {'ep': '117 ', 'step': '65852', 'loop_step': '69  ', 'complexity': '0.00e+00 ', 'loss': 'nan      ', 'reward': '1.94e+01 ', 'previous_state': '-a1                 ', 'state': '-a1/a0              '}\n"
     ]
    },
    {
     "name": "stderr",
     "output_type": "stream",
     "text": [
      "{'ep': '118 ', 'step': '66326', 'loop_step': '473 ', 'complexity': '1.80e+01 ', 'loss': '-2.99e+00', 'reward': '-9.00e+00', 'previous_state': '0                   ', 'state': '-a1                 '}: : 48it [20:59, 22.88s/it]  "
     ]
    },
    {
     "name": "stdout",
     "output_type": "stream",
     "text": [
      "INFO - 2023-04-24 20:28:39,423 [algebraic.py:476] : {'ep': '118 ', 'step': '66327', 'loop_step': '474 ', 'complexity': '0.00e+00 ', 'loss': 'nan      ', 'reward': '1.82e+01 ', 'previous_state': '-a1                 ', 'state': '-a1/a0              '}\n"
     ]
    },
    {
     "name": "stderr",
     "output_type": "stream",
     "text": [
      "{'ep': '119 ', 'step': '66345', 'loop_step': '17  ', 'complexity': '1.80e+01 ', 'loss': '-3.11e+00', 'reward': '-9.00e+00', 'previous_state': '0                   ', 'state': '-a1                 '}: : 49it [21:00, 22.67s/it]"
     ]
    },
    {
     "name": "stdout",
     "output_type": "stream",
     "text": [
      "INFO - 2023-04-24 20:28:40,257 [algebraic.py:476] : {'ep': '119 ', 'step': '66346', 'loop_step': '18  ', 'complexity': '0.00e+00 ', 'loss': 'nan      ', 'reward': '2.33e+01 ', 'previous_state': '-a1                 ', 'state': '-a1/a0              '}\n"
     ]
    },
    {
     "name": "stderr",
     "output_type": "stream",
     "text": [
      "{'ep': '119 ', 'step': '66346', 'loop_step': '18  ', 'complexity': '0.00e+00 ', 'loss': '1.67e+03 ', 'reward': '2.33e+01 ', 'previous_state': '-a1                 ', 'state': '-a1/a0              '}: : 50it [21:00, 25.20s/it]\n"
     ]
    }
   ],
   "source": [
    "for _ in range(1):\n",
    "    agent.train(50)"
   ]
  },
  {
   "attachments": {},
   "cell_type": "markdown",
   "id": "79e9b973",
   "metadata": {},
   "source": [
    "## Plot Reward Distribution ##"
   ]
  },
  {
   "cell_type": "code",
   "execution_count": 14,
   "id": "75e35292",
   "metadata": {},
   "outputs": [
    {
     "data": {
      "image/png": "[encoded data removed]",
      "text/plain": [
       "<Figure size 640x480 with 1 Axes>"
      ]
     },
     "metadata": {},
     "output_type": "display_data"
    }
   ],
   "source": [
    "plot_reward_dist(env)"
   ]
  },
  {
   "attachments": {},
   "cell_type": "markdown",
   "id": "9fe8fd95",
   "metadata": {},
   "source": [
    "## Plot complexity, loss, and reward trend ##"
   ]
  },
  {
   "cell_type": "code",
   "execution_count": 15,
   "id": "a9ef4209",
   "metadata": {},
   "outputs": [
    {
     "data": {
      "image/png": "[encoded data removed]",
      "text/plain": [
       "<Figure size 1000x800 with 4 Axes>"
      ]
     },
     "metadata": {},
     "output_type": "display_data"
    }
   ],
   "source": [
    "plot_trends(env)"
   ]
  },
  {
   "attachments": {},
   "cell_type": "markdown",
   "id": "a8d78f8e",
   "metadata": {},
   "source": [
    "## Run trained agent in eval mode ##"
   ]
  },
  {
   "cell_type": "code",
   "execution_count": 9,
   "id": "7d27f11f",
   "metadata": {},
   "outputs": [
    {
     "name": "stdout",
     "output_type": "stream",
     "text": [
      "INFO - 2023-04-21 07:32:28,750 [base.py:214] : Running training routine for 10 episodes in eval=True mode.\n"
     ]
    },
    {
     "name": "stderr",
     "output_type": "stream",
     "text": [
      "{'ep': '10  ', 'step': '2338', 'loop_step': '1597', 'complexity': '5.00e+00', 'loss': '4.51e+00', 'reward': '4.00e+00', 'state': '0                   '}: : 0it [03:05, ?it/s] "
     ]
    },
    {
     "ename": "KeyboardInterrupt",
     "evalue": "",
     "output_type": "error",
     "traceback": [
      "\u001b[1;31m---------------------------------------------------------------------------\u001b[0m",
      "\u001b[1;31mKeyboardInterrupt\u001b[0m                         Traceback (most recent call last)",
      "Cell \u001b[1;32mIn[9], line 1\u001b[0m\n\u001b[1;32m----> 1\u001b[0m agent\u001b[39m.\u001b[39;49mtrain(\u001b[39m10\u001b[39;49m, \u001b[39meval\u001b[39;49m\u001b[39m=\u001b[39;49m\u001b[39mTrue\u001b[39;49;00m)\n",
      "File \u001b[1;32mc:\\users\\bbent\\repos\\rl-equation-solver\\rl_equation_solver\\agent\\base.py:224\u001b[0m, in \u001b[0;36mBaseAgent.train\u001b[1;34m(self, num_episodes, eval, progress_bar)\u001b[0m\n\u001b[0;32m    222\u001b[0m     pbar \u001b[39m=\u001b[39m tqdm(num_episodes)\n\u001b[0;32m    223\u001b[0m \u001b[39mfor\u001b[39;00m _ \u001b[39min\u001b[39;00m \u001b[39mrange\u001b[39m(start, end):\n\u001b[1;32m--> 224\u001b[0m     \u001b[39mself\u001b[39;49m\u001b[39m.\u001b[39;49mrun_episode(\u001b[39meval\u001b[39;49m, pbar\u001b[39m=\u001b[39;49mpbar)\n\u001b[0;32m    225\u001b[0m     \u001b[39mif\u001b[39;00m progress_bar:\n\u001b[0;32m    226\u001b[0m         pbar\u001b[39m.\u001b[39mupdate(\u001b[39m1\u001b[39m)\n",
      "File \u001b[1;32mc:\\users\\bbent\\repos\\rl-equation-solver\\rl_equation_solver\\agent\\base.py:240\u001b[0m, in \u001b[0;36mBaseAgent.run_episode\u001b[1;34m(self, eval, pbar)\u001b[0m\n\u001b[0;32m    237\u001b[0m \u001b[39mfor\u001b[39;00m _ \u001b[39min\u001b[39;00m count():\n\u001b[0;32m    238\u001b[0m     next_state, done \u001b[39m=\u001b[39m \u001b[39mself\u001b[39m\u001b[39m.\u001b[39madd_experience(state, training\u001b[39m=\u001b[39mtraining)\n\u001b[1;32m--> 240\u001b[0m     loss \u001b[39m=\u001b[39m \u001b[39mself\u001b[39;49m\u001b[39m.\u001b[39;49mcompute_batch_loss()\n\u001b[0;32m    242\u001b[0m     \u001b[39mif\u001b[39;00m \u001b[39mnot\u001b[39;00m done \u001b[39mand\u001b[39;00m \u001b[39mnot\u001b[39;00m \u001b[39meval\u001b[39m:\n\u001b[0;32m    243\u001b[0m         \u001b[39mself\u001b[39m\u001b[39m.\u001b[39moptimize_model(loss)\n",
      "File \u001b[1;32mc:\\users\\bbent\\repos\\rl-equation-solver\\rl_equation_solver\\agent\\base.py:167\u001b[0m, in \u001b[0;36mBaseAgent.compute_batch_loss\u001b[1;34m(self)\u001b[0m\n\u001b[0;32m    164\u001b[0m transition \u001b[39m=\u001b[39m \u001b[39mself\u001b[39m\u001b[39m.\u001b[39mmemory\u001b[39m.\u001b[39msample(\u001b[39mself\u001b[39m\u001b[39m.\u001b[39mbatch_size)\n\u001b[0;32m    165\u001b[0m batch \u001b[39m=\u001b[39m \u001b[39mself\u001b[39m\u001b[39m.\u001b[39mbatch_states(transition, device\u001b[39m=\u001b[39m\u001b[39mself\u001b[39m\u001b[39m.\u001b[39mdevice)\n\u001b[1;32m--> 167\u001b[0m state_action_values \u001b[39m=\u001b[39m \u001b[39mself\u001b[39;49m\u001b[39m.\u001b[39;49mcompute_Q(batch)\n\u001b[0;32m    169\u001b[0m expected_state_action_values \u001b[39m=\u001b[39m \u001b[39mself\u001b[39m\u001b[39m.\u001b[39mcompute_expected_Q(batch)\n\u001b[0;32m    171\u001b[0m loss \u001b[39m=\u001b[39m \u001b[39mself\u001b[39m\u001b[39m.\u001b[39mcompute_loss(state_action_values,\n\u001b[0;32m    172\u001b[0m                          expected_state_action_values)\n",
      "File \u001b[1;32mc:\\users\\bbent\\repos\\rl-equation-solver\\rl_equation_solver\\policy\\base.py:94\u001b[0m, in \u001b[0;36mMlpPolicy.compute_Q\u001b[1;34m(self, batch)\u001b[0m\n\u001b[0;32m     89\u001b[0m \u001b[39mdef\u001b[39;00m \u001b[39mcompute_Q\u001b[39m(\u001b[39mself\u001b[39m, batch):\n\u001b[0;32m     90\u001b[0m \u001b[39m    \u001b[39m\u001b[39m\"\"\"\u001b[39;00m\n\u001b[0;32m     91\u001b[0m \u001b[39m    Compute :math:`Q(s_t, a)`. These are the actions which would've\u001b[39;00m\n\u001b[0;32m     92\u001b[0m \u001b[39m    been taken for each batch state according to policy_net\u001b[39;00m\n\u001b[0;32m     93\u001b[0m \u001b[39m    \"\"\"\u001b[39;00m\n\u001b[1;32m---> 94\u001b[0m     \u001b[39mreturn\u001b[39;00m \u001b[39mself\u001b[39;49m\u001b[39m.\u001b[39;49mpolicy_network(batch\u001b[39m.\u001b[39;49mstate_batch) \\\n\u001b[0;32m     95\u001b[0m         \u001b[39m.\u001b[39mgather(\u001b[39m1\u001b[39m, batch\u001b[39m.\u001b[39maction_batch)\n",
      "File \u001b[1;32mc:\\Users\\bbent\\miniconda3\\envs\\rl_solver\\Lib\\site-packages\\torch\\nn\\modules\\module.py:1501\u001b[0m, in \u001b[0;36mModule._call_impl\u001b[1;34m(self, *args, **kwargs)\u001b[0m\n\u001b[0;32m   1496\u001b[0m \u001b[39m# If we don't have any hooks, we want to skip the rest of the logic in\u001b[39;00m\n\u001b[0;32m   1497\u001b[0m \u001b[39m# this function, and just call forward.\u001b[39;00m\n\u001b[0;32m   1498\u001b[0m \u001b[39mif\u001b[39;00m \u001b[39mnot\u001b[39;00m (\u001b[39mself\u001b[39m\u001b[39m.\u001b[39m_backward_hooks \u001b[39mor\u001b[39;00m \u001b[39mself\u001b[39m\u001b[39m.\u001b[39m_backward_pre_hooks \u001b[39mor\u001b[39;00m \u001b[39mself\u001b[39m\u001b[39m.\u001b[39m_forward_hooks \u001b[39mor\u001b[39;00m \u001b[39mself\u001b[39m\u001b[39m.\u001b[39m_forward_pre_hooks\n\u001b[0;32m   1499\u001b[0m         \u001b[39mor\u001b[39;00m _global_backward_pre_hooks \u001b[39mor\u001b[39;00m _global_backward_hooks\n\u001b[0;32m   1500\u001b[0m         \u001b[39mor\u001b[39;00m _global_forward_hooks \u001b[39mor\u001b[39;00m _global_forward_pre_hooks):\n\u001b[1;32m-> 1501\u001b[0m     \u001b[39mreturn\u001b[39;00m forward_call(\u001b[39m*\u001b[39;49margs, \u001b[39m*\u001b[39;49m\u001b[39m*\u001b[39;49mkwargs)\n\u001b[0;32m   1502\u001b[0m \u001b[39m# Do not call functions when jit is used\u001b[39;00m\n\u001b[0;32m   1503\u001b[0m full_backward_hooks, non_full_backward_hooks \u001b[39m=\u001b[39m [], []\n",
      "File \u001b[1;32mc:\\users\\bbent\\repos\\rl-equation-solver\\rl_equation_solver\\agent\\networks.py:76\u001b[0m, in \u001b[0;36mGCN.forward\u001b[1;34m(self, graph)\u001b[0m\n\u001b[0;32m     74\u001b[0m \u001b[39m\u001b[39m\u001b[39m\"\"\"Forward pass for a given state graph or tuple of graphs\"\"\"\u001b[39;00m\n\u001b[0;32m     75\u001b[0m \u001b[39mif\u001b[39;00m \u001b[39misinstance\u001b[39m(graph, (\u001b[39mtuple\u001b[39m, \u001b[39mlist\u001b[39m)):\n\u001b[1;32m---> 76\u001b[0m     \u001b[39mreturn\u001b[39;00m torch\u001b[39m.\u001b[39mcat([\u001b[39mself\u001b[39;49m\u001b[39m.\u001b[39;49m_forward(G) \u001b[39mfor\u001b[39;49;00m G \u001b[39min\u001b[39;49;00m graph])\n\u001b[0;32m     77\u001b[0m \u001b[39melse\u001b[39;00m:\n\u001b[0;32m     78\u001b[0m     \u001b[39mreturn\u001b[39;00m \u001b[39mself\u001b[39m\u001b[39m.\u001b[39m_forward(graph)\n",
      "File \u001b[1;32mc:\\users\\bbent\\repos\\rl-equation-solver\\rl_equation_solver\\agent\\networks.py:76\u001b[0m, in \u001b[0;36m<listcomp>\u001b[1;34m(.0)\u001b[0m\n\u001b[0;32m     74\u001b[0m \u001b[39m\u001b[39m\u001b[39m\"\"\"Forward pass for a given state graph or tuple of graphs\"\"\"\u001b[39;00m\n\u001b[0;32m     75\u001b[0m \u001b[39mif\u001b[39;00m \u001b[39misinstance\u001b[39m(graph, (\u001b[39mtuple\u001b[39m, \u001b[39mlist\u001b[39m)):\n\u001b[1;32m---> 76\u001b[0m     \u001b[39mreturn\u001b[39;00m torch\u001b[39m.\u001b[39mcat([\u001b[39mself\u001b[39;49m\u001b[39m.\u001b[39;49m_forward(G) \u001b[39mfor\u001b[39;00m G \u001b[39min\u001b[39;00m graph])\n\u001b[0;32m     77\u001b[0m \u001b[39melse\u001b[39;00m:\n\u001b[0;32m     78\u001b[0m     \u001b[39mreturn\u001b[39;00m \u001b[39mself\u001b[39m\u001b[39m.\u001b[39m_forward(graph)\n",
      "File \u001b[1;32mc:\\users\\bbent\\repos\\rl-equation-solver\\rl_equation_solver\\agent\\networks.py:69\u001b[0m, in \u001b[0;36mGCN._forward\u001b[1;34m(self, graph)\u001b[0m\n\u001b[0;32m     67\u001b[0m x \u001b[39m=\u001b[39m F\u001b[39m.\u001b[39mrelu(\u001b[39mself\u001b[39m\u001b[39m.\u001b[39mlayer1(x, edge_index))\n\u001b[0;32m     68\u001b[0m x \u001b[39m=\u001b[39m F\u001b[39m.\u001b[39mdropout(x, p\u001b[39m=\u001b[39m\u001b[39mself\u001b[39m\u001b[39m.\u001b[39mdropout, training\u001b[39m=\u001b[39m\u001b[39mself\u001b[39m\u001b[39m.\u001b[39mtraining)\n\u001b[1;32m---> 69\u001b[0m x \u001b[39m=\u001b[39m \u001b[39mself\u001b[39;49m\u001b[39m.\u001b[39;49mlayer2(x, edge_index)\n\u001b[0;32m     70\u001b[0m x \u001b[39m=\u001b[39m torch\u001b[39m.\u001b[39mmatmul(graph\u001b[39m.\u001b[39monehot_values, x)\n\u001b[0;32m     71\u001b[0m \u001b[39mreturn\u001b[39;00m x\n",
      "File \u001b[1;32mc:\\Users\\bbent\\miniconda3\\envs\\rl_solver\\Lib\\site-packages\\torch\\nn\\modules\\module.py:1501\u001b[0m, in \u001b[0;36mModule._call_impl\u001b[1;34m(self, *args, **kwargs)\u001b[0m\n\u001b[0;32m   1496\u001b[0m \u001b[39m# If we don't have any hooks, we want to skip the rest of the logic in\u001b[39;00m\n\u001b[0;32m   1497\u001b[0m \u001b[39m# this function, and just call forward.\u001b[39;00m\n\u001b[0;32m   1498\u001b[0m \u001b[39mif\u001b[39;00m \u001b[39mnot\u001b[39;00m (\u001b[39mself\u001b[39m\u001b[39m.\u001b[39m_backward_hooks \u001b[39mor\u001b[39;00m \u001b[39mself\u001b[39m\u001b[39m.\u001b[39m_backward_pre_hooks \u001b[39mor\u001b[39;00m \u001b[39mself\u001b[39m\u001b[39m.\u001b[39m_forward_hooks \u001b[39mor\u001b[39;00m \u001b[39mself\u001b[39m\u001b[39m.\u001b[39m_forward_pre_hooks\n\u001b[0;32m   1499\u001b[0m         \u001b[39mor\u001b[39;00m _global_backward_pre_hooks \u001b[39mor\u001b[39;00m _global_backward_hooks\n\u001b[0;32m   1500\u001b[0m         \u001b[39mor\u001b[39;00m _global_forward_hooks \u001b[39mor\u001b[39;00m _global_forward_pre_hooks):\n\u001b[1;32m-> 1501\u001b[0m     \u001b[39mreturn\u001b[39;00m forward_call(\u001b[39m*\u001b[39;49margs, \u001b[39m*\u001b[39;49m\u001b[39m*\u001b[39;49mkwargs)\n\u001b[0;32m   1502\u001b[0m \u001b[39m# Do not call functions when jit is used\u001b[39;00m\n\u001b[0;32m   1503\u001b[0m full_backward_hooks, non_full_backward_hooks \u001b[39m=\u001b[39m [], []\n",
      "File \u001b[1;32mc:\\Users\\bbent\\miniconda3\\envs\\rl_solver\\Lib\\site-packages\\torch_geometric\\nn\\conv\\gcn_conv.py:229\u001b[0m, in \u001b[0;36mGCNConv.forward\u001b[1;34m(self, x, edge_index, edge_weight)\u001b[0m\n\u001b[0;32m    226\u001b[0m         \u001b[39melse\u001b[39;00m:\n\u001b[0;32m    227\u001b[0m             edge_index \u001b[39m=\u001b[39m cache\n\u001b[1;32m--> 229\u001b[0m x \u001b[39m=\u001b[39m \u001b[39mself\u001b[39;49m\u001b[39m.\u001b[39;49mlin(x)\n\u001b[0;32m    231\u001b[0m \u001b[39m# propagate_type: (x: Tensor, edge_weight: OptTensor)\u001b[39;00m\n\u001b[0;32m    232\u001b[0m out \u001b[39m=\u001b[39m \u001b[39mself\u001b[39m\u001b[39m.\u001b[39mpropagate(edge_index, x\u001b[39m=\u001b[39mx, edge_weight\u001b[39m=\u001b[39medge_weight,\n\u001b[0;32m    233\u001b[0m                      size\u001b[39m=\u001b[39m\u001b[39mNone\u001b[39;00m)\n",
      "File \u001b[1;32mc:\\Users\\bbent\\miniconda3\\envs\\rl_solver\\Lib\\site-packages\\torch\\nn\\modules\\module.py:1501\u001b[0m, in \u001b[0;36mModule._call_impl\u001b[1;34m(self, *args, **kwargs)\u001b[0m\n\u001b[0;32m   1496\u001b[0m \u001b[39m# If we don't have any hooks, we want to skip the rest of the logic in\u001b[39;00m\n\u001b[0;32m   1497\u001b[0m \u001b[39m# this function, and just call forward.\u001b[39;00m\n\u001b[0;32m   1498\u001b[0m \u001b[39mif\u001b[39;00m \u001b[39mnot\u001b[39;00m (\u001b[39mself\u001b[39m\u001b[39m.\u001b[39m_backward_hooks \u001b[39mor\u001b[39;00m \u001b[39mself\u001b[39m\u001b[39m.\u001b[39m_backward_pre_hooks \u001b[39mor\u001b[39;00m \u001b[39mself\u001b[39m\u001b[39m.\u001b[39m_forward_hooks \u001b[39mor\u001b[39;00m \u001b[39mself\u001b[39m\u001b[39m.\u001b[39m_forward_pre_hooks\n\u001b[0;32m   1499\u001b[0m         \u001b[39mor\u001b[39;00m _global_backward_pre_hooks \u001b[39mor\u001b[39;00m _global_backward_hooks\n\u001b[0;32m   1500\u001b[0m         \u001b[39mor\u001b[39;00m _global_forward_hooks \u001b[39mor\u001b[39;00m _global_forward_pre_hooks):\n\u001b[1;32m-> 1501\u001b[0m     \u001b[39mreturn\u001b[39;00m forward_call(\u001b[39m*\u001b[39;49margs, \u001b[39m*\u001b[39;49m\u001b[39m*\u001b[39;49mkwargs)\n\u001b[0;32m   1502\u001b[0m \u001b[39m# Do not call functions when jit is used\u001b[39;00m\n\u001b[0;32m   1503\u001b[0m full_backward_hooks, non_full_backward_hooks \u001b[39m=\u001b[39m [], []\n",
      "File \u001b[1;32mc:\\Users\\bbent\\miniconda3\\envs\\rl_solver\\Lib\\site-packages\\torch_geometric\\nn\\dense\\linear.py:132\u001b[0m, in \u001b[0;36mLinear.forward\u001b[1;34m(self, x)\u001b[0m\n\u001b[0;32m    127\u001b[0m \u001b[39mdef\u001b[39;00m \u001b[39mforward\u001b[39m(\u001b[39mself\u001b[39m, x: Tensor) \u001b[39m-\u001b[39m\u001b[39m>\u001b[39m Tensor:\n\u001b[0;32m    128\u001b[0m \u001b[39m    \u001b[39m\u001b[39mr\u001b[39m\u001b[39m\"\"\"\u001b[39;00m\n\u001b[0;32m    129\u001b[0m \u001b[39m    Args:\u001b[39;00m\n\u001b[0;32m    130\u001b[0m \u001b[39m        x (torch.Tensor): The input features.\u001b[39;00m\n\u001b[0;32m    131\u001b[0m \u001b[39m    \"\"\"\u001b[39;00m\n\u001b[1;32m--> 132\u001b[0m     \u001b[39mreturn\u001b[39;00m F\u001b[39m.\u001b[39;49mlinear(x, \u001b[39mself\u001b[39;49m\u001b[39m.\u001b[39;49mweight, \u001b[39mself\u001b[39;49m\u001b[39m.\u001b[39;49mbias)\n",
      "\u001b[1;31mKeyboardInterrupt\u001b[0m: "
     ]
    }
   ],
   "source": [
    "agent.train(10, eval=True)"
   ]
  },
  {
   "cell_type": "code",
   "execution_count": 18,
   "id": "f7123b39",
   "metadata": {},
   "outputs": [
    {
     "name": "stdout",
     "output_type": "stream",
     "text": [
      "-a1/a0\n",
      "117.0\n"
     ]
    }
   ],
   "source": [
    "history = env.best_history\n",
    "best_i = np.argmax(history[\"reward\"])\n",
    "print(parse_expr(str(history[\"state\"][best_i])))\n",
    "print(history[\"reward\"][best_i])"
   ]
  },
  {
   "attachments": {},
   "cell_type": "markdown",
   "id": "7db5eee4",
   "metadata": {},
   "source": [
    "## Plot reward distribution for trained agent ##"
   ]
  },
  {
   "cell_type": "code",
   "execution_count": 22,
   "id": "b822e395",
   "metadata": {},
   "outputs": [
    {
     "ename": "TypeError",
     "evalue": "can't convert cuda:0 device type tensor to numpy. Use Tensor.cpu() to copy the tensor to host memory first.",
     "output_type": "error",
     "traceback": [
      "\u001b[1;31m---------------------------------------------------------------------------\u001b[0m",
      "\u001b[1;31mTypeError\u001b[0m                                 Traceback (most recent call last)",
      "Cell \u001b[1;32mIn[22], line 1\u001b[0m\n\u001b[1;32m----> 1\u001b[0m plot_reward_dist(env)\n",
      "Cell \u001b[1;32mIn[4], line 4\u001b[0m, in \u001b[0;36mplot_reward_dist\u001b[1;34m(env)\u001b[0m\n\u001b[0;32m      2\u001b[0m \u001b[39mdef\u001b[39;00m \u001b[39mplot_reward_dist\u001b[39m(env):\n\u001b[0;32m      3\u001b[0m     _, ax \u001b[39m=\u001b[39m plt\u001b[39m.\u001b[39msubplots(\u001b[39m1\u001b[39m, \u001b[39m1\u001b[39m)\n\u001b[1;32m----> 4\u001b[0m     ax\u001b[39m.\u001b[39mhist(env\u001b[39m.\u001b[39;49mbest_history[\u001b[39m'\u001b[39m\u001b[39mreward\u001b[39m\u001b[39m'\u001b[39m])\n\u001b[0;32m      5\u001b[0m     ax\u001b[39m.\u001b[39mset_ylabel(\u001b[39m'\u001b[39m\u001b[39mCount\u001b[39m\u001b[39m'\u001b[39m)\n\u001b[0;32m      6\u001b[0m     ax\u001b[39m.\u001b[39mset_xlabel(\u001b[39m'\u001b[39m\u001b[39mReward\u001b[39m\u001b[39m'\u001b[39m)\n",
      "File \u001b[1;32mc:\\users\\bbent\\repos\\rl-equation-solver\\rl_equation_solver\\utilities\\history.py:91\u001b[0m, in \u001b[0;36mHistory.best_history\u001b[1;34m(self)\u001b[0m\n\u001b[0;32m     89\u001b[0m     out[k]\u001b[39m.\u001b[39mappend(series[k][best_i])\n\u001b[0;32m     90\u001b[0m \u001b[39melif\u001b[39;00m k \u001b[39min\u001b[39;00m (\u001b[39m'\u001b[39m\u001b[39mloss\u001b[39m\u001b[39m'\u001b[39m, \u001b[39m'\u001b[39m\u001b[39mcomplexity\u001b[39m\u001b[39m'\u001b[39m):\n\u001b[1;32m---> 91\u001b[0m     out[k]\u001b[39m.\u001b[39mappend(np\u001b[39m.\u001b[39;49mnanmin(series[k]))\n\u001b[0;32m     92\u001b[0m \u001b[39melse\u001b[39;00m:\n\u001b[0;32m     93\u001b[0m     out[k]\u001b[39m.\u001b[39mappend(np\u001b[39m.\u001b[39mnanmax(series[k]))\n",
      "File \u001b[1;32m<__array_function__ internals>:200\u001b[0m, in \u001b[0;36mnanmin\u001b[1;34m(*args, **kwargs)\u001b[0m\n",
      "File \u001b[1;32mc:\\Users\\bbent\\miniconda3\\envs\\rl_solver\\Lib\\site-packages\\numpy\\lib\\nanfunctions.py:349\u001b[0m, in \u001b[0;36mnanmin\u001b[1;34m(a, axis, out, keepdims, initial, where)\u001b[0m\n\u001b[0;32m    345\u001b[0m         warnings\u001b[39m.\u001b[39mwarn(\u001b[39m\"\u001b[39m\u001b[39mAll-NaN slice encountered\u001b[39m\u001b[39m\"\u001b[39m, \u001b[39mRuntimeWarning\u001b[39;00m,\n\u001b[0;32m    346\u001b[0m                       stacklevel\u001b[39m=\u001b[39m\u001b[39m3\u001b[39m)\n\u001b[0;32m    347\u001b[0m \u001b[39melse\u001b[39;00m:\n\u001b[0;32m    348\u001b[0m     \u001b[39m# Slow, but safe for subclasses of ndarray\u001b[39;00m\n\u001b[1;32m--> 349\u001b[0m     a, mask \u001b[39m=\u001b[39m _replace_nan(a, \u001b[39m+\u001b[39;49mnp\u001b[39m.\u001b[39;49minf)\n\u001b[0;32m    350\u001b[0m     res \u001b[39m=\u001b[39m np\u001b[39m.\u001b[39mamin(a, axis\u001b[39m=\u001b[39maxis, out\u001b[39m=\u001b[39mout, \u001b[39m*\u001b[39m\u001b[39m*\u001b[39mkwargs)\n\u001b[0;32m    351\u001b[0m     \u001b[39mif\u001b[39;00m mask \u001b[39mis\u001b[39;00m \u001b[39mNone\u001b[39;00m:\n",
      "File \u001b[1;32mc:\\Users\\bbent\\miniconda3\\envs\\rl_solver\\Lib\\site-packages\\numpy\\lib\\nanfunctions.py:96\u001b[0m, in \u001b[0;36m_replace_nan\u001b[1;34m(a, val)\u001b[0m\n\u001b[0;32m     68\u001b[0m \u001b[39mdef\u001b[39;00m \u001b[39m_replace_nan\u001b[39m(a, val):\n\u001b[0;32m     69\u001b[0m \u001b[39m    \u001b[39m\u001b[39m\"\"\"\u001b[39;00m\n\u001b[0;32m     70\u001b[0m \u001b[39m    If `a` is of inexact type, make a copy of `a`, replace NaNs with\u001b[39;00m\n\u001b[0;32m     71\u001b[0m \u001b[39m    the `val` value, and return the copy together with a boolean mask\u001b[39;00m\n\u001b[1;32m   (...)\u001b[0m\n\u001b[0;32m     94\u001b[0m \n\u001b[0;32m     95\u001b[0m \u001b[39m    \"\"\"\u001b[39;00m\n\u001b[1;32m---> 96\u001b[0m     a \u001b[39m=\u001b[39m np\u001b[39m.\u001b[39masanyarray(a)\n\u001b[0;32m     98\u001b[0m     \u001b[39mif\u001b[39;00m a\u001b[39m.\u001b[39mdtype \u001b[39m==\u001b[39m np\u001b[39m.\u001b[39mobject_:\n\u001b[0;32m     99\u001b[0m         \u001b[39m# object arrays do not support `isnan` (gh-9009), so make a guess\u001b[39;00m\n\u001b[0;32m    100\u001b[0m         mask \u001b[39m=\u001b[39m np\u001b[39m.\u001b[39mnot_equal(a, a, dtype\u001b[39m=\u001b[39m\u001b[39mbool\u001b[39m)\n",
      "File \u001b[1;32mc:\\Users\\bbent\\miniconda3\\envs\\rl_solver\\Lib\\site-packages\\torch\\_tensor.py:970\u001b[0m, in \u001b[0;36mTensor.__array__\u001b[1;34m(self, dtype)\u001b[0m\n\u001b[0;32m    968\u001b[0m     \u001b[39mreturn\u001b[39;00m handle_torch_function(Tensor\u001b[39m.\u001b[39m__array__, (\u001b[39mself\u001b[39m,), \u001b[39mself\u001b[39m, dtype\u001b[39m=\u001b[39mdtype)\n\u001b[0;32m    969\u001b[0m \u001b[39mif\u001b[39;00m dtype \u001b[39mis\u001b[39;00m \u001b[39mNone\u001b[39;00m:\n\u001b[1;32m--> 970\u001b[0m     \u001b[39mreturn\u001b[39;00m \u001b[39mself\u001b[39;49m\u001b[39m.\u001b[39;49mnumpy()\n\u001b[0;32m    971\u001b[0m \u001b[39melse\u001b[39;00m:\n\u001b[0;32m    972\u001b[0m     \u001b[39mreturn\u001b[39;00m \u001b[39mself\u001b[39m\u001b[39m.\u001b[39mnumpy()\u001b[39m.\u001b[39mastype(dtype, copy\u001b[39m=\u001b[39m\u001b[39mFalse\u001b[39;00m)\n",
      "\u001b[1;31mTypeError\u001b[0m: can't convert cuda:0 device type tensor to numpy. Use Tensor.cpu() to copy the tensor to host memory first."
     ]
    },
    {
     "data": {
      "image/png": "[encoded data removed]",
      "text/plain": [
       "<Figure size 640x480 with 1 Axes>"
      ]
     },
     "metadata": {},
     "output_type": "display_data"
    }
   ],
   "source": [
    "plot_reward_dist(env)"
   ]
  },
  {
   "attachments": {},
   "cell_type": "markdown",
   "id": "77b6ce36",
   "metadata": {},
   "source": [
    "## Render final state graph ##"
   ]
  },
  {
   "cell_type": "code",
   "execution_count": 20,
   "id": "b7b6ec0e",
   "metadata": {},
   "outputs": [
    {
     "data": {
      "image/png": "[encoded data removed]",
      "text/plain": [
       "<Figure size 640x480 with 1 Axes>"
      ]
     },
     "metadata": {},
     "output_type": "display_data"
    }
   ],
   "source": [
    "nx.draw(env.state_graph, labels=env.node_labels)"
   ]
  },
  {
   "cell_type": "code",
   "execution_count": 25,
   "id": "b7014fa1",
   "metadata": {},
   "outputs": [
    {
     "data": {
      "image/png": "[encoded data removed]",
      "text/plain": [
       "<Figure size 640x480 with 1 Axes>"
      ]
     },
     "metadata": {},
     "output_type": "display_data"
    }
   ],
   "source": [
    "nx.draw(utilities.to_graph(env.history[9][\"state\"][-1], env.feature_dict))"
   ]
  },
  {
   "attachments": {},
   "cell_type": "markdown",
   "id": "3e11dc81",
   "metadata": {},
   "source": [
    "## Run new Agent in eval mode ##"
   ]
  },
  {
   "cell_type": "code",
   "execution_count": 150,
   "id": "9909c589",
   "metadata": {},
   "outputs": [
    {
     "name": "stdout",
     "output_type": "stream",
     "text": [
      "INFO - 2023-04-17 13:10:35,160 [algebraic.py:112] : Initializing environment with order=2, |S| = 11 x 64 = 704\n",
      "INFO - 2023-04-17 13:10:35,163 [gcn.py:37] : Initialized Agent with device cuda:0\n",
      "INFO - 2023-04-17 13:10:35,169 [base.py:298] : Running training routine for 30 episodes in eval=True mode.\n",
      "INFO - 2023-04-17 13:10:35,194 [history.py:76] : \n",
      "{'ep': 0, 'step': 1, 'complexity': 14.0, 'loss': 'nan', 'reward': '-8.000e+00', 'state': 1/a1, 'approx': a0/a1 + a1}\n",
      "INFO - 2023-04-17 13:10:35,196 [base.py:347] : \n",
      "Solver terminated after 3 steps: total_reward = -1.700e+01, mean_loss = nan, state = 1/a1\n",
      "INFO - 2023-04-17 13:10:35,306 [history.py:76] : \n",
      "{'ep': 1, 'step': 8, 'complexity': 18.0, 'loss': 'nan', 'reward': '-4.000e+00', 'state': a0 - a1, 'approx': a0*(a0 - a1) + a1}\n",
      "INFO - 2023-04-17 13:10:35,309 [base.py:347] : \n",
      "Solver terminated after 8 steps: total_reward = -1.700e+01, mean_loss = nan, state = a0 - a1\n",
      "INFO - 2023-04-17 13:10:35,344 [history.py:76] : \n",
      "{'ep': 2, 'step': 11, 'complexity': 18.0, 'loss': 'nan', 'reward': '-4.000e+00', 'state': (1/a1)**a1, 'approx': a0*(1/a1)**a1 + a1}\n",
      "INFO - 2023-04-17 13:10:35,346 [base.py:347] : \n",
      "Solver terminated after 4 steps: total_reward = -1.700e+01, mean_loss = nan, state = (1/a1)**a1\n",
      "INFO - 2023-04-17 13:10:35,369 [history.py:76] : \n",
      "{'ep': 3, 'step': 13, 'complexity': 14.0, 'loss': 'nan', 'reward': '-8.000e+00', 'state': 1/a1, 'approx': a0/a1 + a1}\n",
      "INFO - 2023-04-17 13:10:35,376 [base.py:347] : \n",
      "Solver terminated after 3 steps: total_reward = -1.700e+01, mean_loss = nan, state = 1/a1\n",
      "INFO - 2023-04-17 13:10:35,482 [history.py:76] : \n",
      "{'ep': 4, 'step': 20, 'complexity': 18.0, 'loss': 'nan', 'reward': '-4.000e+00', 'state': a0 - a1, 'approx': a0*(a0 - a1) + a1}\n",
      "INFO - 2023-04-17 13:10:35,485 [base.py:347] : \n",
      "Solver terminated after 8 steps: total_reward = -1.700e+01, mean_loss = nan, state = a0 - a1\n",
      "INFO - 2023-04-17 13:10:35,568 [history.py:76] : \n",
      "{'ep': 5, 'step': 26, 'complexity': 19.0, 'loss': 'nan', 'reward': '-4.000e+00', 'state': 2*a0 + a1, 'approx': a0*(2*a0 + a1) + a1}\n",
      "INFO - 2023-04-17 13:10:35,572 [base.py:347] : \n",
      "Solver terminated after 7 steps: total_reward = -1.800e+01, mean_loss = nan, state = 2*a0 + a1\n",
      "INFO - 2023-04-17 13:10:35,622 [history.py:76] : \n",
      "{'ep': 6, 'step': 30, 'complexity': 19.0, 'loss': 'nan', 'reward': '-4.000e+00', 'state': 2**a0 + a0, 'approx': a0*(2**a0 + a0) + a1}\n",
      "INFO - 2023-04-17 13:10:35,626 [base.py:347] : \n",
      "Solver terminated after 5 steps: total_reward = -1.800e+01, mean_loss = nan, state = 2**a0 + a0\n",
      "INFO - 2023-04-17 13:10:35,774 [history.py:76] : \n",
      "{'ep': 7, 'step': 33, 'complexity': 18.0, 'loss': 'nan', 'reward': '-4.000e+00', 'state': (1/a1)**a1, 'approx': a0*(1/a1)**a1 + a1}\n",
      "INFO - 2023-04-17 13:10:35,812 [base.py:347] : \n",
      "Solver terminated after 4 steps: total_reward = -1.700e+01, mean_loss = 4.292e+00, state = (1/a1)**a1\n",
      "INFO - 2023-04-17 13:10:35,885 [history.py:76] : \n",
      "{'ep': 8, 'step': 35, 'complexity': 14.0, 'loss': 'nan', 'reward': '-8.000e+00', 'state': 1/a1, 'approx': a0/a1 + a1}\n",
      "INFO - 2023-04-17 13:10:35,929 [base.py:347] : \n",
      "Solver terminated after 3 steps: total_reward = -1.700e+01, mean_loss = 4.537e+00, state = 1/a1\n",
      "INFO - 2023-04-17 13:10:36,069 [history.py:76] : \n",
      "{'ep': 9, 'step': 38, 'complexity': 18.0, 'loss': 'nan', 'reward': '-4.000e+00', 'state': (1/a1)**a1, 'approx': a0*(1/a1)**a1 + a1}\n",
      "INFO - 2023-04-17 13:10:36,114 [base.py:347] : \n",
      "Solver terminated after 4 steps: total_reward = -1.700e+01, mean_loss = 4.623e+00, state = (1/a1)**a1\n",
      "INFO - 2023-04-17 13:10:36,258 [history.py:76] : \n",
      "{'ep': 10, 'step': 41, 'complexity': 18.0, 'loss': 'nan', 'reward': '-4.000e+00', 'state': (a0 + 1)**a1, 'approx': a0*(a0 + 1)**a1 + a1}\n",
      "INFO - 2023-04-17 13:10:36,300 [base.py:347] : \n",
      "Solver terminated after 4 steps: total_reward = -1.700e+01, mean_loss = 4.455e+00, state = (a0 + 1)**a1\n",
      "INFO - 2023-04-17 13:10:36,571 [history.py:76] : \n",
      "{'ep': 11, 'step': 46, 'complexity': 18.0, 'loss': 'nan', 'reward': '-4.000e+00', 'state': (1/a1)**a1, 'approx': a0*(1/a1)**a1 + a1}\n",
      "INFO - 2023-04-17 13:10:36,610 [base.py:347] : \n",
      "Solver terminated after 6 steps: total_reward = -1.700e+01, mean_loss = 4.391e+00, state = (1/a1)**a1\n",
      "INFO - 2023-04-17 13:10:36,873 [history.py:76] : \n",
      "{'ep': 12, 'step': 51, 'complexity': 18.0, 'loss': 'nan', 'reward': '-4.000e+00', 'state': (1/a1)**a1, 'approx': a0*(1/a1)**a1 + a1}\n",
      "INFO - 2023-04-17 13:10:36,910 [base.py:347] : \n",
      "Solver terminated after 6 steps: total_reward = -1.700e+01, mean_loss = 4.265e+00, state = (1/a1)**a1\n",
      "INFO - 2023-04-17 13:10:37,169 [history.py:76] : \n",
      "{'ep': 13, 'step': 56, 'complexity': 17, 'loss': 'nan', 'reward': '-4.000e+00', 'state': (a1**a0)**a1, 'approx': a0*(a1**a0)**a1 + a1}\n",
      "INFO - 2023-04-17 13:10:37,212 [base.py:347] : \n",
      "Solver terminated after 6 steps: total_reward = -1.600e+01, mean_loss = 4.378e+00, state = (a1**a0)**a1\n",
      "INFO - 2023-04-17 13:10:37,474 [history.py:76] : \n",
      "{'ep': 14, 'step': 61, 'complexity': 18.0, 'loss': 'nan', 'reward': '-4.000e+00', 'state': (1/a1)**a1, 'approx': a0*(1/a1)**a1 + a1}\n",
      "INFO - 2023-04-17 13:10:37,518 [base.py:347] : \n",
      "Solver terminated after 6 steps: total_reward = -1.700e+01, mean_loss = 3.985e+00, state = (1/a1)**a1\n",
      "INFO - 2023-04-17 13:10:37,656 [history.py:76] : \n",
      "{'ep': 15, 'step': 64, 'complexity': 18.0, 'loss': 'nan', 'reward': '-4.000e+00', 'state': (1/a1)**a1, 'approx': a0*(1/a1)**a1 + a1}\n",
      "INFO - 2023-04-17 13:10:37,697 [base.py:347] : \n",
      "Solver terminated after 4 steps: total_reward = -1.700e+01, mean_loss = 4.164e+00, state = (1/a1)**a1\n",
      "INFO - 2023-04-17 13:10:38,277 [history.py:76] : \n",
      "{'ep': 16, 'step': 74, 'complexity': 18.0, 'loss': 'nan', 'reward': '-4.000e+00', 'state': (1/a1)**a1, 'approx': a0*(1/a1)**a1 + a1}\n",
      "INFO - 2023-04-17 13:10:38,316 [base.py:347] : \n",
      "Solver terminated after 11 steps: total_reward = -1.700e+01, mean_loss = 3.768e+00, state = (1/a1)**a1\n",
      "INFO - 2023-04-17 13:10:38,718 [history.py:76] : \n",
      "{'ep': 17, 'step': 81, 'complexity': 18.0, 'loss': 'nan', 'reward': '1.700e+01', 'state': a0 - a1, 'approx': a0*(a0 - a1) + a1}\n",
      "INFO - 2023-04-17 13:10:38,759 [base.py:347] : \n",
      "Solver terminated after 8 steps: total_reward = 4.000e+00, mean_loss = 3.300e+00, state = a0 - a1\n",
      "INFO - 2023-04-17 13:10:39,616 [history.py:76] : \n",
      "{'ep': 18, 'step': 95, 'complexity': 18.0, 'loss': 'nan', 'reward': '-4.000e+00', 'state': (1/a1)**a1, 'approx': a0*(1/a1)**a1 + a1}\n",
      "INFO - 2023-04-17 13:10:39,655 [base.py:347] : \n",
      "Solver terminated after 15 steps: total_reward = -1.700e+01, mean_loss = 3.186e+00, state = (1/a1)**a1\n",
      "INFO - 2023-04-17 13:10:40,070 [history.py:76] : \n",
      "{'ep': 19, 'step': 102, 'complexity': 18.0, 'loss': 'nan', 'reward': '-4.000e+00', 'state': -a1 - 1, 'approx': a0*(-a1 - 1) + a1}\n",
      "INFO - 2023-04-17 13:10:40,110 [base.py:347] : \n",
      "Solver terminated after 8 steps: total_reward = -1.700e+01, mean_loss = 3.417e+00, state = -a1 - 1\n",
      "INFO - 2023-04-17 13:10:40,906 [history.py:76] : \n",
      "{'ep': 20, 'step': 115, 'complexity': 20.0, 'loss': 'nan', 'reward': '-4.000e+00', 'state': a0 - a1 - 1, 'approx': a0*(a0 - a1 - 1) + a1}\n",
      "INFO - 2023-04-17 13:10:40,947 [base.py:347] : \n",
      "Solver terminated after 14 steps: total_reward = -1.900e+01, mean_loss = 3.069e+00, state = a0 - a1 - 1\n",
      "INFO - 2023-04-17 13:10:41,845 [history.py:76] : \n",
      "{'ep': 21, 'step': 129, 'complexity': 20.0, 'loss': 'nan', 'reward': '-4.000e+00', 'state': (a0 + a1 - 1)**a0, 'approx': a0*(a0 + a1 - 1)**a0 + a1}\n",
      "INFO - 2023-04-17 13:10:41,885 [base.py:347] : \n",
      "Solver terminated after 15 steps: total_reward = -1.900e+01, mean_loss = 2.593e+00, state = (a0 + a1 - 1)**a0\n",
      "INFO - 2023-04-17 13:10:42,652 [history.py:76] : \n",
      "{'ep': 22, 'step': 141, 'complexity': 21.0, 'loss': 'nan', 'reward': '-4.000e+00', 'state': (a0 + a1 - 2)**a0, 'approx': a0*(a0 + a1 - 2)**a0 + a1}\n",
      "INFO - 2023-04-17 13:10:42,696 [base.py:347] : \n",
      "Solver terminated after 13 steps: total_reward = -2.000e+01, mean_loss = 2.659e+00, state = (a0 + a1 - 2)**a0\n",
      "INFO - 2023-04-17 13:10:43,048 [history.py:76] : \n",
      "{'ep': 23, 'step': 147, 'complexity': 18.0, 'loss': 'nan', 'reward': '-4.000e+00', 'state': (a0 + 1)**a0, 'approx': a0*(a0 + 1)**a0 + a1}\n",
      "INFO - 2023-04-17 13:10:43,091 [base.py:347] : \n",
      "Solver terminated after 7 steps: total_reward = -1.700e+01, mean_loss = 2.606e+00, state = (a0 + 1)**a0\n",
      "INFO - 2023-04-17 13:10:44,089 [history.py:76] : \n",
      "{'ep': 24, 'step': 163, 'complexity': 16.0, 'loss': 'nan', 'reward': '-6.000e+00', 'state': -1/a1, 'approx': -a0/a1 + a1}\n",
      "INFO - 2023-04-17 13:10:44,131 [base.py:347] : \n",
      "Solver terminated after 17 steps: total_reward = -1.700e+01, mean_loss = 2.617e+00, state = -1/a1\n",
      "INFO - 2023-04-17 13:10:44,937 [history.py:76] : \n",
      "{'ep': 25, 'step': 176, 'complexity': 18.0, 'loss': 'nan', 'reward': '-6.000e+00', 'state': a0**a1 - 1, 'approx': a0*(a0**a1 - 1) + a1}\n",
      "INFO - 2023-04-17 13:10:44,979 [base.py:347] : \n",
      "Solver terminated after 14 steps: total_reward = -1.900e+01, mean_loss = 2.578e+00, state = a0**a1 - 1\n",
      "INFO - 2023-04-17 13:10:45,057 [history.py:76] : \n",
      "{'ep': 26, 'step': 178, 'complexity': 19.0, 'loss': 'nan', 'reward': '-4.000e+00', 'state': 1 - a1, 'approx': a0*(1 - a1) + a1}\n",
      "INFO - 2023-04-17 13:10:45,096 [base.py:347] : \n",
      "Solver terminated after 3 steps: total_reward = -1.800e+01, mean_loss = 2.336e+00, state = 1 - a1\n",
      "INFO - 2023-04-17 13:10:47,350 [history.py:76] : \n",
      "{'ep': 27, 'step': 211, 'complexity': 24.0, 'loss': 'nan', 'reward': '-4.000e+00', 'state': a0 - a1 - 4, 'approx': a0*(a0 - a1 - 4) + a1}\n",
      "INFO - 2023-04-17 13:10:47,395 [base.py:347] : \n",
      "Solver terminated after 34 steps: total_reward = -2.300e+01, mean_loss = 2.430e+00, state = a0 - a1 - 4\n",
      "INFO - 2023-04-17 13:10:47,821 [history.py:76] : \n",
      "{'ep': 28, 'step': 218, 'complexity': 18.0, 'loss': 'nan', 'reward': '-9.000e+00', 'state': (a0 + 1)**a0, 'approx': a0*(a0 + 1)**a0 + a1}\n",
      "INFO - 2023-04-17 13:10:47,862 [base.py:347] : \n",
      "Solver terminated after 8 steps: total_reward = -2.200e+01, mean_loss = 2.346e+00, state = (a0 + 1)**a0\n",
      "INFO - 2023-04-17 13:10:49,330 [history.py:76] : \n",
      "{'ep': 29, 'step': 241, 'complexity': 21.0, 'loss': 'nan', 'reward': '-2.000e+00', 'state': a0/a1**2, 'approx': a0**2/a1**2 + a1}\n",
      "INFO - 2023-04-17 13:10:49,375 [base.py:347] : \n",
      "Solver terminated after 24 steps: total_reward = -1.800e+01, mean_loss = 2.090e+00, state = a0/a1**2\n"
     ]
    }
   ],
   "source": [
    "env = Env(order=2)\n",
    "agent = AgentGCN(env, device=\"cuda:0\")\n",
    "agent.train(30, eval=True)"
   ]
  },
  {
   "attachments": {},
   "cell_type": "markdown",
   "id": "45000e58",
   "metadata": {},
   "source": [
    "## Plot reward distribution for untrained agent ##"
   ]
  },
  {
   "cell_type": "code",
   "execution_count": 151,
   "id": "89f1b142",
   "metadata": {},
   "outputs": [
    {
     "data": {
      "image/png": "[encoded data removed]",
      "text/plain": [
       "<Figure size 640x480 with 1 Axes>"
      ]
     },
     "metadata": {},
     "output_type": "display_data"
    }
   ],
   "source": [
    "plot_reward_dist(env)"
   ]
  }
 ],
 "metadata": {
  "kernelspec": {
   "display_name": "ML_algebra",
   "language": "python",
   "name": "python3"
  },
  "language_info": {
   "codemirror_mode": {
    "name": "ipython",
    "version": 3
   },
   "file_extension": ".py",
   "mimetype": "text/x-python",
   "name": "python",
   "nbconvert_exporter": "python",
   "pygments_lexer": "ipython3",
   "version": "3.11.2"
  },
  "vscode": {
   "interpreter": {
    "hash": "0ce1a643ee56093b1be82db4e97db7e5d1a45bca875c4073dec42b817d93e5d8"
   }
  }
 },
 "nbformat": 4,
 "nbformat_minor": 5
}
